{
 "cells": [
  {
   "cell_type": "code",
   "execution_count": 1,
   "metadata": {},
   "outputs": [],
   "source": [
    "# importing the required libraries\n",
    "import pandas as pd\n",
    "import numpy as np\n",
    "\n",
    "import matplotlib.pyplot as plt\n",
    "%matplotlib inline\n",
    "import seaborn as sns\n",
    "from tqdm import tqdm\n",
    "from tqdm import tqdm_notebook\n",
    "\n",
    "from datetime import timedelta\n",
    "\n",
    "from sklearn.ensemble import RandomForestRegressor\n",
    "from sklearn.metrics import mean_squared_log_error as msle\n",
    "from sklearn.tree import DecisionTreeRegressor\n",
    "import xgboost as xgb\n",
    "from catboost import CatBoostRegressor\n",
    "from tqdm import tqdm\n",
    "from datetime import timedelta\n",
    "\n",
    "import warnings\n",
    "warnings.filterwarnings('ignore')\n"
   ]
  },
  {
   "cell_type": "code",
   "execution_count": 2,
   "metadata": {},
   "outputs": [],
   "source": [
    "# Read the updated data into model.\n",
    "train_data = pd.read_csv('data/salesdf.csv')\n",
    "product_data = pd.read_csv('data/productsdf.csv')\n",
    "store_data = pd.read_csv('data/storesdf.csv')"
   ]
  },
  {
   "cell_type": "code",
   "execution_count": 3,
   "metadata": {},
   "outputs": [
    {
     "data": {
      "text/html": [
       "<div>\n",
       "<style scoped>\n",
       "    .dataframe tbody tr th:only-of-type {\n",
       "        vertical-align: middle;\n",
       "    }\n",
       "\n",
       "    .dataframe tbody tr th {\n",
       "        vertical-align: top;\n",
       "    }\n",
       "\n",
       "    .dataframe thead th {\n",
       "        text-align: right;\n",
       "    }\n",
       "</style>\n",
       "<table border=\"1\" class=\"dataframe\">\n",
       "  <thead>\n",
       "    <tr style=\"text-align: right;\">\n",
       "      <th></th>\n",
       "      <th>WEEK_END_DATE</th>\n",
       "      <th>STORE_NUM</th>\n",
       "      <th>UPC</th>\n",
       "      <th>BASE_PRICE</th>\n",
       "      <th>FEATURE</th>\n",
       "      <th>DISPLAY</th>\n",
       "      <th>UNITS</th>\n",
       "    </tr>\n",
       "  </thead>\n",
       "  <tbody>\n",
       "    <tr>\n",
       "      <td>0</td>\n",
       "      <td>14-Jan-09</td>\n",
       "      <td>367</td>\n",
       "      <td>1111009477</td>\n",
       "      <td>1.57</td>\n",
       "      <td>0</td>\n",
       "      <td>0</td>\n",
       "      <td>13</td>\n",
       "    </tr>\n",
       "    <tr>\n",
       "      <td>1</td>\n",
       "      <td>14-Jan-09</td>\n",
       "      <td>367</td>\n",
       "      <td>1111009497</td>\n",
       "      <td>1.39</td>\n",
       "      <td>0</td>\n",
       "      <td>0</td>\n",
       "      <td>20</td>\n",
       "    </tr>\n",
       "    <tr>\n",
       "      <td>2</td>\n",
       "      <td>14-Jan-09</td>\n",
       "      <td>367</td>\n",
       "      <td>1111085319</td>\n",
       "      <td>1.88</td>\n",
       "      <td>0</td>\n",
       "      <td>0</td>\n",
       "      <td>14</td>\n",
       "    </tr>\n",
       "    <tr>\n",
       "      <td>3</td>\n",
       "      <td>14-Jan-09</td>\n",
       "      <td>367</td>\n",
       "      <td>1111085345</td>\n",
       "      <td>1.88</td>\n",
       "      <td>0</td>\n",
       "      <td>0</td>\n",
       "      <td>29</td>\n",
       "    </tr>\n",
       "    <tr>\n",
       "      <td>4</td>\n",
       "      <td>14-Jan-09</td>\n",
       "      <td>367</td>\n",
       "      <td>1111085350</td>\n",
       "      <td>1.98</td>\n",
       "      <td>0</td>\n",
       "      <td>0</td>\n",
       "      <td>35</td>\n",
       "    </tr>\n",
       "  </tbody>\n",
       "</table>\n",
       "</div>"
      ],
      "text/plain": [
       "  WEEK_END_DATE  STORE_NUM         UPC  BASE_PRICE  FEATURE  DISPLAY  UNITS\n",
       "0     14-Jan-09        367  1111009477        1.57        0        0     13\n",
       "1     14-Jan-09        367  1111009497        1.39        0        0     20\n",
       "2     14-Jan-09        367  1111085319        1.88        0        0     14\n",
       "3     14-Jan-09        367  1111085345        1.88        0        0     29\n",
       "4     14-Jan-09        367  1111085350        1.98        0        0     35"
      ]
     },
     "execution_count": 3,
     "metadata": {},
     "output_type": "execute_result"
    }
   ],
   "source": [
    "train_data.head()"
   ]
  },
  {
   "cell_type": "code",
   "execution_count": 4,
   "metadata": {},
   "outputs": [],
   "source": [
    "# Convert the WEEK_END_DATE to datetime.\n",
    "train_data['WEEK_END_DATE'] = pd.to_datetime(train_data['WEEK_END_DATE'])"
   ]
  },
  {
   "cell_type": "code",
   "execution_count": 5,
   "metadata": {},
   "outputs": [
    {
     "data": {
      "text/plain": [
       "(Timestamp('2009-01-14 00:00:00'), Timestamp('2011-09-28 00:00:00'))"
      ]
     },
     "execution_count": 5,
     "metadata": {},
     "output_type": "execute_result"
    }
   ],
   "source": [
    "# Look at first and last week in the dataset.\n",
    "train_data.WEEK_END_DATE.min() , train_data.WEEK_END_DATE.max()"
   ]
  },
  {
   "cell_type": "code",
   "execution_count": 6,
   "metadata": {},
   "outputs": [
    {
     "data": {
      "text/plain": [
       "142"
      ]
     },
     "execution_count": 6,
     "metadata": {},
     "output_type": "execute_result"
    }
   ],
   "source": [
    "# Calculate number of weeks.\n",
    "train_data.WEEK_END_DATE.nunique()"
   ]
  },
  {
   "cell_type": "code",
   "execution_count": 7,
   "metadata": {},
   "outputs": [],
   "source": [
    "# Create array of unique week-ending dates.\n",
    "week = train_data.WEEK_END_DATE.unique()"
   ]
  },
  {
   "cell_type": "code",
   "execution_count": null,
   "metadata": {},
   "outputs": [],
   "source": []
  },
  {
   "cell_type": "code",
   "execution_count": 8,
   "metadata": {},
   "outputs": [],
   "source": [
    "# Merge data into one dataset.\n",
    "merged_data = train_data.merge(product_data,how='left', on='UPC')\n",
    "merged_data = merged_data.merge(store_data, how='left', left_on='STORE_NUM', right_on='STORE_ID')"
   ]
  },
  {
   "cell_type": "code",
   "execution_count": 9,
   "metadata": {},
   "outputs": [],
   "source": [
    "merged_data = merged_data.drop(columns=['STORE_ID'])"
   ]
  },
  {
   "cell_type": "code",
   "execution_count": 10,
   "metadata": {},
   "outputs": [
    {
     "data": {
      "text/plain": [
       "WEEK_END_DATE                2009-01-14 00:00:00\n",
       "STORE_NUM                                    367\n",
       "UPC                                   1111009477\n",
       "BASE_PRICE                                  1.57\n",
       "FEATURE                                        0\n",
       "DISPLAY                                        0\n",
       "UNITS                                         13\n",
       "MANUFACTURER_1                                 1\n",
       "MANUFACTURER_2                                 0\n",
       "MANUFACTURER_3                                 0\n",
       "MANUFACTURER_4                                 0\n",
       "MANUFACTURER_5                                 0\n",
       "MANUFACTURER_6                                 0\n",
       "MANUFACTURER_7                                 0\n",
       "MANUFACTURER_8                                 0\n",
       "MANUFACTURER_9                                 0\n",
       "CATEGORY_1                                     1\n",
       "CATEGORY_2                                     0\n",
       "CATEGORY_3                                     0\n",
       "CATEGORY_4                                     0\n",
       "SUB_CATEGORY_1                                 1\n",
       "SUB_CATEGORY_2                                 0\n",
       "SUB_CATEGORY_3                                 0\n",
       "SUB_CATEGORY_4                                 0\n",
       "SUB_CATEGORY_5                                 0\n",
       "SUB_CATEGORY_6                                 0\n",
       "SUB_CATEGORY_7                                 0\n",
       "PRODUCT_SIZE                                   2\n",
       "ADDRESS_STATE_PROV_CODE_1                      1\n",
       "ADDRESS_STATE_PROV_CODE_2                      0\n",
       "ADDRESS_STATE_PROV_CODE_3                      0\n",
       "ADDRESS_STATE_PROV_CODE_4                      0\n",
       "MSA_CODE_1                                     1\n",
       "MSA_CODE_2                                     0\n",
       "MSA_CODE_3                                     0\n",
       "MSA_CODE_4                                     0\n",
       "MSA_CODE_5                                     0\n",
       "MSA_CODE_6                                     0\n",
       "MSA_CODE_7                                     0\n",
       "MSA_CODE_8                                     0\n",
       "MSA_CODE_9                                     0\n",
       "SEG_VALUE_NAME                                 1\n",
       "SALES_AREA_SIZE_NUM                        24721\n",
       "AVG_WEEKLY_BASKETS                         12707\n",
       "Name: 0, dtype: object"
      ]
     },
     "execution_count": 10,
     "metadata": {},
     "output_type": "execute_result"
    }
   ],
   "source": [
    "# Look at 1st row of data.\n",
    "merged_data.loc[0]"
   ]
  },
  {
   "cell_type": "markdown",
   "metadata": {},
   "source": [
    "---\n",
    " *  `train_start`  Data split train set start week\n",
    " *  `train_end`  Data split train set end week\n",
    " *  `no_days_train`  Number of days we have in the particular validation set\n",
    " *  `validation_week`  Data split validation week\n",
    " *  `test_week`  Data split test week\n",
    " *  `train_shape` Datapoints available in the train split \n",
    " *  `validation_shape` Datapoints available in the validation week\n",
    " *  `test_shape` Datapoints available in the test week\n",
    "---"
   ]
  },
  {
   "cell_type": "code",
   "execution_count": 11,
   "metadata": {},
   "outputs": [],
   "source": [
    "# Validation dataframe.\n",
    "def validation_df(data, week, no_of_months, no_of_validation):\n",
    "    \n",
    "    model_set = []\n",
    "    set_n = 1\n",
    "    for w in range(len(week)-1,0,-1):\n",
    "        x_data = {}\n",
    "\n",
    "        x_data['train_start'] = week[w-3-4*no_of_months]\n",
    "        x_data['train_end'] = week[w-4]\n",
    "        x_data['validate_week'] = week[w-2]\n",
    "        x_data['test_week'] = week[w]\n",
    "        x_data['no_days_train'] = x_data['train_end'] - x_data['train_start']\n",
    "        x_data['set_no'] = 'set'+str(set_n)\n",
    "        set_n +=1\n",
    "        model_set.append(x_data)\n",
    "        if(len(model_set) == no_of_validation):\n",
    "            break\n",
    "   \n",
    "    datapoints = []\n",
    "\n",
    "    for s in model_set :\n",
    "        x = {}\n",
    "        train_set = data[(data.WEEK_END_DATE >= s['train_start']) & (data.WEEK_END_DATE <= s['train_end'])]\n",
    "        x['train_shape'] = train_set.shape[0]\n",
    "        x['validation_shape']  = data[data.WEEK_END_DATE == s['validate_week']].shape[0]\n",
    "        x['test_shape'] = data[data.WEEK_END_DATE == s['test_week']].shape[0]\n",
    "        x.update(s)\n",
    "        datapoints.append(x)\n",
    "\n",
    "    df = pd.DataFrame.from_dict(datapoints)\n",
    "    df['no_days_train'] = df['no_days_train'] + timedelta(days=7)\n",
    "    return df    "
   ]
  },
  {
   "cell_type": "code",
   "execution_count": null,
   "metadata": {},
   "outputs": [],
   "source": []
  },
  {
   "cell_type": "code",
   "execution_count": 12,
   "metadata": {},
   "outputs": [
    {
     "data": {
      "text/html": [
       "<div>\n",
       "<style scoped>\n",
       "    .dataframe tbody tr th:only-of-type {\n",
       "        vertical-align: middle;\n",
       "    }\n",
       "\n",
       "    .dataframe tbody tr th {\n",
       "        vertical-align: top;\n",
       "    }\n",
       "\n",
       "    .dataframe thead th {\n",
       "        text-align: right;\n",
       "    }\n",
       "</style>\n",
       "<table border=\"1\" class=\"dataframe\">\n",
       "  <thead>\n",
       "    <tr style=\"text-align: right;\">\n",
       "      <th></th>\n",
       "      <th>train_shape</th>\n",
       "      <th>validation_shape</th>\n",
       "      <th>test_shape</th>\n",
       "      <th>train_start</th>\n",
       "      <th>train_end</th>\n",
       "      <th>validate_week</th>\n",
       "      <th>test_week</th>\n",
       "      <th>no_days_train</th>\n",
       "      <th>set_no</th>\n",
       "    </tr>\n",
       "  </thead>\n",
       "  <tbody>\n",
       "    <tr>\n",
       "      <td>0</td>\n",
       "      <td>19647</td>\n",
       "      <td>1640</td>\n",
       "      <td>1642</td>\n",
       "      <td>2011-06-15</td>\n",
       "      <td>2011-08-31</td>\n",
       "      <td>2011-09-14</td>\n",
       "      <td>2011-09-28</td>\n",
       "      <td>84 days</td>\n",
       "      <td>set1</td>\n",
       "    </tr>\n",
       "    <tr>\n",
       "      <td>1</td>\n",
       "      <td>19657</td>\n",
       "      <td>1632</td>\n",
       "      <td>1638</td>\n",
       "      <td>2011-06-08</td>\n",
       "      <td>2011-08-24</td>\n",
       "      <td>2011-09-07</td>\n",
       "      <td>2011-09-21</td>\n",
       "      <td>84 days</td>\n",
       "      <td>set2</td>\n",
       "    </tr>\n",
       "    <tr>\n",
       "      <td>2</td>\n",
       "      <td>19654</td>\n",
       "      <td>1629</td>\n",
       "      <td>1640</td>\n",
       "      <td>2011-06-01</td>\n",
       "      <td>2011-08-17</td>\n",
       "      <td>2011-08-31</td>\n",
       "      <td>2011-09-14</td>\n",
       "      <td>84 days</td>\n",
       "      <td>set3</td>\n",
       "    </tr>\n",
       "  </tbody>\n",
       "</table>\n",
       "</div>"
      ],
      "text/plain": [
       "   train_shape  validation_shape  test_shape train_start  train_end  \\\n",
       "0        19647              1640        1642  2011-06-15 2011-08-31   \n",
       "1        19657              1632        1638  2011-06-08 2011-08-24   \n",
       "2        19654              1629        1640  2011-06-01 2011-08-17   \n",
       "\n",
       "  validate_week  test_week no_days_train set_no  \n",
       "0    2011-09-14 2011-09-28       84 days   set1  \n",
       "1    2011-09-07 2011-09-21       84 days   set2  \n",
       "2    2011-08-31 2011-09-14       84 days   set3  "
      ]
     },
     "execution_count": 12,
     "metadata": {},
     "output_type": "execute_result"
    }
   ],
   "source": [
    "# Validation sets for training size = 3 months. Number of validation sets = 3.\n",
    "validation_df(merged_data, week, no_of_months= 3, no_of_validation= 3)"
   ]
  },
  {
   "cell_type": "code",
   "execution_count": 13,
   "metadata": {},
   "outputs": [
    {
     "data": {
      "text/html": [
       "<div>\n",
       "<style scoped>\n",
       "    .dataframe tbody tr th:only-of-type {\n",
       "        vertical-align: middle;\n",
       "    }\n",
       "\n",
       "    .dataframe tbody tr th {\n",
       "        vertical-align: top;\n",
       "    }\n",
       "\n",
       "    .dataframe thead th {\n",
       "        text-align: right;\n",
       "    }\n",
       "</style>\n",
       "<table border=\"1\" class=\"dataframe\">\n",
       "  <thead>\n",
       "    <tr style=\"text-align: right;\">\n",
       "      <th></th>\n",
       "      <th>train_shape</th>\n",
       "      <th>validation_shape</th>\n",
       "      <th>test_shape</th>\n",
       "      <th>train_start</th>\n",
       "      <th>train_end</th>\n",
       "      <th>validate_week</th>\n",
       "      <th>test_week</th>\n",
       "      <th>no_days_train</th>\n",
       "      <th>set_no</th>\n",
       "    </tr>\n",
       "  </thead>\n",
       "  <tbody>\n",
       "    <tr>\n",
       "      <td>0</td>\n",
       "      <td>39294</td>\n",
       "      <td>1640</td>\n",
       "      <td>1642</td>\n",
       "      <td>2011-03-23</td>\n",
       "      <td>2011-08-31</td>\n",
       "      <td>2011-09-14</td>\n",
       "      <td>2011-09-28</td>\n",
       "      <td>168 days</td>\n",
       "      <td>set1</td>\n",
       "    </tr>\n",
       "    <tr>\n",
       "      <td>1</td>\n",
       "      <td>39308</td>\n",
       "      <td>1632</td>\n",
       "      <td>1638</td>\n",
       "      <td>2011-03-16</td>\n",
       "      <td>2011-08-24</td>\n",
       "      <td>2011-09-07</td>\n",
       "      <td>2011-09-21</td>\n",
       "      <td>168 days</td>\n",
       "      <td>set2</td>\n",
       "    </tr>\n",
       "    <tr>\n",
       "      <td>2</td>\n",
       "      <td>39308</td>\n",
       "      <td>1629</td>\n",
       "      <td>1640</td>\n",
       "      <td>2011-03-09</td>\n",
       "      <td>2011-08-17</td>\n",
       "      <td>2011-08-31</td>\n",
       "      <td>2011-09-14</td>\n",
       "      <td>168 days</td>\n",
       "      <td>set3</td>\n",
       "    </tr>\n",
       "    <tr>\n",
       "      <td>3</td>\n",
       "      <td>39308</td>\n",
       "      <td>1640</td>\n",
       "      <td>1632</td>\n",
       "      <td>2011-03-02</td>\n",
       "      <td>2011-08-10</td>\n",
       "      <td>2011-08-24</td>\n",
       "      <td>2011-09-07</td>\n",
       "      <td>168 days</td>\n",
       "      <td>set4</td>\n",
       "    </tr>\n",
       "  </tbody>\n",
       "</table>\n",
       "</div>"
      ],
      "text/plain": [
       "   train_shape  validation_shape  test_shape train_start  train_end  \\\n",
       "0        39294              1640        1642  2011-03-23 2011-08-31   \n",
       "1        39308              1632        1638  2011-03-16 2011-08-24   \n",
       "2        39308              1629        1640  2011-03-09 2011-08-17   \n",
       "3        39308              1640        1632  2011-03-02 2011-08-10   \n",
       "\n",
       "  validate_week  test_week no_days_train set_no  \n",
       "0    2011-09-14 2011-09-28      168 days   set1  \n",
       "1    2011-09-07 2011-09-21      168 days   set2  \n",
       "2    2011-08-31 2011-09-14      168 days   set3  \n",
       "3    2011-08-24 2011-09-07      168 days   set4  "
      ]
     },
     "execution_count": 13,
     "metadata": {},
     "output_type": "execute_result"
    }
   ],
   "source": [
    "# Validation sets for training size = 6 months. Number of validation sets = 4.\n",
    "validation_df(merged_data, week, no_of_months= 6, no_of_validation= 4)"
   ]
  },
  {
   "cell_type": "markdown",
   "metadata": {},
   "source": [
    "---\n",
    "#### Calculate `EVALUATION METRIC - RMSLE` for each of the combination of traininig period size from 1 month to 12 months and number of validation sets from 1 to 5. Use RandomForestRegressor Model.\n",
    "---"
   ]
  },
  {
   "cell_type": "code",
   "execution_count": 14,
   "metadata": {},
   "outputs": [],
   "source": [
    "# Calculate  root mean squared log error.\n",
    "def get_msle(true, predicted) :\n",
    "    return np.sqrt(msle( true, predicted))\n",
    "\n",
    "# Calculate RMSLE on train and validation sets.\n",
    "def my_model(train_d, validate_d):\n",
    "    \n",
    "    train_x = train_d.drop(columns=['WEEK_END_DATE', 'STORE_NUM', 'UPC', 'UNITS'])\n",
    "    train_y = train_d['UNITS']\n",
    "    \n",
    "    valid_x = validate_d.drop(columns=['WEEK_END_DATE', 'STORE_NUM', 'UPC', 'UNITS'])\n",
    "    valid_y = validate_d['UNITS']\n",
    "    \n",
    "    model_RFR = RandomForestRegressor(max_depth=20,random_state=0)\n",
    "    model_RFR.fit(train_x, train_y)\n",
    "            \n",
    "    predict_validate = model_RFR.predict(valid_x)\n",
    "    predict_validate = predict_validate.clip(min=0)\n",
    "    \n",
    "    return get_msle(valid_y, predict_validate)\n",
    "    \n",
    "def train_model(df,no_of_month):\n",
    "    \n",
    "    model_results = []\n",
    "    for row in range(df.shape[0]):\n",
    "        row = df.iloc[row]\n",
    "        train_set = train_data[(train_data.WEEK_END_DATE >= row['train_start']) & (train_data.WEEK_END_DATE <= row['train_end'])]\n",
    "        validate_set = train_data[train_data.WEEK_END_DATE == row['validate_week']]\n",
    "        train_set['month'] = no_of_month\n",
    "        validate_set['month'] = no_of_month\n",
    "        model_results.append(my_model(train_set,validate_set))\n",
    "        \n",
    "    return np.mean(model_results), np.std(model_results)"
   ]
  },
  {
   "cell_type": "markdown",
   "metadata": {},
   "source": [
    "---\n",
    "\n",
    "Now, we define a function `get_matrix` that will take parameter `max_months` the number of months of training period and `max_cv` the number of validation sets.\n",
    "\n",
    "It will return mean rmsle and standard deviation of the rmsle calculated over the different combinations of the months and validation sets.\n",
    "\n",
    "---"
   ]
  },
  {
   "cell_type": "code",
   "execution_count": 15,
   "metadata": {},
   "outputs": [],
   "source": [
    "# Define get matrix.\n",
    "def get_matrix(max_months=1, max_cv=1):\n",
    "    final_results_mean = []\n",
    "    final_results_std = []\n",
    "    \n",
    "    for i in tqdm(range(1,max_months+1,1)):\n",
    "        for j in range(1,max_cv+1,1):\n",
    "            #print(i,j,'done')\n",
    "            x = {}\n",
    "            y = {}\n",
    "            x['No_of_months'] = i\n",
    "            x['validation_sets'] = j\n",
    "            y['No_of_months'] = i\n",
    "            y['validation_sets'] = j\n",
    "            x['Results'] , y['Results'] = train_model(validation_df(merged_data, week, no_of_months=i, no_of_validation=j),i)\n",
    "            final_results_mean.append(x)\n",
    "            final_results_std.append(y)\n",
    "            \n",
    "    return pd.DataFrame.from_dict(final_results_mean).pivot_table(index= 'No_of_months', columns= 'validation_sets',fill_value=0) , pd.DataFrame.from_dict(final_results_std).pivot_table(index= 'No_of_months', columns= 'validation_sets',fill_value=0)"
   ]
  },
  {
   "cell_type": "code",
   "execution_count": 16,
   "metadata": {},
   "outputs": [
    {
     "name": "stderr",
     "output_type": "stream",
     "text": [
      "100%|██████████| 12/12 [00:43<00:00,  3.63s/it]\n"
     ]
    }
   ],
   "source": [
    "# Try with the months from range 1 to 12 and validation sets 1 to 5.\n",
    "final_mean, final_std = get_matrix(max_months=12,max_cv=5)"
   ]
  },
  {
   "cell_type": "markdown",
   "metadata": {},
   "source": [
    "---\n",
    "#### Look at results from different combinations of training periods and validation sets.\n",
    "---"
   ]
  },
  {
   "cell_type": "code",
   "execution_count": 17,
   "metadata": {},
   "outputs": [],
   "source": [
    "# Returned dataframe has multiindex columns, so will drop one level.\n",
    "final_mean.columns = final_mean.columns.droplevel()"
   ]
  },
  {
   "cell_type": "code",
   "execution_count": 18,
   "metadata": {},
   "outputs": [
    {
     "data": {
      "text/plain": [
       "(12.0, 0.0)"
      ]
     },
     "execution_count": 18,
     "metadata": {},
     "output_type": "execute_result"
    },
    {
     "data": {
      "image/png": "[encoded data removed]",
      "text/plain": [
       "<Figure size 1080x504 with 2 Axes>"
      ]
     },
     "metadata": {
      "needs_background": "light"
     },
     "output_type": "display_data"
    }
   ],
   "source": [
    "# Correlation plot of the variables in the train data.\n",
    "plot = final_mean[final_mean.columns]\n",
    "plt.figure(figsize=(15,7))\n",
    "ax = sns.heatmap(plot,annot=True)\n",
    "bottom, top = ax.get_ylim()\n",
    "ax.set_ylim(bottom + 0.5, top - 0.5)"
   ]
  },
  {
   "cell_type": "markdown",
   "metadata": {},
   "source": [
    "---\n",
    "- As size of the training period increases, the value of RMSLE increases. And for 2 months of train data we are getting the best score. It keeps increasing as we go further back. So, will repeat, keeping the max training period at 4 months and number of validation sets at 15.\n",
    "---"
   ]
  },
  {
   "cell_type": "code",
   "execution_count": 19,
   "metadata": {},
   "outputs": [
    {
     "name": "stderr",
     "output_type": "stream",
     "text": [
      "100%|██████████| 4/4 [00:46<00:00, 11.60s/it]\n"
     ]
    }
   ],
   "source": [
    "final_mean2, final_std2 = get_matrix(max_months=4,max_cv=15)"
   ]
  },
  {
   "cell_type": "code",
   "execution_count": 20,
   "metadata": {},
   "outputs": [
    {
     "data": {
      "text/plain": [
       "(4.0, 0.0)"
      ]
     },
     "execution_count": 20,
     "metadata": {},
     "output_type": "execute_result"
    },
    {
     "data": {
      "image/png": "[encoded data removed]",
      "text/plain": [
       "<Figure size 1080x504 with 2 Axes>"
      ]
     },
     "metadata": {
      "needs_background": "light"
     },
     "output_type": "display_data"
    }
   ],
   "source": [
    "# Correlation plot of variables in train data.\n",
    "final_mean2.columns = final_mean2.columns.droplevel()\n",
    "plot = final_mean2[final_mean2.columns]\n",
    "plt.figure(figsize=(15,7))\n",
    "ax = sns.heatmap(plot,annot=True)\n",
    "bottom, top = ax.get_ylim()\n",
    "ax.set_ylim(bottom + 0.5, top - 0.5)"
   ]
  },
  {
   "cell_type": "markdown",
   "metadata": {},
   "source": [
    "---\n",
    "#### Now, Using the training period of 2 months, the RMSLE value gets stable after the 9 validation sets to value of 0.74.\n",
    "---"
   ]
  },
  {
   "cell_type": "markdown",
   "metadata": {},
   "source": [
    "### Standard Deviation"
   ]
  },
  {
   "cell_type": "markdown",
   "metadata": {},
   "source": [
    "Now, Let's see the standard deviation of the results over the validation sets."
   ]
  },
  {
   "cell_type": "code",
   "execution_count": 21,
   "metadata": {},
   "outputs": [
    {
     "data": {
      "text/plain": [
       "(4.0, 0.0)"
      ]
     },
     "execution_count": 21,
     "metadata": {},
     "output_type": "execute_result"
    },
    {
     "data": {
      "image/png": "[encoded data removed]",
      "text/plain": [
       "<Figure size 1080x504 with 2 Axes>"
      ]
     },
     "metadata": {
      "needs_background": "light"
     },
     "output_type": "display_data"
    }
   ],
   "source": [
    "# Correlation plot of variables in the train data.\n",
    "final_std2.columns = final_std2.columns.droplevel()\n",
    "plot = final_std2[final_std2.columns]\n",
    "plt.figure(figsize=(15,7))\n",
    "ax = sns.heatmap(plot,annot=True)\n",
    "bottom, top = ax.get_ylim()\n",
    "ax.set_ylim(bottom + 0.5, top - 0.5)"
   ]
  },
  {
   "cell_type": "markdown",
   "metadata": {},
   "source": [
    "---\n",
    "#### The lowest standard deviation is with 14 validation sets, and we can also see that the standard deviation increases with 15th validation set in both 2 and 3 months period results.\n",
    "---\n",
    "#### So, we will validate the model with 2 months of training period and 14 validation sets."
   ]
  },
  {
   "cell_type": "markdown",
   "metadata": {},
   "source": [
    "---\n",
    "---\n",
    "---\n"
   ]
  },
  {
   "cell_type": "markdown",
   "metadata": {},
   "source": [
    "---\n",
    "---\n",
    "\n",
    "### `OPTIMUM VALUE OF N_ESTIMATORS`\n",
    "\n",
    "\n",
    "- First of all, we will calculate the performance of the model using the default features and we will try to tune the parameters to get the best results.\n",
    "\n",
    "- So, first we will find out the optimal value of n_estimators for the Random Forest Model and we will see the performance of the model on n_estimators value 5, 15, 25..... 245.\n",
    "\n",
    "---"
   ]
  },
  {
   "cell_type": "code",
   "execution_count": null,
   "metadata": {},
   "outputs": [],
   "source": []
  },
  {
   "cell_type": "code",
   "execution_count": 22,
   "metadata": {},
   "outputs": [],
   "source": [
    "# function to calculate the root mean squared log error\n",
    "def get_msle(true, predicted) :\n",
    "    return np.sqrt(msle(true, predicted))\n",
    "\n",
    "# function to return the columns on which the model is trained\n",
    "def get_colums(data):\n",
    "    print('\\n####### The model is trained on Following Columns: ###########\\n')\n",
    "    print(data.columns)\n",
    "    print('===============================================================')\n",
    "\n",
    "\n",
    "# function to train the model \n",
    "# it will calculate and return the RMSLE on train and validation set    \n",
    "def my_model(train_d, validate_d, model):    \n",
    "    train_x = train_d.drop(columns=['WEEK_END_DATE', 'UNITS'])\n",
    "    train_y = train_d['UNITS']\n",
    "    \n",
    "    valid_x = validate_d.drop(columns=['WEEK_END_DATE', 'UNITS'])\n",
    "    valid_y = validate_d['UNITS']\n",
    "    \n",
    "    model.fit(train_x, train_y)\n",
    "    \n",
    "    predict_train = model.predict(train_x)\n",
    "    predict_train = predict_train.clip(min=0)\n",
    "            \n",
    "    predict_validate = model.predict(valid_x)\n",
    "    predict_validate = predict_validate.clip(min=0)\n",
    "    \n",
    "    return get_msle(train_y, predict_train), get_msle(valid_y, predict_validate), train_x\n",
    "    \n",
    "    \n",
    "    \n",
    "# function will extract the train and validation set using validation set dataframe\n",
    "# The defined model will train on each of the set and the average RMSLE on train and validate set will be returned\n",
    "def train_model(df, data, model):\n",
    "    \n",
    "    model_results_train = []\n",
    "    model_results_valid = []\n",
    "    for row in tqdm_notebook(range(df.shape[0]),leave=False, desc='training_model'):\n",
    "        \n",
    "        row = df.iloc[row]\n",
    "        train_set = data[(data.WEEK_END_DATE >= row['train_start']) & (data.WEEK_END_DATE <= row['train_end'])]\n",
    "        validate_set = data[data.WEEK_END_DATE == row['validate_week']]        \n",
    "        train, valid, data_train = my_model(train_set,validate_set, model)\n",
    "        model_results_train.append(train)\n",
    "        model_results_valid.append(valid)\n",
    "        \n",
    "    return np.mean(model_results_train) , np.mean(model_results_valid), data_train"
   ]
  },
  {
   "cell_type": "code",
   "execution_count": 23,
   "metadata": {},
   "outputs": [
    {
     "data": {
      "application/vnd.jupyter.widget-view+json": {
       "model_id": "7a3a99b218c64a3e85b79dd97f829d13",
       "version_major": 2,
       "version_minor": 0
      },
      "text/plain": [
       "HBox(children=(IntProgress(value=0, description='estimator', max=25, style=ProgressStyle(description_width='in…"
      ]
     },
     "metadata": {},
     "output_type": "display_data"
    },
    {
     "data": {
      "application/vnd.jupyter.widget-view+json": {
       "model_id": "74d8358149234663b369420d203aa643",
       "version_major": 2,
       "version_minor": 0
      },
      "text/plain": [
       "HBox(children=(IntProgress(value=0, description='training_model', max=14, style=ProgressStyle(description_widt…"
      ]
     },
     "metadata": {},
     "output_type": "display_data"
    },
    {
     "data": {
      "application/vnd.jupyter.widget-view+json": {
       "model_id": "ab429921c9494826847b5cea552f28f9",
       "version_major": 2,
       "version_minor": 0
      },
      "text/plain": [
       "HBox(children=(IntProgress(value=0, description='training_model', max=14, style=ProgressStyle(description_widt…"
      ]
     },
     "metadata": {},
     "output_type": "display_data"
    },
    {
     "data": {
      "application/vnd.jupyter.widget-view+json": {
       "model_id": "ec08f30110da476fb22cd7ff5076f819",
       "version_major": 2,
       "version_minor": 0
      },
      "text/plain": [
       "HBox(children=(IntProgress(value=0, description='training_model', max=14, style=ProgressStyle(description_widt…"
      ]
     },
     "metadata": {},
     "output_type": "display_data"
    },
    {
     "data": {
      "application/vnd.jupyter.widget-view+json": {
       "model_id": "70a16e5f42024d5289dbf14665aefc1a",
       "version_major": 2,
       "version_minor": 0
      },
      "text/plain": [
       "HBox(children=(IntProgress(value=0, description='training_model', max=14, style=ProgressStyle(description_widt…"
      ]
     },
     "metadata": {},
     "output_type": "display_data"
    },
    {
     "data": {
      "application/vnd.jupyter.widget-view+json": {
       "model_id": "ea0ce3ad7ffd434fbe13c6e27ef3fa56",
       "version_major": 2,
       "version_minor": 0
      },
      "text/plain": [
       "HBox(children=(IntProgress(value=0, description='training_model', max=14, style=ProgressStyle(description_widt…"
      ]
     },
     "metadata": {},
     "output_type": "display_data"
    },
    {
     "data": {
      "application/vnd.jupyter.widget-view+json": {
       "model_id": "e05bb95951c2467aa9e1ad4604a5cb85",
       "version_major": 2,
       "version_minor": 0
      },
      "text/plain": [
       "HBox(children=(IntProgress(value=0, description='training_model', max=14, style=ProgressStyle(description_widt…"
      ]
     },
     "metadata": {},
     "output_type": "display_data"
    },
    {
     "data": {
      "application/vnd.jupyter.widget-view+json": {
       "model_id": "3b8c4b60fb2a43038da0fcd5280d86bf",
       "version_major": 2,
       "version_minor": 0
      },
      "text/plain": [
       "HBox(children=(IntProgress(value=0, description='training_model', max=14, style=ProgressStyle(description_widt…"
      ]
     },
     "metadata": {},
     "output_type": "display_data"
    },
    {
     "data": {
      "application/vnd.jupyter.widget-view+json": {
       "model_id": "fc4a4b08b62944e7b84bdecfa643014d",
       "version_major": 2,
       "version_minor": 0
      },
      "text/plain": [
       "HBox(children=(IntProgress(value=0, description='training_model', max=14, style=ProgressStyle(description_widt…"
      ]
     },
     "metadata": {},
     "output_type": "display_data"
    },
    {
     "data": {
      "application/vnd.jupyter.widget-view+json": {
       "model_id": "cb6c10be6c2b4f38b2c53084bf18c734",
       "version_major": 2,
       "version_minor": 0
      },
      "text/plain": [
       "HBox(children=(IntProgress(value=0, description='training_model', max=14, style=ProgressStyle(description_widt…"
      ]
     },
     "metadata": {},
     "output_type": "display_data"
    },
    {
     "data": {
      "application/vnd.jupyter.widget-view+json": {
       "model_id": "a0a9afd97fc74e958861b2de330d9aa0",
       "version_major": 2,
       "version_minor": 0
      },
      "text/plain": [
       "HBox(children=(IntProgress(value=0, description='training_model', max=14, style=ProgressStyle(description_widt…"
      ]
     },
     "metadata": {},
     "output_type": "display_data"
    },
    {
     "data": {
      "application/vnd.jupyter.widget-view+json": {
       "model_id": "f196610e9c25474fb25939e6f63579fb",
       "version_major": 2,
       "version_minor": 0
      },
      "text/plain": [
       "HBox(children=(IntProgress(value=0, description='training_model', max=14, style=ProgressStyle(description_widt…"
      ]
     },
     "metadata": {},
     "output_type": "display_data"
    },
    {
     "data": {
      "application/vnd.jupyter.widget-view+json": {
       "model_id": "792b0dd91ad647aab278a33eec3f3e22",
       "version_major": 2,
       "version_minor": 0
      },
      "text/plain": [
       "HBox(children=(IntProgress(value=0, description='training_model', max=14, style=ProgressStyle(description_widt…"
      ]
     },
     "metadata": {},
     "output_type": "display_data"
    },
    {
     "data": {
      "application/vnd.jupyter.widget-view+json": {
       "model_id": "0dd0e476170d48c398e8a5f297b493e0",
       "version_major": 2,
       "version_minor": 0
      },
      "text/plain": [
       "HBox(children=(IntProgress(value=0, description='training_model', max=14, style=ProgressStyle(description_widt…"
      ]
     },
     "metadata": {},
     "output_type": "display_data"
    },
    {
     "data": {
      "application/vnd.jupyter.widget-view+json": {
       "model_id": "aeb55820b0564cf2ad9a8d8e82d0684b",
       "version_major": 2,
       "version_minor": 0
      },
      "text/plain": [
       "HBox(children=(IntProgress(value=0, description='training_model', max=14, style=ProgressStyle(description_widt…"
      ]
     },
     "metadata": {},
     "output_type": "display_data"
    },
    {
     "data": {
      "application/vnd.jupyter.widget-view+json": {
       "model_id": "e540d3e225d848eab12b24ed381824cb",
       "version_major": 2,
       "version_minor": 0
      },
      "text/plain": [
       "HBox(children=(IntProgress(value=0, description='training_model', max=14, style=ProgressStyle(description_widt…"
      ]
     },
     "metadata": {},
     "output_type": "display_data"
    },
    {
     "data": {
      "application/vnd.jupyter.widget-view+json": {
       "model_id": "20e5001e701048ebbe3484f79cd5b36b",
       "version_major": 2,
       "version_minor": 0
      },
      "text/plain": [
       "HBox(children=(IntProgress(value=0, description='training_model', max=14, style=ProgressStyle(description_widt…"
      ]
     },
     "metadata": {},
     "output_type": "display_data"
    },
    {
     "data": {
      "application/vnd.jupyter.widget-view+json": {
       "model_id": "01568c7843e542f6b102cd6e1a1a9c4b",
       "version_major": 2,
       "version_minor": 0
      },
      "text/plain": [
       "HBox(children=(IntProgress(value=0, description='training_model', max=14, style=ProgressStyle(description_widt…"
      ]
     },
     "metadata": {},
     "output_type": "display_data"
    },
    {
     "data": {
      "application/vnd.jupyter.widget-view+json": {
       "model_id": "bc52e2c2bdb34da1b912da1e08580d29",
       "version_major": 2,
       "version_minor": 0
      },
      "text/plain": [
       "HBox(children=(IntProgress(value=0, description='training_model', max=14, style=ProgressStyle(description_widt…"
      ]
     },
     "metadata": {},
     "output_type": "display_data"
    },
    {
     "data": {
      "application/vnd.jupyter.widget-view+json": {
       "model_id": "ec7494f15f7943ab9a2296d463527ee7",
       "version_major": 2,
       "version_minor": 0
      },
      "text/plain": [
       "HBox(children=(IntProgress(value=0, description='training_model', max=14, style=ProgressStyle(description_widt…"
      ]
     },
     "metadata": {},
     "output_type": "display_data"
    },
    {
     "data": {
      "application/vnd.jupyter.widget-view+json": {
       "model_id": "cbdee5f62f824bbb8ecbffb3f9f7f9ae",
       "version_major": 2,
       "version_minor": 0
      },
      "text/plain": [
       "HBox(children=(IntProgress(value=0, description='training_model', max=14, style=ProgressStyle(description_widt…"
      ]
     },
     "metadata": {},
     "output_type": "display_data"
    },
    {
     "data": {
      "application/vnd.jupyter.widget-view+json": {
       "model_id": "b2922b77959a4c4eae3c541ad8f8ff6c",
       "version_major": 2,
       "version_minor": 0
      },
      "text/plain": [
       "HBox(children=(IntProgress(value=0, description='training_model', max=14, style=ProgressStyle(description_widt…"
      ]
     },
     "metadata": {},
     "output_type": "display_data"
    },
    {
     "data": {
      "application/vnd.jupyter.widget-view+json": {
       "model_id": "0dadc26ed70e42b587f2f032543f5c2c",
       "version_major": 2,
       "version_minor": 0
      },
      "text/plain": [
       "HBox(children=(IntProgress(value=0, description='training_model', max=14, style=ProgressStyle(description_widt…"
      ]
     },
     "metadata": {},
     "output_type": "display_data"
    },
    {
     "data": {
      "application/vnd.jupyter.widget-view+json": {
       "model_id": "1fd3cefa27d640669394b888fc78764d",
       "version_major": 2,
       "version_minor": 0
      },
      "text/plain": [
       "HBox(children=(IntProgress(value=0, description='training_model', max=14, style=ProgressStyle(description_widt…"
      ]
     },
     "metadata": {},
     "output_type": "display_data"
    },
    {
     "data": {
      "application/vnd.jupyter.widget-view+json": {
       "model_id": "f21476be171841a2ad502aa9d29db8a8",
       "version_major": 2,
       "version_minor": 0
      },
      "text/plain": [
       "HBox(children=(IntProgress(value=0, description='training_model', max=14, style=ProgressStyle(description_widt…"
      ]
     },
     "metadata": {},
     "output_type": "display_data"
    },
    {
     "data": {
      "application/vnd.jupyter.widget-view+json": {
       "model_id": "58037e796f244b1682a5490d69dfac7f",
       "version_major": 2,
       "version_minor": 0
      },
      "text/plain": [
       "HBox(children=(IntProgress(value=0, description='training_model', max=14, style=ProgressStyle(description_widt…"
      ]
     },
     "metadata": {},
     "output_type": "display_data"
    },
    {
     "name": "stdout",
     "output_type": "stream",
     "text": [
      "\n",
      "\n",
      "####### The model is trained on Following Columns: ###########\n",
      "\n",
      "Index(['BASE_PRICE', 'FEATURE', 'DISPLAY', 'MANUFACTURER_1', 'MANUFACTURER_2',\n",
      "       'MANUFACTURER_3', 'MANUFACTURER_4', 'MANUFACTURER_5', 'MANUFACTURER_6',\n",
      "       'MANUFACTURER_7', 'MANUFACTURER_8', 'MANUFACTURER_9', 'CATEGORY_1',\n",
      "       'CATEGORY_2', 'CATEGORY_3', 'CATEGORY_4', 'SUB_CATEGORY_1',\n",
      "       'SUB_CATEGORY_2', 'SUB_CATEGORY_3', 'SUB_CATEGORY_4', 'SUB_CATEGORY_5',\n",
      "       'SUB_CATEGORY_6', 'SUB_CATEGORY_7', 'PRODUCT_SIZE',\n",
      "       'ADDRESS_STATE_PROV_CODE_1', 'ADDRESS_STATE_PROV_CODE_2',\n",
      "       'ADDRESS_STATE_PROV_CODE_3', 'ADDRESS_STATE_PROV_CODE_4', 'MSA_CODE_1',\n",
      "       'MSA_CODE_2', 'MSA_CODE_3', 'MSA_CODE_4', 'MSA_CODE_5', 'MSA_CODE_6',\n",
      "       'MSA_CODE_7', 'MSA_CODE_8', 'MSA_CODE_9', 'SEG_VALUE_NAME',\n",
      "       'SALES_AREA_SIZE_NUM', 'AVG_WEEKLY_BASKETS'],\n",
      "      dtype='object')\n",
      "===============================================================\n"
     ]
    }
   ],
   "source": [
    "estimator_results = []\n",
    "data = merged_data.drop(columns=['STORE_NUM', 'UPC'])\n",
    "\n",
    "\n",
    "valid_df = validation_df(merged_data, week, no_of_months=2, no_of_validation= 14)\n",
    "\n",
    "for estimator in tqdm_notebook(range(5,250,10),leave=True, desc= 'estimator'):    \n",
    "    result = {}\n",
    "    model_RFR = RandomForestRegressor(n_estimators= estimator, random_state=0)\n",
    "    rmsle_train, rmsle_valid, data_train = train_model(valid_df, data, model_RFR)\n",
    "    result['estimator'] = estimator\n",
    "    result['rmsle_train'] = rmsle_train\n",
    "    result['rmsle_valid'] = rmsle_valid\n",
    "    estimator_results.append(result)\n",
    "    \n",
    "get_colums(data_train)"
   ]
  },
  {
   "cell_type": "code",
   "execution_count": 24,
   "metadata": {},
   "outputs": [],
   "source": [
    "x = pd.DataFrame.from_dict(estimator_results)"
   ]
  },
  {
   "cell_type": "code",
   "execution_count": 25,
   "metadata": {},
   "outputs": [
    {
     "data": {
      "text/html": [
       "<div>\n",
       "<style scoped>\n",
       "    .dataframe tbody tr th:only-of-type {\n",
       "        vertical-align: middle;\n",
       "    }\n",
       "\n",
       "    .dataframe tbody tr th {\n",
       "        vertical-align: top;\n",
       "    }\n",
       "\n",
       "    .dataframe thead th {\n",
       "        text-align: right;\n",
       "    }\n",
       "</style>\n",
       "<table border=\"1\" class=\"dataframe\">\n",
       "  <thead>\n",
       "    <tr style=\"text-align: right;\">\n",
       "      <th></th>\n",
       "      <th>estimator</th>\n",
       "      <th>rmsle_train</th>\n",
       "      <th>rmsle_valid</th>\n",
       "    </tr>\n",
       "  </thead>\n",
       "  <tbody>\n",
       "    <tr>\n",
       "      <td>0</td>\n",
       "      <td>5</td>\n",
       "      <td>0.347728</td>\n",
       "      <td>0.527201</td>\n",
       "    </tr>\n",
       "    <tr>\n",
       "      <td>1</td>\n",
       "      <td>15</td>\n",
       "      <td>0.339513</td>\n",
       "      <td>0.517293</td>\n",
       "    </tr>\n",
       "    <tr>\n",
       "      <td>2</td>\n",
       "      <td>25</td>\n",
       "      <td>0.337711</td>\n",
       "      <td>0.514458</td>\n",
       "    </tr>\n",
       "    <tr>\n",
       "      <td>3</td>\n",
       "      <td>35</td>\n",
       "      <td>0.336986</td>\n",
       "      <td>0.512994</td>\n",
       "    </tr>\n",
       "    <tr>\n",
       "      <td>4</td>\n",
       "      <td>45</td>\n",
       "      <td>0.336643</td>\n",
       "      <td>0.512876</td>\n",
       "    </tr>\n",
       "    <tr>\n",
       "      <td>5</td>\n",
       "      <td>55</td>\n",
       "      <td>0.336404</td>\n",
       "      <td>0.512068</td>\n",
       "    </tr>\n",
       "    <tr>\n",
       "      <td>6</td>\n",
       "      <td>65</td>\n",
       "      <td>0.336214</td>\n",
       "      <td>0.511716</td>\n",
       "    </tr>\n",
       "    <tr>\n",
       "      <td>7</td>\n",
       "      <td>75</td>\n",
       "      <td>0.336078</td>\n",
       "      <td>0.511386</td>\n",
       "    </tr>\n",
       "    <tr>\n",
       "      <td>8</td>\n",
       "      <td>85</td>\n",
       "      <td>0.336003</td>\n",
       "      <td>0.511352</td>\n",
       "    </tr>\n",
       "    <tr>\n",
       "      <td>9</td>\n",
       "      <td>95</td>\n",
       "      <td>0.335934</td>\n",
       "      <td>0.511359</td>\n",
       "    </tr>\n",
       "    <tr>\n",
       "      <td>10</td>\n",
       "      <td>105</td>\n",
       "      <td>0.335848</td>\n",
       "      <td>0.511218</td>\n",
       "    </tr>\n",
       "    <tr>\n",
       "      <td>11</td>\n",
       "      <td>115</td>\n",
       "      <td>0.335813</td>\n",
       "      <td>0.511085</td>\n",
       "    </tr>\n",
       "    <tr>\n",
       "      <td>12</td>\n",
       "      <td>125</td>\n",
       "      <td>0.335797</td>\n",
       "      <td>0.511217</td>\n",
       "    </tr>\n",
       "    <tr>\n",
       "      <td>13</td>\n",
       "      <td>135</td>\n",
       "      <td>0.335742</td>\n",
       "      <td>0.511084</td>\n",
       "    </tr>\n",
       "    <tr>\n",
       "      <td>14</td>\n",
       "      <td>145</td>\n",
       "      <td>0.335679</td>\n",
       "      <td>0.511061</td>\n",
       "    </tr>\n",
       "    <tr>\n",
       "      <td>15</td>\n",
       "      <td>155</td>\n",
       "      <td>0.335634</td>\n",
       "      <td>0.511206</td>\n",
       "    </tr>\n",
       "    <tr>\n",
       "      <td>16</td>\n",
       "      <td>165</td>\n",
       "      <td>0.335598</td>\n",
       "      <td>0.511195</td>\n",
       "    </tr>\n",
       "    <tr>\n",
       "      <td>17</td>\n",
       "      <td>175</td>\n",
       "      <td>0.335573</td>\n",
       "      <td>0.511151</td>\n",
       "    </tr>\n",
       "    <tr>\n",
       "      <td>18</td>\n",
       "      <td>185</td>\n",
       "      <td>0.335544</td>\n",
       "      <td>0.511123</td>\n",
       "    </tr>\n",
       "    <tr>\n",
       "      <td>19</td>\n",
       "      <td>195</td>\n",
       "      <td>0.335513</td>\n",
       "      <td>0.511058</td>\n",
       "    </tr>\n",
       "    <tr>\n",
       "      <td>20</td>\n",
       "      <td>205</td>\n",
       "      <td>0.335503</td>\n",
       "      <td>0.511036</td>\n",
       "    </tr>\n",
       "    <tr>\n",
       "      <td>21</td>\n",
       "      <td>215</td>\n",
       "      <td>0.335486</td>\n",
       "      <td>0.510942</td>\n",
       "    </tr>\n",
       "    <tr>\n",
       "      <td>22</td>\n",
       "      <td>225</td>\n",
       "      <td>0.335472</td>\n",
       "      <td>0.510825</td>\n",
       "    </tr>\n",
       "    <tr>\n",
       "      <td>23</td>\n",
       "      <td>235</td>\n",
       "      <td>0.335462</td>\n",
       "      <td>0.510820</td>\n",
       "    </tr>\n",
       "    <tr>\n",
       "      <td>24</td>\n",
       "      <td>245</td>\n",
       "      <td>0.335453</td>\n",
       "      <td>0.510788</td>\n",
       "    </tr>\n",
       "  </tbody>\n",
       "</table>\n",
       "</div>"
      ],
      "text/plain": [
       "    estimator  rmsle_train  rmsle_valid\n",
       "0           5     0.347728     0.527201\n",
       "1          15     0.339513     0.517293\n",
       "2          25     0.337711     0.514458\n",
       "3          35     0.336986     0.512994\n",
       "4          45     0.336643     0.512876\n",
       "5          55     0.336404     0.512068\n",
       "6          65     0.336214     0.511716\n",
       "7          75     0.336078     0.511386\n",
       "8          85     0.336003     0.511352\n",
       "9          95     0.335934     0.511359\n",
       "10        105     0.335848     0.511218\n",
       "11        115     0.335813     0.511085\n",
       "12        125     0.335797     0.511217\n",
       "13        135     0.335742     0.511084\n",
       "14        145     0.335679     0.511061\n",
       "15        155     0.335634     0.511206\n",
       "16        165     0.335598     0.511195\n",
       "17        175     0.335573     0.511151\n",
       "18        185     0.335544     0.511123\n",
       "19        195     0.335513     0.511058\n",
       "20        205     0.335503     0.511036\n",
       "21        215     0.335486     0.510942\n",
       "22        225     0.335472     0.510825\n",
       "23        235     0.335462     0.510820\n",
       "24        245     0.335453     0.510788"
      ]
     },
     "execution_count": 25,
     "metadata": {},
     "output_type": "execute_result"
    }
   ],
   "source": [
    "x"
   ]
  },
  {
   "cell_type": "code",
   "execution_count": 26,
   "metadata": {},
   "outputs": [
    {
     "data": {
      "image/png": "[encoded data removed]",
      "text/plain": [
       "<Figure size 1224x504 with 1 Axes>"
      ]
     },
     "metadata": {
      "needs_background": "light"
     },
     "output_type": "display_data"
    }
   ],
   "source": [
    "plt.figure(figsize=(17,7))\n",
    "plt.plot(x['estimator'], x['rmsle_valid'], marker='o',label='validation');\n",
    "plt.title('Model: Random Forest Regressor')\n",
    "plt.ylabel('RMSLE')\n",
    "plt.xlabel('no_of_estimators')\n",
    "plt.legend();"
   ]
  },
  {
   "cell_type": "markdown",
   "metadata": {},
   "source": [
    "---\n",
    "### `N_ESTIMATORS = 175`\n",
    "---\n",
    "\n",
    "The `RMSLE` is lowest on `n_estimators` value `175` is around 0.667 and seems to get stable after that. So, we will keep the value of the n_estimators = 175.\n",
    "\n",
    "\n",
    "\n",
    "---\n",
    "\n",
    "### `OPTIMUM VALUE OF MAX_DEPTH` \n",
    "---\n",
    "\n",
    "Now, we will keep the value of `n_estimators` fixed as `175` and try different values of max_depth from 1, 2, ...29.\n",
    "\n",
    "---"
   ]
  },
  {
   "cell_type": "code",
   "execution_count": 27,
   "metadata": {},
   "outputs": [
    {
     "data": {
      "application/vnd.jupyter.widget-view+json": {
       "model_id": "1ee9b2a43d7e4ba78b5ba440d563cda6",
       "version_major": 2,
       "version_minor": 0
      },
      "text/plain": [
       "HBox(children=(IntProgress(value=0, description='max_depth', max=29, style=ProgressStyle(description_width='in…"
      ]
     },
     "metadata": {},
     "output_type": "display_data"
    },
    {
     "data": {
      "application/vnd.jupyter.widget-view+json": {
       "model_id": "86ce58fbb86b439989c378fae27bba22",
       "version_major": 2,
       "version_minor": 0
      },
      "text/plain": [
       "HBox(children=(IntProgress(value=0, description='training_model', max=14, style=ProgressStyle(description_widt…"
      ]
     },
     "metadata": {},
     "output_type": "display_data"
    },
    {
     "data": {
      "application/vnd.jupyter.widget-view+json": {
       "model_id": "32dd23af07484c7d8fdcfb954d4d1a3e",
       "version_major": 2,
       "version_minor": 0
      },
      "text/plain": [
       "HBox(children=(IntProgress(value=0, description='training_model', max=14, style=ProgressStyle(description_widt…"
      ]
     },
     "metadata": {},
     "output_type": "display_data"
    },
    {
     "data": {
      "application/vnd.jupyter.widget-view+json": {
       "model_id": "b69e35b47d4c44fd934ef14e28601d70",
       "version_major": 2,
       "version_minor": 0
      },
      "text/plain": [
       "HBox(children=(IntProgress(value=0, description='training_model', max=14, style=ProgressStyle(description_widt…"
      ]
     },
     "metadata": {},
     "output_type": "display_data"
    },
    {
     "data": {
      "application/vnd.jupyter.widget-view+json": {
       "model_id": "a8351a1a02504dea8ada727647e615ce",
       "version_major": 2,
       "version_minor": 0
      },
      "text/plain": [
       "HBox(children=(IntProgress(value=0, description='training_model', max=14, style=ProgressStyle(description_widt…"
      ]
     },
     "metadata": {},
     "output_type": "display_data"
    },
    {
     "data": {
      "application/vnd.jupyter.widget-view+json": {
       "model_id": "9083ca3151504ac4ae9c3cd30d3c8d31",
       "version_major": 2,
       "version_minor": 0
      },
      "text/plain": [
       "HBox(children=(IntProgress(value=0, description='training_model', max=14, style=ProgressStyle(description_widt…"
      ]
     },
     "metadata": {},
     "output_type": "display_data"
    },
    {
     "data": {
      "application/vnd.jupyter.widget-view+json": {
       "model_id": "e44d07e721684665a0a6bacb6e2daf65",
       "version_major": 2,
       "version_minor": 0
      },
      "text/plain": [
       "HBox(children=(IntProgress(value=0, description='training_model', max=14, style=ProgressStyle(description_widt…"
      ]
     },
     "metadata": {},
     "output_type": "display_data"
    },
    {
     "data": {
      "application/vnd.jupyter.widget-view+json": {
       "model_id": "f5682613b94b4fb0a965108bfa4cbd20",
       "version_major": 2,
       "version_minor": 0
      },
      "text/plain": [
       "HBox(children=(IntProgress(value=0, description='training_model', max=14, style=ProgressStyle(description_widt…"
      ]
     },
     "metadata": {},
     "output_type": "display_data"
    },
    {
     "data": {
      "application/vnd.jupyter.widget-view+json": {
       "model_id": "6b84d0ac92a942fbb2d3143d2cccc19a",
       "version_major": 2,
       "version_minor": 0
      },
      "text/plain": [
       "HBox(children=(IntProgress(value=0, description='training_model', max=14, style=ProgressStyle(description_widt…"
      ]
     },
     "metadata": {},
     "output_type": "display_data"
    },
    {
     "data": {
      "application/vnd.jupyter.widget-view+json": {
       "model_id": "3991583b6cee40f9b03864b97f89b6ba",
       "version_major": 2,
       "version_minor": 0
      },
      "text/plain": [
       "HBox(children=(IntProgress(value=0, description='training_model', max=14, style=ProgressStyle(description_widt…"
      ]
     },
     "metadata": {},
     "output_type": "display_data"
    },
    {
     "data": {
      "application/vnd.jupyter.widget-view+json": {
       "model_id": "e0fac38c134047b6b406e21a74685809",
       "version_major": 2,
       "version_minor": 0
      },
      "text/plain": [
       "HBox(children=(IntProgress(value=0, description='training_model', max=14, style=ProgressStyle(description_widt…"
      ]
     },
     "metadata": {},
     "output_type": "display_data"
    },
    {
     "data": {
      "application/vnd.jupyter.widget-view+json": {
       "model_id": "b3734d6fe07041198c83529af90bd899",
       "version_major": 2,
       "version_minor": 0
      },
      "text/plain": [
       "HBox(children=(IntProgress(value=0, description='training_model', max=14, style=ProgressStyle(description_widt…"
      ]
     },
     "metadata": {},
     "output_type": "display_data"
    },
    {
     "data": {
      "application/vnd.jupyter.widget-view+json": {
       "model_id": "02757ad669894f5789f843c71a7991d1",
       "version_major": 2,
       "version_minor": 0
      },
      "text/plain": [
       "HBox(children=(IntProgress(value=0, description='training_model', max=14, style=ProgressStyle(description_widt…"
      ]
     },
     "metadata": {},
     "output_type": "display_data"
    },
    {
     "data": {
      "application/vnd.jupyter.widget-view+json": {
       "model_id": "9b5ee29fd4bd4b1bb859c3f07739d932",
       "version_major": 2,
       "version_minor": 0
      },
      "text/plain": [
       "HBox(children=(IntProgress(value=0, description='training_model', max=14, style=ProgressStyle(description_widt…"
      ]
     },
     "metadata": {},
     "output_type": "display_data"
    },
    {
     "data": {
      "application/vnd.jupyter.widget-view+json": {
       "model_id": "4533a3da89114f3dba4480f2e6bb9c24",
       "version_major": 2,
       "version_minor": 0
      },
      "text/plain": [
       "HBox(children=(IntProgress(value=0, description='training_model', max=14, style=ProgressStyle(description_widt…"
      ]
     },
     "metadata": {},
     "output_type": "display_data"
    },
    {
     "data": {
      "application/vnd.jupyter.widget-view+json": {
       "model_id": "8b3608759fd34e9b999b498f6820e1de",
       "version_major": 2,
       "version_minor": 0
      },
      "text/plain": [
       "HBox(children=(IntProgress(value=0, description='training_model', max=14, style=ProgressStyle(description_widt…"
      ]
     },
     "metadata": {},
     "output_type": "display_data"
    },
    {
     "data": {
      "application/vnd.jupyter.widget-view+json": {
       "model_id": "63b1b6168861443a9b4f32986a006d0e",
       "version_major": 2,
       "version_minor": 0
      },
      "text/plain": [
       "HBox(children=(IntProgress(value=0, description='training_model', max=14, style=ProgressStyle(description_widt…"
      ]
     },
     "metadata": {},
     "output_type": "display_data"
    },
    {
     "data": {
      "application/vnd.jupyter.widget-view+json": {
       "model_id": "294501b563ec4cd1af3267c9be140168",
       "version_major": 2,
       "version_minor": 0
      },
      "text/plain": [
       "HBox(children=(IntProgress(value=0, description='training_model', max=14, style=ProgressStyle(description_widt…"
      ]
     },
     "metadata": {},
     "output_type": "display_data"
    },
    {
     "data": {
      "application/vnd.jupyter.widget-view+json": {
       "model_id": "59238b34498349bdb822057022a256f1",
       "version_major": 2,
       "version_minor": 0
      },
      "text/plain": [
       "HBox(children=(IntProgress(value=0, description='training_model', max=14, style=ProgressStyle(description_widt…"
      ]
     },
     "metadata": {},
     "output_type": "display_data"
    },
    {
     "data": {
      "application/vnd.jupyter.widget-view+json": {
       "model_id": "18c96902665b42629df261b268e500ea",
       "version_major": 2,
       "version_minor": 0
      },
      "text/plain": [
       "HBox(children=(IntProgress(value=0, description='training_model', max=14, style=ProgressStyle(description_widt…"
      ]
     },
     "metadata": {},
     "output_type": "display_data"
    },
    {
     "data": {
      "application/vnd.jupyter.widget-view+json": {
       "model_id": "4ce3ebccb7074ae99a196803a747fc1e",
       "version_major": 2,
       "version_minor": 0
      },
      "text/plain": [
       "HBox(children=(IntProgress(value=0, description='training_model', max=14, style=ProgressStyle(description_widt…"
      ]
     },
     "metadata": {},
     "output_type": "display_data"
    },
    {
     "data": {
      "application/vnd.jupyter.widget-view+json": {
       "model_id": "c7b2e9bff56249bbb5675502df53997d",
       "version_major": 2,
       "version_minor": 0
      },
      "text/plain": [
       "HBox(children=(IntProgress(value=0, description='training_model', max=14, style=ProgressStyle(description_widt…"
      ]
     },
     "metadata": {},
     "output_type": "display_data"
    },
    {
     "data": {
      "application/vnd.jupyter.widget-view+json": {
       "model_id": "af390a8688824de98617c366a3da8ca6",
       "version_major": 2,
       "version_minor": 0
      },
      "text/plain": [
       "HBox(children=(IntProgress(value=0, description='training_model', max=14, style=ProgressStyle(description_widt…"
      ]
     },
     "metadata": {},
     "output_type": "display_data"
    },
    {
     "data": {
      "application/vnd.jupyter.widget-view+json": {
       "model_id": "c6c772a8e5ba485c8b0d88d43187d031",
       "version_major": 2,
       "version_minor": 0
      },
      "text/plain": [
       "HBox(children=(IntProgress(value=0, description='training_model', max=14, style=ProgressStyle(description_widt…"
      ]
     },
     "metadata": {},
     "output_type": "display_data"
    },
    {
     "data": {
      "application/vnd.jupyter.widget-view+json": {
       "model_id": "3bfa1ffa0887480f99763a0010d86388",
       "version_major": 2,
       "version_minor": 0
      },
      "text/plain": [
       "HBox(children=(IntProgress(value=0, description='training_model', max=14, style=ProgressStyle(description_widt…"
      ]
     },
     "metadata": {},
     "output_type": "display_data"
    },
    {
     "data": {
      "application/vnd.jupyter.widget-view+json": {
       "model_id": "93858b079b7d453caa08dab2d6e8184e",
       "version_major": 2,
       "version_minor": 0
      },
      "text/plain": [
       "HBox(children=(IntProgress(value=0, description='training_model', max=14, style=ProgressStyle(description_widt…"
      ]
     },
     "metadata": {},
     "output_type": "display_data"
    },
    {
     "data": {
      "application/vnd.jupyter.widget-view+json": {
       "model_id": "bc1d629a75e44539ba85ba323c108b4c",
       "version_major": 2,
       "version_minor": 0
      },
      "text/plain": [
       "HBox(children=(IntProgress(value=0, description='training_model', max=14, style=ProgressStyle(description_widt…"
      ]
     },
     "metadata": {},
     "output_type": "display_data"
    },
    {
     "data": {
      "application/vnd.jupyter.widget-view+json": {
       "model_id": "f86fd936a7a348d8930549704fb0d100",
       "version_major": 2,
       "version_minor": 0
      },
      "text/plain": [
       "HBox(children=(IntProgress(value=0, description='training_model', max=14, style=ProgressStyle(description_widt…"
      ]
     },
     "metadata": {},
     "output_type": "display_data"
    },
    {
     "data": {
      "application/vnd.jupyter.widget-view+json": {
       "model_id": "01ee891d486a4022ad751451c717f74e",
       "version_major": 2,
       "version_minor": 0
      },
      "text/plain": [
       "HBox(children=(IntProgress(value=0, description='training_model', max=14, style=ProgressStyle(description_widt…"
      ]
     },
     "metadata": {},
     "output_type": "display_data"
    },
    {
     "data": {
      "application/vnd.jupyter.widget-view+json": {
       "model_id": "1d922dc69b444826b70c1bdbfa73ec5e",
       "version_major": 2,
       "version_minor": 0
      },
      "text/plain": [
       "HBox(children=(IntProgress(value=0, description='training_model', max=14, style=ProgressStyle(description_widt…"
      ]
     },
     "metadata": {},
     "output_type": "display_data"
    },
    {
     "name": "stdout",
     "output_type": "stream",
     "text": [
      "\n",
      "\n",
      "####### The model is trained on Following Columns: ###########\n",
      "\n",
      "Index(['BASE_PRICE', 'FEATURE', 'DISPLAY', 'MANUFACTURER_1', 'MANUFACTURER_2',\n",
      "       'MANUFACTURER_3', 'MANUFACTURER_4', 'MANUFACTURER_5', 'MANUFACTURER_6',\n",
      "       'MANUFACTURER_7', 'MANUFACTURER_8', 'MANUFACTURER_9', 'CATEGORY_1',\n",
      "       'CATEGORY_2', 'CATEGORY_3', 'CATEGORY_4', 'SUB_CATEGORY_1',\n",
      "       'SUB_CATEGORY_2', 'SUB_CATEGORY_3', 'SUB_CATEGORY_4', 'SUB_CATEGORY_5',\n",
      "       'SUB_CATEGORY_6', 'SUB_CATEGORY_7', 'PRODUCT_SIZE',\n",
      "       'ADDRESS_STATE_PROV_CODE_1', 'ADDRESS_STATE_PROV_CODE_2',\n",
      "       'ADDRESS_STATE_PROV_CODE_3', 'ADDRESS_STATE_PROV_CODE_4', 'MSA_CODE_1',\n",
      "       'MSA_CODE_2', 'MSA_CODE_3', 'MSA_CODE_4', 'MSA_CODE_5', 'MSA_CODE_6',\n",
      "       'MSA_CODE_7', 'MSA_CODE_8', 'MSA_CODE_9', 'SEG_VALUE_NAME',\n",
      "       'SALES_AREA_SIZE_NUM', 'AVG_WEEKLY_BASKETS'],\n",
      "      dtype='object')\n",
      "===============================================================\n"
     ]
    }
   ],
   "source": [
    "depth_results = []\n",
    "data = merged_data.drop(columns=['STORE_NUM', 'UPC'])\n",
    "\n",
    "\n",
    "valid_df = validation_df(merged_data, week, no_of_months=2, no_of_validation= 14)\n",
    "for depth in tqdm_notebook(range(1,30,1), leave=True, desc= 'max_depth'):    \n",
    "    result = {}\n",
    "\n",
    "    model_RFR = RandomForestRegressor(max_depth=depth,n_estimators=175)\n",
    "\n",
    "    rmsle_train, rmsle_valid , data_train = train_model(valid_df, data, model_RFR)\n",
    "    result['depth'] = depth\n",
    "    result['rmsle_train'] = rmsle_train\n",
    "    result['rmsle_valid'] = rmsle_valid\n",
    "    depth_results.append(result)\n",
    "    \n",
    "get_colums(data_train)"
   ]
  },
  {
   "cell_type": "code",
   "execution_count": 28,
   "metadata": {},
   "outputs": [],
   "source": [
    "x = pd.DataFrame.from_dict(depth_results)"
   ]
  },
  {
   "cell_type": "code",
   "execution_count": 29,
   "metadata": {},
   "outputs": [
    {
     "data": {
      "text/html": [
       "<div>\n",
       "<style scoped>\n",
       "    .dataframe tbody tr th:only-of-type {\n",
       "        vertical-align: middle;\n",
       "    }\n",
       "\n",
       "    .dataframe tbody tr th {\n",
       "        vertical-align: top;\n",
       "    }\n",
       "\n",
       "    .dataframe thead th {\n",
       "        text-align: right;\n",
       "    }\n",
       "</style>\n",
       "<table border=\"1\" class=\"dataframe\">\n",
       "  <thead>\n",
       "    <tr style=\"text-align: right;\">\n",
       "      <th></th>\n",
       "      <th>depth</th>\n",
       "      <th>rmsle_train</th>\n",
       "      <th>rmsle_valid</th>\n",
       "    </tr>\n",
       "  </thead>\n",
       "  <tbody>\n",
       "    <tr>\n",
       "      <td>0</td>\n",
       "      <td>1</td>\n",
       "      <td>0.934384</td>\n",
       "      <td>0.936865</td>\n",
       "    </tr>\n",
       "    <tr>\n",
       "      <td>1</td>\n",
       "      <td>2</td>\n",
       "      <td>0.825135</td>\n",
       "      <td>0.834442</td>\n",
       "    </tr>\n",
       "    <tr>\n",
       "      <td>2</td>\n",
       "      <td>3</td>\n",
       "      <td>0.739896</td>\n",
       "      <td>0.758267</td>\n",
       "    </tr>\n",
       "    <tr>\n",
       "      <td>3</td>\n",
       "      <td>4</td>\n",
       "      <td>0.673906</td>\n",
       "      <td>0.699131</td>\n",
       "    </tr>\n",
       "    <tr>\n",
       "      <td>4</td>\n",
       "      <td>5</td>\n",
       "      <td>0.631898</td>\n",
       "      <td>0.665750</td>\n",
       "    </tr>\n",
       "    <tr>\n",
       "      <td>5</td>\n",
       "      <td>6</td>\n",
       "      <td>0.585220</td>\n",
       "      <td>0.631552</td>\n",
       "    </tr>\n",
       "    <tr>\n",
       "      <td>6</td>\n",
       "      <td>7</td>\n",
       "      <td>0.543250</td>\n",
       "      <td>0.601585</td>\n",
       "    </tr>\n",
       "    <tr>\n",
       "      <td>7</td>\n",
       "      <td>8</td>\n",
       "      <td>0.508169</td>\n",
       "      <td>0.578164</td>\n",
       "    </tr>\n",
       "    <tr>\n",
       "      <td>8</td>\n",
       "      <td>9</td>\n",
       "      <td>0.476259</td>\n",
       "      <td>0.556525</td>\n",
       "    </tr>\n",
       "    <tr>\n",
       "      <td>9</td>\n",
       "      <td>10</td>\n",
       "      <td>0.448519</td>\n",
       "      <td>0.539950</td>\n",
       "    </tr>\n",
       "    <tr>\n",
       "      <td>10</td>\n",
       "      <td>11</td>\n",
       "      <td>0.424192</td>\n",
       "      <td>0.528809</td>\n",
       "    </tr>\n",
       "    <tr>\n",
       "      <td>11</td>\n",
       "      <td>12</td>\n",
       "      <td>0.403039</td>\n",
       "      <td>0.520727</td>\n",
       "    </tr>\n",
       "    <tr>\n",
       "      <td>12</td>\n",
       "      <td>13</td>\n",
       "      <td>0.385482</td>\n",
       "      <td>0.514683</td>\n",
       "    </tr>\n",
       "    <tr>\n",
       "      <td>13</td>\n",
       "      <td>14</td>\n",
       "      <td>0.371243</td>\n",
       "      <td>0.512363</td>\n",
       "    </tr>\n",
       "    <tr>\n",
       "      <td>14</td>\n",
       "      <td>15</td>\n",
       "      <td>0.360544</td>\n",
       "      <td>0.508949</td>\n",
       "    </tr>\n",
       "    <tr>\n",
       "      <td>15</td>\n",
       "      <td>16</td>\n",
       "      <td>0.352717</td>\n",
       "      <td>0.509451</td>\n",
       "    </tr>\n",
       "    <tr>\n",
       "      <td>16</td>\n",
       "      <td>17</td>\n",
       "      <td>0.347057</td>\n",
       "      <td>0.508852</td>\n",
       "    </tr>\n",
       "    <tr>\n",
       "      <td>17</td>\n",
       "      <td>18</td>\n",
       "      <td>0.343063</td>\n",
       "      <td>0.509256</td>\n",
       "    </tr>\n",
       "    <tr>\n",
       "      <td>18</td>\n",
       "      <td>19</td>\n",
       "      <td>0.340418</td>\n",
       "      <td>0.509310</td>\n",
       "    </tr>\n",
       "    <tr>\n",
       "      <td>19</td>\n",
       "      <td>20</td>\n",
       "      <td>0.338646</td>\n",
       "      <td>0.510002</td>\n",
       "    </tr>\n",
       "    <tr>\n",
       "      <td>20</td>\n",
       "      <td>21</td>\n",
       "      <td>0.337478</td>\n",
       "      <td>0.509949</td>\n",
       "    </tr>\n",
       "    <tr>\n",
       "      <td>21</td>\n",
       "      <td>22</td>\n",
       "      <td>0.336590</td>\n",
       "      <td>0.509955</td>\n",
       "    </tr>\n",
       "    <tr>\n",
       "      <td>22</td>\n",
       "      <td>23</td>\n",
       "      <td>0.336154</td>\n",
       "      <td>0.509569</td>\n",
       "    </tr>\n",
       "    <tr>\n",
       "      <td>23</td>\n",
       "      <td>24</td>\n",
       "      <td>0.335888</td>\n",
       "      <td>0.510353</td>\n",
       "    </tr>\n",
       "    <tr>\n",
       "      <td>24</td>\n",
       "      <td>25</td>\n",
       "      <td>0.335680</td>\n",
       "      <td>0.511073</td>\n",
       "    </tr>\n",
       "    <tr>\n",
       "      <td>25</td>\n",
       "      <td>26</td>\n",
       "      <td>0.335575</td>\n",
       "      <td>0.511124</td>\n",
       "    </tr>\n",
       "    <tr>\n",
       "      <td>26</td>\n",
       "      <td>27</td>\n",
       "      <td>0.335588</td>\n",
       "      <td>0.510341</td>\n",
       "    </tr>\n",
       "    <tr>\n",
       "      <td>27</td>\n",
       "      <td>28</td>\n",
       "      <td>0.335485</td>\n",
       "      <td>0.510836</td>\n",
       "    </tr>\n",
       "    <tr>\n",
       "      <td>28</td>\n",
       "      <td>29</td>\n",
       "      <td>0.335521</td>\n",
       "      <td>0.510460</td>\n",
       "    </tr>\n",
       "  </tbody>\n",
       "</table>\n",
       "</div>"
      ],
      "text/plain": [
       "    depth  rmsle_train  rmsle_valid\n",
       "0       1     0.934384     0.936865\n",
       "1       2     0.825135     0.834442\n",
       "2       3     0.739896     0.758267\n",
       "3       4     0.673906     0.699131\n",
       "4       5     0.631898     0.665750\n",
       "5       6     0.585220     0.631552\n",
       "6       7     0.543250     0.601585\n",
       "7       8     0.508169     0.578164\n",
       "8       9     0.476259     0.556525\n",
       "9      10     0.448519     0.539950\n",
       "10     11     0.424192     0.528809\n",
       "11     12     0.403039     0.520727\n",
       "12     13     0.385482     0.514683\n",
       "13     14     0.371243     0.512363\n",
       "14     15     0.360544     0.508949\n",
       "15     16     0.352717     0.509451\n",
       "16     17     0.347057     0.508852\n",
       "17     18     0.343063     0.509256\n",
       "18     19     0.340418     0.509310\n",
       "19     20     0.338646     0.510002\n",
       "20     21     0.337478     0.509949\n",
       "21     22     0.336590     0.509955\n",
       "22     23     0.336154     0.509569\n",
       "23     24     0.335888     0.510353\n",
       "24     25     0.335680     0.511073\n",
       "25     26     0.335575     0.511124\n",
       "26     27     0.335588     0.510341\n",
       "27     28     0.335485     0.510836\n",
       "28     29     0.335521     0.510460"
      ]
     },
     "execution_count": 29,
     "metadata": {},
     "output_type": "execute_result"
    }
   ],
   "source": [
    "x"
   ]
  },
  {
   "cell_type": "code",
   "execution_count": 30,
   "metadata": {},
   "outputs": [
    {
     "data": {
      "image/png": "[encoded data removed]",
      "text/plain": [
       "<Figure size 1224x504 with 1 Axes>"
      ]
     },
     "metadata": {
      "needs_background": "light"
     },
     "output_type": "display_data"
    }
   ],
   "source": [
    "\n",
    "plt.figure(figsize=(17,7))\n",
    "plt.plot(x['depth'], x['rmsle_train'], marker='o',label='train');\n",
    "plt.plot(x['depth'], x['rmsle_valid'], marker='o',label='validation');\n",
    "plt.title('Model: Random Forest Regressor')\n",
    "plt.ylabel('RMSLE')\n",
    "plt.xlabel('max_depth')\n",
    "plt.legend();"
   ]
  },
  {
   "cell_type": "markdown",
   "metadata": {},
   "source": [
    "### `MAX_DEPTH = 10`\n",
    "\n",
    "The RMSLE gets stable on both validation and train set after max_depth 10 and the RMSLE is still around 0.67"
   ]
  },
  {
   "cell_type": "markdown",
   "metadata": {},
   "source": [
    "---\n",
    "---\n",
    "\n",
    "### `ADD TIME BASED FEATURES`\n",
    "\n",
    "- Now, we will add some Time based features to the data like year of the transaction, month, day, day_of_year, week, quarter.\n",
    "\n",
    "- And we will once again check the performace of the model for different max_depth 1 to 29 and will decide whether we have selected the right value of max_depth or not. \n",
    "\n",
    "\n",
    "\n",
    "---"
   ]
  },
  {
   "cell_type": "code",
   "execution_count": 31,
   "metadata": {},
   "outputs": [],
   "source": [
    "# year\n",
    "merged_data['year']  = merged_data['WEEK_END_DATE'].dt.year\n",
    "# month\n",
    "merged_data['month'] = merged_data['WEEK_END_DATE'].dt.month\n",
    "# day\n",
    "merged_data['day'] = merged_data['WEEK_END_DATE'].dt.day\n",
    "# day_of year\n",
    "merged_data['day_of_year'] = merged_data['WEEK_END_DATE'].dt.dayofyear\n",
    "# week \n",
    "merged_data[\"week\"] = merged_data['WEEK_END_DATE'].dt.week\n",
    "# quarter\n",
    "merged_data[\"quarter\"] = merged_data['WEEK_END_DATE'].dt.quarter"
   ]
  },
  {
   "cell_type": "code",
   "execution_count": 32,
   "metadata": {},
   "outputs": [
    {
     "data": {
      "application/vnd.jupyter.widget-view+json": {
       "model_id": "77f0eae0809b4fdbb644f1c0e652cfc0",
       "version_major": 2,
       "version_minor": 0
      },
      "text/plain": [
       "HBox(children=(IntProgress(value=0, description='max_depth', max=15, style=ProgressStyle(description_width='in…"
      ]
     },
     "metadata": {},
     "output_type": "display_data"
    },
    {
     "data": {
      "application/vnd.jupyter.widget-view+json": {
       "model_id": "7c95d19323754f3dad0d5689261ac168",
       "version_major": 2,
       "version_minor": 0
      },
      "text/plain": [
       "HBox(children=(IntProgress(value=0, description='training_model', max=14, style=ProgressStyle(description_widt…"
      ]
     },
     "metadata": {},
     "output_type": "display_data"
    },
    {
     "data": {
      "application/vnd.jupyter.widget-view+json": {
       "model_id": "95693d3548624963987a304a59ab6ed1",
       "version_major": 2,
       "version_minor": 0
      },
      "text/plain": [
       "HBox(children=(IntProgress(value=0, description='training_model', max=14, style=ProgressStyle(description_widt…"
      ]
     },
     "metadata": {},
     "output_type": "display_data"
    },
    {
     "data": {
      "application/vnd.jupyter.widget-view+json": {
       "model_id": "f13fd3e1bbbd4a3facf0824bbdf0f37d",
       "version_major": 2,
       "version_minor": 0
      },
      "text/plain": [
       "HBox(children=(IntProgress(value=0, description='training_model', max=14, style=ProgressStyle(description_widt…"
      ]
     },
     "metadata": {},
     "output_type": "display_data"
    },
    {
     "data": {
      "application/vnd.jupyter.widget-view+json": {
       "model_id": "cfa0858c3b5c4511982486ded56d322c",
       "version_major": 2,
       "version_minor": 0
      },
      "text/plain": [
       "HBox(children=(IntProgress(value=0, description='training_model', max=14, style=ProgressStyle(description_widt…"
      ]
     },
     "metadata": {},
     "output_type": "display_data"
    },
    {
     "data": {
      "application/vnd.jupyter.widget-view+json": {
       "model_id": "5179f69ecfcf4e0ab33b8480dcf372ac",
       "version_major": 2,
       "version_minor": 0
      },
      "text/plain": [
       "HBox(children=(IntProgress(value=0, description='training_model', max=14, style=ProgressStyle(description_widt…"
      ]
     },
     "metadata": {},
     "output_type": "display_data"
    },
    {
     "data": {
      "application/vnd.jupyter.widget-view+json": {
       "model_id": "68b06cb1f81848fc82c111bef1d72377",
       "version_major": 2,
       "version_minor": 0
      },
      "text/plain": [
       "HBox(children=(IntProgress(value=0, description='training_model', max=14, style=ProgressStyle(description_widt…"
      ]
     },
     "metadata": {},
     "output_type": "display_data"
    },
    {
     "data": {
      "application/vnd.jupyter.widget-view+json": {
       "model_id": "1e2285422ea94e27964420ca6d5c0155",
       "version_major": 2,
       "version_minor": 0
      },
      "text/plain": [
       "HBox(children=(IntProgress(value=0, description='training_model', max=14, style=ProgressStyle(description_widt…"
      ]
     },
     "metadata": {},
     "output_type": "display_data"
    },
    {
     "data": {
      "application/vnd.jupyter.widget-view+json": {
       "model_id": "606e55eeab9849a4a5b285bc5340dd7c",
       "version_major": 2,
       "version_minor": 0
      },
      "text/plain": [
       "HBox(children=(IntProgress(value=0, description='training_model', max=14, style=ProgressStyle(description_widt…"
      ]
     },
     "metadata": {},
     "output_type": "display_data"
    },
    {
     "data": {
      "application/vnd.jupyter.widget-view+json": {
       "model_id": "0963325c0a7a4388ad7847a88ac5eecd",
       "version_major": 2,
       "version_minor": 0
      },
      "text/plain": [
       "HBox(children=(IntProgress(value=0, description='training_model', max=14, style=ProgressStyle(description_widt…"
      ]
     },
     "metadata": {},
     "output_type": "display_data"
    },
    {
     "data": {
      "application/vnd.jupyter.widget-view+json": {
       "model_id": "9b75f9e8f8c64e4187560bf969eb4acc",
       "version_major": 2,
       "version_minor": 0
      },
      "text/plain": [
       "HBox(children=(IntProgress(value=0, description='training_model', max=14, style=ProgressStyle(description_widt…"
      ]
     },
     "metadata": {},
     "output_type": "display_data"
    },
    {
     "data": {
      "application/vnd.jupyter.widget-view+json": {
       "model_id": "fc1350bf813f459abdd240998f0cc1f1",
       "version_major": 2,
       "version_minor": 0
      },
      "text/plain": [
       "HBox(children=(IntProgress(value=0, description='training_model', max=14, style=ProgressStyle(description_widt…"
      ]
     },
     "metadata": {},
     "output_type": "display_data"
    },
    {
     "data": {
      "application/vnd.jupyter.widget-view+json": {
       "model_id": "88485936f7ff44c29b935a3d293fe1f0",
       "version_major": 2,
       "version_minor": 0
      },
      "text/plain": [
       "HBox(children=(IntProgress(value=0, description='training_model', max=14, style=ProgressStyle(description_widt…"
      ]
     },
     "metadata": {},
     "output_type": "display_data"
    },
    {
     "data": {
      "application/vnd.jupyter.widget-view+json": {
       "model_id": "6585f52435754caea13edaf0776d1cf5",
       "version_major": 2,
       "version_minor": 0
      },
      "text/plain": [
       "HBox(children=(IntProgress(value=0, description='training_model', max=14, style=ProgressStyle(description_widt…"
      ]
     },
     "metadata": {},
     "output_type": "display_data"
    },
    {
     "data": {
      "application/vnd.jupyter.widget-view+json": {
       "model_id": "28f8b9055c604063af99fa19a73e509c",
       "version_major": 2,
       "version_minor": 0
      },
      "text/plain": [
       "HBox(children=(IntProgress(value=0, description='training_model', max=14, style=ProgressStyle(description_widt…"
      ]
     },
     "metadata": {},
     "output_type": "display_data"
    },
    {
     "data": {
      "application/vnd.jupyter.widget-view+json": {
       "model_id": "8a523d19f1844ceaa6ab309bd023ee99",
       "version_major": 2,
       "version_minor": 0
      },
      "text/plain": [
       "HBox(children=(IntProgress(value=0, description='training_model', max=14, style=ProgressStyle(description_widt…"
      ]
     },
     "metadata": {},
     "output_type": "display_data"
    },
    {
     "name": "stdout",
     "output_type": "stream",
     "text": [
      "\n",
      "\n",
      "####### The model is trained on Following Columns: ###########\n",
      "\n",
      "Index(['BASE_PRICE', 'FEATURE', 'DISPLAY', 'MANUFACTURER_1', 'MANUFACTURER_2',\n",
      "       'MANUFACTURER_3', 'MANUFACTURER_4', 'MANUFACTURER_5', 'MANUFACTURER_6',\n",
      "       'MANUFACTURER_7', 'MANUFACTURER_8', 'MANUFACTURER_9', 'CATEGORY_1',\n",
      "       'CATEGORY_2', 'CATEGORY_3', 'CATEGORY_4', 'SUB_CATEGORY_1',\n",
      "       'SUB_CATEGORY_2', 'SUB_CATEGORY_3', 'SUB_CATEGORY_4', 'SUB_CATEGORY_5',\n",
      "       'SUB_CATEGORY_6', 'SUB_CATEGORY_7', 'PRODUCT_SIZE',\n",
      "       'ADDRESS_STATE_PROV_CODE_1', 'ADDRESS_STATE_PROV_CODE_2',\n",
      "       'ADDRESS_STATE_PROV_CODE_3', 'ADDRESS_STATE_PROV_CODE_4', 'MSA_CODE_1',\n",
      "       'MSA_CODE_2', 'MSA_CODE_3', 'MSA_CODE_4', 'MSA_CODE_5', 'MSA_CODE_6',\n",
      "       'MSA_CODE_7', 'MSA_CODE_8', 'MSA_CODE_9', 'SEG_VALUE_NAME',\n",
      "       'SALES_AREA_SIZE_NUM', 'AVG_WEEKLY_BASKETS', 'year', 'month', 'day',\n",
      "       'day_of_year', 'week', 'quarter'],\n",
      "      dtype='object')\n",
      "===============================================================\n"
     ]
    }
   ],
   "source": [
    "depth_results = []\n",
    "data = merged_data.drop(columns=['STORE_NUM', 'UPC'])\n",
    "\n",
    "valid_df = validation_df(merged_data, week, no_of_months=2, no_of_validation= 14)\n",
    "for depth in tqdm_notebook(range(1,16,1), desc='max_depth', leave=True):    \n",
    "    result = {}\n",
    "\n",
    "    model_RFR = RandomForestRegressor(max_depth= depth, n_estimators= 175)\n",
    "\n",
    "    rmsle_train, rmsle_valid, data_train = train_model(valid_df, data, model_RFR)\n",
    "    result['depth'] = depth\n",
    "    result['rmsle_train'] = rmsle_train\n",
    "    result['rmsle_valid'] = rmsle_valid\n",
    "    depth_results.append(result)\n",
    "    \n",
    "get_colums(data_train)"
   ]
  },
  {
   "cell_type": "code",
   "execution_count": 33,
   "metadata": {},
   "outputs": [
    {
     "data": {
      "text/html": [
       "<div>\n",
       "<style scoped>\n",
       "    .dataframe tbody tr th:only-of-type {\n",
       "        vertical-align: middle;\n",
       "    }\n",
       "\n",
       "    .dataframe tbody tr th {\n",
       "        vertical-align: top;\n",
       "    }\n",
       "\n",
       "    .dataframe thead th {\n",
       "        text-align: right;\n",
       "    }\n",
       "</style>\n",
       "<table border=\"1\" class=\"dataframe\">\n",
       "  <thead>\n",
       "    <tr style=\"text-align: right;\">\n",
       "      <th></th>\n",
       "      <th>depth</th>\n",
       "      <th>rmsle_train</th>\n",
       "      <th>rmsle_valid</th>\n",
       "    </tr>\n",
       "  </thead>\n",
       "  <tbody>\n",
       "    <tr>\n",
       "      <td>0</td>\n",
       "      <td>1</td>\n",
       "      <td>0.934069</td>\n",
       "      <td>0.936659</td>\n",
       "    </tr>\n",
       "    <tr>\n",
       "      <td>1</td>\n",
       "      <td>2</td>\n",
       "      <td>0.825272</td>\n",
       "      <td>0.833733</td>\n",
       "    </tr>\n",
       "    <tr>\n",
       "      <td>2</td>\n",
       "      <td>3</td>\n",
       "      <td>0.740329</td>\n",
       "      <td>0.759179</td>\n",
       "    </tr>\n",
       "    <tr>\n",
       "      <td>3</td>\n",
       "      <td>4</td>\n",
       "      <td>0.673938</td>\n",
       "      <td>0.700639</td>\n",
       "    </tr>\n",
       "    <tr>\n",
       "      <td>4</td>\n",
       "      <td>5</td>\n",
       "      <td>0.630980</td>\n",
       "      <td>0.668328</td>\n",
       "    </tr>\n",
       "    <tr>\n",
       "      <td>5</td>\n",
       "      <td>6</td>\n",
       "      <td>0.583678</td>\n",
       "      <td>0.634267</td>\n",
       "    </tr>\n",
       "    <tr>\n",
       "      <td>6</td>\n",
       "      <td>7</td>\n",
       "      <td>0.541977</td>\n",
       "      <td>0.606128</td>\n",
       "    </tr>\n",
       "    <tr>\n",
       "      <td>7</td>\n",
       "      <td>8</td>\n",
       "      <td>0.504992</td>\n",
       "      <td>0.584964</td>\n",
       "    </tr>\n",
       "    <tr>\n",
       "      <td>8</td>\n",
       "      <td>9</td>\n",
       "      <td>0.470720</td>\n",
       "      <td>0.567512</td>\n",
       "    </tr>\n",
       "    <tr>\n",
       "      <td>9</td>\n",
       "      <td>10</td>\n",
       "      <td>0.438534</td>\n",
       "      <td>0.553799</td>\n",
       "    </tr>\n",
       "    <tr>\n",
       "      <td>10</td>\n",
       "      <td>11</td>\n",
       "      <td>0.407389</td>\n",
       "      <td>0.542753</td>\n",
       "    </tr>\n",
       "    <tr>\n",
       "      <td>11</td>\n",
       "      <td>12</td>\n",
       "      <td>0.378423</td>\n",
       "      <td>0.535499</td>\n",
       "    </tr>\n",
       "    <tr>\n",
       "      <td>12</td>\n",
       "      <td>13</td>\n",
       "      <td>0.351660</td>\n",
       "      <td>0.530907</td>\n",
       "    </tr>\n",
       "    <tr>\n",
       "      <td>13</td>\n",
       "      <td>14</td>\n",
       "      <td>0.327094</td>\n",
       "      <td>0.527591</td>\n",
       "    </tr>\n",
       "    <tr>\n",
       "      <td>14</td>\n",
       "      <td>15</td>\n",
       "      <td>0.306054</td>\n",
       "      <td>0.524451</td>\n",
       "    </tr>\n",
       "  </tbody>\n",
       "</table>\n",
       "</div>"
      ],
      "text/plain": [
       "    depth  rmsle_train  rmsle_valid\n",
       "0       1     0.934069     0.936659\n",
       "1       2     0.825272     0.833733\n",
       "2       3     0.740329     0.759179\n",
       "3       4     0.673938     0.700639\n",
       "4       5     0.630980     0.668328\n",
       "5       6     0.583678     0.634267\n",
       "6       7     0.541977     0.606128\n",
       "7       8     0.504992     0.584964\n",
       "8       9     0.470720     0.567512\n",
       "9      10     0.438534     0.553799\n",
       "10     11     0.407389     0.542753\n",
       "11     12     0.378423     0.535499\n",
       "12     13     0.351660     0.530907\n",
       "13     14     0.327094     0.527591\n",
       "14     15     0.306054     0.524451"
      ]
     },
     "execution_count": 33,
     "metadata": {},
     "output_type": "execute_result"
    }
   ],
   "source": [
    "x = pd.DataFrame.from_dict(depth_results)\n",
    "x"
   ]
  },
  {
   "cell_type": "code",
   "execution_count": 34,
   "metadata": {},
   "outputs": [
    {
     "data": {
      "image/png": "[encoded data removed]",
      "text/plain": [
       "<Figure size 1224x504 with 1 Axes>"
      ]
     },
     "metadata": {
      "needs_background": "light"
     },
     "output_type": "display_data"
    }
   ],
   "source": [
    "x = pd.DataFrame.from_dict(depth_results)\n",
    "plt.figure(figsize=(17,7))\n",
    "plt.plot(x['depth'], x['rmsle_train'], marker='o',label='train');\n",
    "plt.plot(x['depth'], x['rmsle_valid'], marker='o',label='validation');\n",
    "plt.title('Model: Random Forest Regressor')\n",
    "plt.ylabel('RMSLE')\n",
    "plt.xlabel('max_depth')\n",
    "plt.legend();"
   ]
  },
  {
   "cell_type": "markdown",
   "metadata": {},
   "source": [
    "---\n",
    "---\n",
    "\n",
    "***So, we can still see that the value of RMSLE on both train and validation set is getting stable after the max_depth 10. Now, we will keep on adding the new features to the data and check if it is improving the results or not.*** \n",
    "\n",
    "\n",
    "\n",
    "- `max_depth` : 10\n",
    "- `no_of_estimators` : 175\n"
   ]
  },
  {
   "cell_type": "markdown",
   "metadata": {},
   "source": [
    "---\n",
    "### `NEW FEATURES`\n",
    "---"
   ]
  },
  {
   "cell_type": "code",
   "execution_count": 35,
   "metadata": {},
   "outputs": [],
   "source": [
    "# read the columns 'STORE_NUM' and 'UPC' from the train data\n",
    "original_train_data = pd.read_csv('data/sales.csv', usecols= ['STORE_NUM','UPC'])"
   ]
  },
  {
   "cell_type": "code",
   "execution_count": 36,
   "metadata": {},
   "outputs": [],
   "source": [
    "# read the original product_data\n",
    "original_product_data = pd.read_csv('data/product_data.csv')"
   ]
  },
  {
   "cell_type": "code",
   "execution_count": 37,
   "metadata": {},
   "outputs": [
    {
     "data": {
      "text/html": [
       "<div>\n",
       "<style scoped>\n",
       "    .dataframe tbody tr th:only-of-type {\n",
       "        vertical-align: middle;\n",
       "    }\n",
       "\n",
       "    .dataframe tbody tr th {\n",
       "        vertical-align: top;\n",
       "    }\n",
       "\n",
       "    .dataframe thead th {\n",
       "        text-align: right;\n",
       "    }\n",
       "</style>\n",
       "<table border=\"1\" class=\"dataframe\">\n",
       "  <thead>\n",
       "    <tr style=\"text-align: right;\">\n",
       "      <th></th>\n",
       "      <th>UPC</th>\n",
       "      <th>DESCRIPTION</th>\n",
       "      <th>MANUFACTURER</th>\n",
       "      <th>CATEGORY</th>\n",
       "      <th>SUB_CATEGORY</th>\n",
       "      <th>PRODUCT_SIZE</th>\n",
       "    </tr>\n",
       "  </thead>\n",
       "  <tbody>\n",
       "    <tr>\n",
       "      <td>0</td>\n",
       "      <td>1111009477</td>\n",
       "      <td>PL MINI TWIST PRETZELS</td>\n",
       "      <td>PRIVATE LABEL</td>\n",
       "      <td>BAG SNACKS</td>\n",
       "      <td>PRETZELS</td>\n",
       "      <td>15 OZ</td>\n",
       "    </tr>\n",
       "    <tr>\n",
       "      <td>1</td>\n",
       "      <td>1111009497</td>\n",
       "      <td>PL PRETZEL STICKS</td>\n",
       "      <td>PRIVATE LABEL</td>\n",
       "      <td>BAG SNACKS</td>\n",
       "      <td>PRETZELS</td>\n",
       "      <td>15 OZ</td>\n",
       "    </tr>\n",
       "    <tr>\n",
       "      <td>2</td>\n",
       "      <td>1111009507</td>\n",
       "      <td>PL TWIST PRETZELS</td>\n",
       "      <td>PRIVATE LABEL</td>\n",
       "      <td>BAG SNACKS</td>\n",
       "      <td>PRETZELS</td>\n",
       "      <td>15 OZ</td>\n",
       "    </tr>\n",
       "    <tr>\n",
       "      <td>3</td>\n",
       "      <td>1111038078</td>\n",
       "      <td>PL BL MINT ANTSPTC RINSE</td>\n",
       "      <td>PRIVATE LABEL</td>\n",
       "      <td>ORAL HYGIENE PRODUCTS</td>\n",
       "      <td>MOUTHWASHES (ANTISEPTIC)</td>\n",
       "      <td>500 ML</td>\n",
       "    </tr>\n",
       "    <tr>\n",
       "      <td>4</td>\n",
       "      <td>1111038080</td>\n",
       "      <td>PL ANTSPTC SPG MNT MTHWS</td>\n",
       "      <td>PRIVATE LABEL</td>\n",
       "      <td>ORAL HYGIENE PRODUCTS</td>\n",
       "      <td>MOUTHWASHES (ANTISEPTIC)</td>\n",
       "      <td>500 ML</td>\n",
       "    </tr>\n",
       "  </tbody>\n",
       "</table>\n",
       "</div>"
      ],
      "text/plain": [
       "          UPC               DESCRIPTION   MANUFACTURER               CATEGORY  \\\n",
       "0  1111009477    PL MINI TWIST PRETZELS  PRIVATE LABEL             BAG SNACKS   \n",
       "1  1111009497         PL PRETZEL STICKS  PRIVATE LABEL             BAG SNACKS   \n",
       "2  1111009507         PL TWIST PRETZELS  PRIVATE LABEL             BAG SNACKS   \n",
       "3  1111038078  PL BL MINT ANTSPTC RINSE  PRIVATE LABEL  ORAL HYGIENE PRODUCTS   \n",
       "4  1111038080  PL ANTSPTC SPG MNT MTHWS  PRIVATE LABEL  ORAL HYGIENE PRODUCTS   \n",
       "\n",
       "               SUB_CATEGORY PRODUCT_SIZE  \n",
       "0                  PRETZELS        15 OZ  \n",
       "1                  PRETZELS        15 OZ  \n",
       "2                  PRETZELS        15 OZ  \n",
       "3  MOUTHWASHES (ANTISEPTIC)       500 ML  \n",
       "4  MOUTHWASHES (ANTISEPTIC)       500 ML  "
      ]
     },
     "execution_count": 37,
     "metadata": {},
     "output_type": "execute_result"
    }
   ],
   "source": [
    "original_product_data.head(5)"
   ]
  },
  {
   "cell_type": "code",
   "execution_count": 38,
   "metadata": {},
   "outputs": [],
   "source": [
    "# merge the train and product data\n",
    "original_train_data = original_train_data.merge(original_product_data, how='left',on = 'UPC')"
   ]
  },
  {
   "cell_type": "code",
   "execution_count": 39,
   "metadata": {},
   "outputs": [],
   "source": [
    "# Now, we will create another dataframe unique_store_data\n",
    "# We will group the data by STORE_NUM and find unique values of the features 'MANUFACTURER', 'CATEGORY', 'SUB_CATEGORY'\n",
    "\n",
    "unique_store_data = original_train_data.groupby(['STORE_NUM'])['MANUFACTURER', 'CATEGORY', 'SUB_CATEGORY'].nunique().reset_index()"
   ]
  },
  {
   "cell_type": "code",
   "execution_count": 40,
   "metadata": {},
   "outputs": [],
   "source": [
    "# rename the columns of the dataframe 'unique_store_data'\n",
    "unique_store_data.columns = ['STORE_NUM', 'U_MANUFACTURER', 'U_CATEGORY', 'U_SUB_CATEGORY']"
   ]
  },
  {
   "cell_type": "code",
   "execution_count": 41,
   "metadata": {},
   "outputs": [],
   "source": [
    "# now , merge this new dataframe with the dataframe that has all the features.\n",
    "data_with_unique_store = merged_data.merge(unique_store_data, how= 'left', on= 'STORE_NUM')"
   ]
  },
  {
   "cell_type": "code",
   "execution_count": 42,
   "metadata": {},
   "outputs": [
    {
     "data": {
      "text/html": [
       "<div>\n",
       "<style scoped>\n",
       "    .dataframe tbody tr th:only-of-type {\n",
       "        vertical-align: middle;\n",
       "    }\n",
       "\n",
       "    .dataframe tbody tr th {\n",
       "        vertical-align: top;\n",
       "    }\n",
       "\n",
       "    .dataframe thead th {\n",
       "        text-align: right;\n",
       "    }\n",
       "</style>\n",
       "<table border=\"1\" class=\"dataframe\">\n",
       "  <thead>\n",
       "    <tr style=\"text-align: right;\">\n",
       "      <th></th>\n",
       "      <th>WEEK_END_DATE</th>\n",
       "      <th>STORE_NUM</th>\n",
       "      <th>UPC</th>\n",
       "      <th>BASE_PRICE</th>\n",
       "      <th>FEATURE</th>\n",
       "      <th>DISPLAY</th>\n",
       "      <th>UNITS</th>\n",
       "      <th>MANUFACTURER_1</th>\n",
       "      <th>MANUFACTURER_2</th>\n",
       "      <th>MANUFACTURER_3</th>\n",
       "      <th>...</th>\n",
       "      <th>AVG_WEEKLY_BASKETS</th>\n",
       "      <th>year</th>\n",
       "      <th>month</th>\n",
       "      <th>day</th>\n",
       "      <th>day_of_year</th>\n",
       "      <th>week</th>\n",
       "      <th>quarter</th>\n",
       "      <th>U_MANUFACTURER</th>\n",
       "      <th>U_CATEGORY</th>\n",
       "      <th>U_SUB_CATEGORY</th>\n",
       "    </tr>\n",
       "  </thead>\n",
       "  <tbody>\n",
       "    <tr>\n",
       "      <td>0</td>\n",
       "      <td>2009-01-14</td>\n",
       "      <td>367</td>\n",
       "      <td>1111009477</td>\n",
       "      <td>1.57</td>\n",
       "      <td>0</td>\n",
       "      <td>0</td>\n",
       "      <td>13</td>\n",
       "      <td>1</td>\n",
       "      <td>0</td>\n",
       "      <td>0</td>\n",
       "      <td>...</td>\n",
       "      <td>12707</td>\n",
       "      <td>2009</td>\n",
       "      <td>1</td>\n",
       "      <td>14</td>\n",
       "      <td>14</td>\n",
       "      <td>3</td>\n",
       "      <td>1</td>\n",
       "      <td>4</td>\n",
       "      <td>3</td>\n",
       "      <td>5</td>\n",
       "    </tr>\n",
       "    <tr>\n",
       "      <td>1</td>\n",
       "      <td>2009-01-14</td>\n",
       "      <td>367</td>\n",
       "      <td>1111009497</td>\n",
       "      <td>1.39</td>\n",
       "      <td>0</td>\n",
       "      <td>0</td>\n",
       "      <td>20</td>\n",
       "      <td>1</td>\n",
       "      <td>0</td>\n",
       "      <td>0</td>\n",
       "      <td>...</td>\n",
       "      <td>12707</td>\n",
       "      <td>2009</td>\n",
       "      <td>1</td>\n",
       "      <td>14</td>\n",
       "      <td>14</td>\n",
       "      <td>3</td>\n",
       "      <td>1</td>\n",
       "      <td>4</td>\n",
       "      <td>3</td>\n",
       "      <td>5</td>\n",
       "    </tr>\n",
       "    <tr>\n",
       "      <td>2</td>\n",
       "      <td>2009-01-14</td>\n",
       "      <td>367</td>\n",
       "      <td>1111085319</td>\n",
       "      <td>1.88</td>\n",
       "      <td>0</td>\n",
       "      <td>0</td>\n",
       "      <td>14</td>\n",
       "      <td>1</td>\n",
       "      <td>0</td>\n",
       "      <td>0</td>\n",
       "      <td>...</td>\n",
       "      <td>12707</td>\n",
       "      <td>2009</td>\n",
       "      <td>1</td>\n",
       "      <td>14</td>\n",
       "      <td>14</td>\n",
       "      <td>3</td>\n",
       "      <td>1</td>\n",
       "      <td>4</td>\n",
       "      <td>3</td>\n",
       "      <td>5</td>\n",
       "    </tr>\n",
       "    <tr>\n",
       "      <td>3</td>\n",
       "      <td>2009-01-14</td>\n",
       "      <td>367</td>\n",
       "      <td>1111085345</td>\n",
       "      <td>1.88</td>\n",
       "      <td>0</td>\n",
       "      <td>0</td>\n",
       "      <td>29</td>\n",
       "      <td>1</td>\n",
       "      <td>0</td>\n",
       "      <td>0</td>\n",
       "      <td>...</td>\n",
       "      <td>12707</td>\n",
       "      <td>2009</td>\n",
       "      <td>1</td>\n",
       "      <td>14</td>\n",
       "      <td>14</td>\n",
       "      <td>3</td>\n",
       "      <td>1</td>\n",
       "      <td>4</td>\n",
       "      <td>3</td>\n",
       "      <td>5</td>\n",
       "    </tr>\n",
       "    <tr>\n",
       "      <td>4</td>\n",
       "      <td>2009-01-14</td>\n",
       "      <td>367</td>\n",
       "      <td>1111085350</td>\n",
       "      <td>1.98</td>\n",
       "      <td>0</td>\n",
       "      <td>0</td>\n",
       "      <td>35</td>\n",
       "      <td>1</td>\n",
       "      <td>0</td>\n",
       "      <td>0</td>\n",
       "      <td>...</td>\n",
       "      <td>12707</td>\n",
       "      <td>2009</td>\n",
       "      <td>1</td>\n",
       "      <td>14</td>\n",
       "      <td>14</td>\n",
       "      <td>3</td>\n",
       "      <td>1</td>\n",
       "      <td>4</td>\n",
       "      <td>3</td>\n",
       "      <td>5</td>\n",
       "    </tr>\n",
       "  </tbody>\n",
       "</table>\n",
       "<p>5 rows × 53 columns</p>\n",
       "</div>"
      ],
      "text/plain": [
       "  WEEK_END_DATE  STORE_NUM         UPC  BASE_PRICE  FEATURE  DISPLAY  UNITS  \\\n",
       "0    2009-01-14        367  1111009477        1.57        0        0     13   \n",
       "1    2009-01-14        367  1111009497        1.39        0        0     20   \n",
       "2    2009-01-14        367  1111085319        1.88        0        0     14   \n",
       "3    2009-01-14        367  1111085345        1.88        0        0     29   \n",
       "4    2009-01-14        367  1111085350        1.98        0        0     35   \n",
       "\n",
       "   MANUFACTURER_1  MANUFACTURER_2  MANUFACTURER_3  ...  AVG_WEEKLY_BASKETS  \\\n",
       "0               1               0               0  ...               12707   \n",
       "1               1               0               0  ...               12707   \n",
       "2               1               0               0  ...               12707   \n",
       "3               1               0               0  ...               12707   \n",
       "4               1               0               0  ...               12707   \n",
       "\n",
       "   year  month  day  day_of_year  week  quarter  U_MANUFACTURER  U_CATEGORY  \\\n",
       "0  2009      1   14           14     3        1               4           3   \n",
       "1  2009      1   14           14     3        1               4           3   \n",
       "2  2009      1   14           14     3        1               4           3   \n",
       "3  2009      1   14           14     3        1               4           3   \n",
       "4  2009      1   14           14     3        1               4           3   \n",
       "\n",
       "   U_SUB_CATEGORY  \n",
       "0               5  \n",
       "1               5  \n",
       "2               5  \n",
       "3               5  \n",
       "4               5  \n",
       "\n",
       "[5 rows x 53 columns]"
      ]
     },
     "execution_count": 42,
     "metadata": {},
     "output_type": "execute_result"
    }
   ],
   "source": [
    "# let's have a look at the data \n",
    "data_with_unique_store.head()"
   ]
  },
  {
   "cell_type": "code",
   "execution_count": 43,
   "metadata": {},
   "outputs": [
    {
     "data": {
      "application/vnd.jupyter.widget-view+json": {
       "model_id": "1f23ecef6cc94078bfb9b4d3c7eb6716",
       "version_major": 2,
       "version_minor": 0
      },
      "text/plain": [
       "HBox(children=(IntProgress(value=0, description='training_model', max=14, style=ProgressStyle(description_widt…"
      ]
     },
     "metadata": {},
     "output_type": "display_data"
    },
    {
     "name": "stdout",
     "output_type": "stream",
     "text": [
      "\r"
     ]
    }
   ],
   "source": [
    "# train a model with the new features.\n",
    "model_RFR = RandomForestRegressor(max_depth=10, n_estimators=175)\n",
    "new_data = data_with_unique_store.drop(columns=['STORE_NUM', 'UPC'])\n",
    "\n",
    "valid_df = validation_df(new_data, week, no_of_months=2, no_of_validation= 14)\n",
    "\n",
    "rmsle_train, rmsle_valid, data_train = train_model(valid_df, new_data, model_RFR)"
   ]
  },
  {
   "cell_type": "code",
   "execution_count": 44,
   "metadata": {},
   "outputs": [
    {
     "name": "stdout",
     "output_type": "stream",
     "text": [
      "RMSLE on train set:  0.43505187496530645\n",
      "RMSLE on validation set: 0.5509033315330136\n"
     ]
    }
   ],
   "source": [
    "print('RMSLE on train set: ', rmsle_train)\n",
    "print('RMSLE on validation set:', rmsle_valid)"
   ]
  },
  {
   "cell_type": "code",
   "execution_count": 45,
   "metadata": {},
   "outputs": [
    {
     "data": {
      "text/plain": [
       "Index(['BASE_PRICE', 'FEATURE', 'DISPLAY', 'MANUFACTURER_1', 'MANUFACTURER_2',\n",
       "       'MANUFACTURER_3', 'MANUFACTURER_4', 'MANUFACTURER_5', 'MANUFACTURER_6',\n",
       "       'MANUFACTURER_7', 'MANUFACTURER_8', 'MANUFACTURER_9', 'CATEGORY_1',\n",
       "       'CATEGORY_2', 'CATEGORY_3', 'CATEGORY_4', 'SUB_CATEGORY_1',\n",
       "       'SUB_CATEGORY_2', 'SUB_CATEGORY_3', 'SUB_CATEGORY_4', 'SUB_CATEGORY_5',\n",
       "       'SUB_CATEGORY_6', 'SUB_CATEGORY_7', 'PRODUCT_SIZE',\n",
       "       'ADDRESS_STATE_PROV_CODE_1', 'ADDRESS_STATE_PROV_CODE_2',\n",
       "       'ADDRESS_STATE_PROV_CODE_3', 'ADDRESS_STATE_PROV_CODE_4', 'MSA_CODE_1',\n",
       "       'MSA_CODE_2', 'MSA_CODE_3', 'MSA_CODE_4', 'MSA_CODE_5', 'MSA_CODE_6',\n",
       "       'MSA_CODE_7', 'MSA_CODE_8', 'MSA_CODE_9', 'SEG_VALUE_NAME',\n",
       "       'SALES_AREA_SIZE_NUM', 'AVG_WEEKLY_BASKETS', 'year', 'month', 'day',\n",
       "       'day_of_year', 'week', 'quarter', 'U_MANUFACTURER', 'U_CATEGORY',\n",
       "       'U_SUB_CATEGORY'],\n",
       "      dtype='object')"
      ]
     },
     "execution_count": 45,
     "metadata": {},
     "output_type": "execute_result"
    }
   ],
   "source": [
    "data_train.columns"
   ]
  },
  {
   "cell_type": "markdown",
   "metadata": {},
   "source": [
    "---\n",
    "\n",
    "***Here, we can see that there is significant improvement in the model performance. On the validation set RMSLE is now `0.551`***\n",
    "\n",
    "---"
   ]
  },
  {
   "cell_type": "markdown",
   "metadata": {},
   "source": [
    "---\n",
    "---\n",
    "\n",
    "### Create Lag Features\n",
    "\n",
    "\n",
    "Now, we will create the lag features, which will be the number of units ordered of the same product from the same store at exactly one year ago.\n",
    "\n",
    "---"
   ]
  },
  {
   "cell_type": "code",
   "execution_count": 46,
   "metadata": {},
   "outputs": [],
   "source": [
    "# Define a function that will return calculate the units sold number of a particular product from a particular store.\n",
    "# We need to calculate this for a lag of 52 Weeks.\n",
    "\n",
    "def get_lag_feature(data, no_of_week=1, return_Series= False):\n",
    "    data_copy = data.copy()\n",
    "    sample_1 = data_copy[['WEEK_END_DATE', 'STORE_NUM', 'UPC', 'UNITS']]\n",
    "    data_copy['NEW_DATE'] = data_copy.WEEK_END_DATE + timedelta(days = no_of_week*7)\n",
    "    data_copy['PAST_DATE'] = data_copy.WEEK_END_DATE\n",
    "    \n",
    "    sample_2 = data_copy[['NEW_DATE','PAST_DATE', 'STORE_NUM', 'UPC', 'UNITS']]\n",
    "    final = sample_1.merge(sample_2, how = 'left', left_on = ['WEEK_END_DATE', 'STORE_NUM', 'UPC'], right_on = ['NEW_DATE', 'STORE_NUM', 'UPC'])\n",
    "    final = final.drop(columns=['NEW_DATE'])\n",
    "    final.fillna(0,inplace = True)\n",
    "    \n",
    "    if return_Series:\n",
    "        return final['UNITS_y']\n",
    "    else: return final"
   ]
  },
  {
   "cell_type": "code",
   "execution_count": 47,
   "metadata": {
    "scrolled": true
   },
   "outputs": [
    {
     "data": {
      "text/html": [
       "<div>\n",
       "<style scoped>\n",
       "    .dataframe tbody tr th:only-of-type {\n",
       "        vertical-align: middle;\n",
       "    }\n",
       "\n",
       "    .dataframe tbody tr th {\n",
       "        vertical-align: top;\n",
       "    }\n",
       "\n",
       "    .dataframe thead th {\n",
       "        text-align: right;\n",
       "    }\n",
       "</style>\n",
       "<table border=\"1\" class=\"dataframe\">\n",
       "  <thead>\n",
       "    <tr style=\"text-align: right;\">\n",
       "      <th></th>\n",
       "      <th>WEEK_END_DATE</th>\n",
       "      <th>STORE_NUM</th>\n",
       "      <th>UPC</th>\n",
       "      <th>UNITS_x</th>\n",
       "      <th>PAST_DATE</th>\n",
       "      <th>UNITS_y</th>\n",
       "    </tr>\n",
       "  </thead>\n",
       "  <tbody>\n",
       "    <tr>\n",
       "      <td>0</td>\n",
       "      <td>2009-01-14</td>\n",
       "      <td>367</td>\n",
       "      <td>1111009477</td>\n",
       "      <td>13</td>\n",
       "      <td>0</td>\n",
       "      <td>0.0</td>\n",
       "    </tr>\n",
       "    <tr>\n",
       "      <td>1</td>\n",
       "      <td>2009-01-14</td>\n",
       "      <td>367</td>\n",
       "      <td>1111009497</td>\n",
       "      <td>20</td>\n",
       "      <td>0</td>\n",
       "      <td>0.0</td>\n",
       "    </tr>\n",
       "    <tr>\n",
       "      <td>2</td>\n",
       "      <td>2009-01-14</td>\n",
       "      <td>367</td>\n",
       "      <td>1111085319</td>\n",
       "      <td>14</td>\n",
       "      <td>0</td>\n",
       "      <td>0.0</td>\n",
       "    </tr>\n",
       "    <tr>\n",
       "      <td>3</td>\n",
       "      <td>2009-01-14</td>\n",
       "      <td>367</td>\n",
       "      <td>1111085345</td>\n",
       "      <td>29</td>\n",
       "      <td>0</td>\n",
       "      <td>0.0</td>\n",
       "    </tr>\n",
       "    <tr>\n",
       "      <td>4</td>\n",
       "      <td>2009-01-14</td>\n",
       "      <td>367</td>\n",
       "      <td>1111085350</td>\n",
       "      <td>35</td>\n",
       "      <td>0</td>\n",
       "      <td>0.0</td>\n",
       "    </tr>\n",
       "    <tr>\n",
       "      <td>...</td>\n",
       "      <td>...</td>\n",
       "      <td>...</td>\n",
       "      <td>...</td>\n",
       "      <td>...</td>\n",
       "      <td>...</td>\n",
       "      <td>...</td>\n",
       "    </tr>\n",
       "    <tr>\n",
       "      <td>232260</td>\n",
       "      <td>2011-09-28</td>\n",
       "      <td>29159</td>\n",
       "      <td>7192100336</td>\n",
       "      <td>32</td>\n",
       "      <td>2011-08-03 00:00:00</td>\n",
       "      <td>16.0</td>\n",
       "    </tr>\n",
       "    <tr>\n",
       "      <td>232261</td>\n",
       "      <td>2011-09-28</td>\n",
       "      <td>29159</td>\n",
       "      <td>7192100337</td>\n",
       "      <td>31</td>\n",
       "      <td>2011-08-03 00:00:00</td>\n",
       "      <td>10.0</td>\n",
       "    </tr>\n",
       "    <tr>\n",
       "      <td>232262</td>\n",
       "      <td>2011-09-28</td>\n",
       "      <td>29159</td>\n",
       "      <td>7192100339</td>\n",
       "      <td>23</td>\n",
       "      <td>2011-08-03 00:00:00</td>\n",
       "      <td>13.0</td>\n",
       "    </tr>\n",
       "    <tr>\n",
       "      <td>232263</td>\n",
       "      <td>2011-09-28</td>\n",
       "      <td>29159</td>\n",
       "      <td>7797502248</td>\n",
       "      <td>8</td>\n",
       "      <td>2011-08-03 00:00:00</td>\n",
       "      <td>7.0</td>\n",
       "    </tr>\n",
       "    <tr>\n",
       "      <td>232264</td>\n",
       "      <td>2011-09-28</td>\n",
       "      <td>29159</td>\n",
       "      <td>7797508004</td>\n",
       "      <td>7</td>\n",
       "      <td>2011-08-03 00:00:00</td>\n",
       "      <td>7.0</td>\n",
       "    </tr>\n",
       "  </tbody>\n",
       "</table>\n",
       "<p>232265 rows × 6 columns</p>\n",
       "</div>"
      ],
      "text/plain": [
       "       WEEK_END_DATE  STORE_NUM         UPC  UNITS_x            PAST_DATE  \\\n",
       "0         2009-01-14        367  1111009477       13                    0   \n",
       "1         2009-01-14        367  1111009497       20                    0   \n",
       "2         2009-01-14        367  1111085319       14                    0   \n",
       "3         2009-01-14        367  1111085345       29                    0   \n",
       "4         2009-01-14        367  1111085350       35                    0   \n",
       "...              ...        ...         ...      ...                  ...   \n",
       "232260    2011-09-28      29159  7192100336       32  2011-08-03 00:00:00   \n",
       "232261    2011-09-28      29159  7192100337       31  2011-08-03 00:00:00   \n",
       "232262    2011-09-28      29159  7192100339       23  2011-08-03 00:00:00   \n",
       "232263    2011-09-28      29159  7797502248        8  2011-08-03 00:00:00   \n",
       "232264    2011-09-28      29159  7797508004        7  2011-08-03 00:00:00   \n",
       "\n",
       "        UNITS_y  \n",
       "0           0.0  \n",
       "1           0.0  \n",
       "2           0.0  \n",
       "3           0.0  \n",
       "4           0.0  \n",
       "...         ...  \n",
       "232260     16.0  \n",
       "232261     10.0  \n",
       "232262     13.0  \n",
       "232263      7.0  \n",
       "232264      7.0  \n",
       "\n",
       "[232265 rows x 6 columns]"
      ]
     },
     "execution_count": 47,
     "metadata": {},
     "output_type": "execute_result"
    }
   ],
   "source": [
    "# Let's verify the function is correct or not.\n",
    "# In the following dataframe, We have UNITS_x as the units sold on the transaction data\n",
    "# In the following dataframe, We have UNITS_y as the units sold on the PAST_DATE\n",
    "\n",
    "get_lag_feature(merged_data, no_of_week = 8)"
   ]
  },
  {
   "cell_type": "code",
   "execution_count": 48,
   "metadata": {},
   "outputs": [
    {
     "data": {
      "text/plain": [
       "232262    23\n",
       "Name: UNITS, dtype: int64"
      ]
     },
     "execution_count": 48,
     "metadata": {},
     "output_type": "execute_result"
    }
   ],
   "source": [
    "# let's see the last third row of the dataframe\n",
    "merged_data.loc[(merged_data.WEEK_END_DATE == '2011-09-28') & (merged_data.STORE_NUM == 29159) & (merged_data.UPC == 7192100339), 'UNITS']"
   ]
  },
  {
   "cell_type": "code",
   "execution_count": 49,
   "metadata": {},
   "outputs": [
    {
     "data": {
      "text/plain": [
       "219172    13\n",
       "Name: UNITS, dtype: int64"
      ]
     },
     "execution_count": 49,
     "metadata": {},
     "output_type": "execute_result"
    }
   ],
   "source": [
    "merged_data.loc[(merged_data.WEEK_END_DATE == '2011-08-03') & (merged_data.STORE_NUM == 29159) & (merged_data.UPC == 7192100339), 'UNITS']"
   ]
  },
  {
   "cell_type": "markdown",
   "metadata": {},
   "source": [
    "---"
   ]
  },
  {
   "cell_type": "code",
   "execution_count": 50,
   "metadata": {},
   "outputs": [],
   "source": [
    "#  create a feature UNITS BEFORE 52_WEEK\n",
    "data_with_unique_store['UNITS_BEFORE_52WEEK'] = get_lag_feature(data_with_unique_store, no_of_week= 52, return_Series= True)"
   ]
  },
  {
   "cell_type": "code",
   "execution_count": 51,
   "metadata": {},
   "outputs": [
    {
     "data": {
      "application/vnd.jupyter.widget-view+json": {
       "model_id": "42033c2941e34f2e971d115e7fab3f26",
       "version_major": 2,
       "version_minor": 0
      },
      "text/plain": [
       "HBox(children=(IntProgress(value=0, description='training_model', max=14, style=ProgressStyle(description_widt…"
      ]
     },
     "metadata": {},
     "output_type": "display_data"
    },
    {
     "name": "stdout",
     "output_type": "stream",
     "text": [
      "\r"
     ]
    }
   ],
   "source": [
    "# train the model with the new feature\n",
    "\n",
    "model_RFR = RandomForestRegressor(max_depth=10, n_estimators=175)\n",
    "\n",
    "new_data = data_with_unique_store.drop(columns= ['STORE_NUM', 'UPC'])\n",
    "valid_df = validation_df(new_data, week, no_of_months=2, no_of_validation= 14)\n",
    "\n",
    "rmsle_train, rmsle_valid, data_train = train_model(valid_df, new_data, model_RFR)"
   ]
  },
  {
   "cell_type": "code",
   "execution_count": 52,
   "metadata": {},
   "outputs": [
    {
     "name": "stdout",
     "output_type": "stream",
     "text": [
      "RMSLE on train set:  0.4120165602602613\n",
      "RMSLE on validation set: 0.57196646915787\n"
     ]
    }
   ],
   "source": [
    "# mean RMSLE on train and validation set\n",
    "print('RMSLE on train set: ', rmsle_train)\n",
    "print('RMSLE on validation set:', rmsle_valid)"
   ]
  },
  {
   "cell_type": "code",
   "execution_count": 53,
   "metadata": {},
   "outputs": [
    {
     "data": {
      "text/plain": [
       "Index(['BASE_PRICE', 'FEATURE', 'DISPLAY', 'MANUFACTURER_1', 'MANUFACTURER_2',\n",
       "       'MANUFACTURER_3', 'MANUFACTURER_4', 'MANUFACTURER_5', 'MANUFACTURER_6',\n",
       "       'MANUFACTURER_7', 'MANUFACTURER_8', 'MANUFACTURER_9', 'CATEGORY_1',\n",
       "       'CATEGORY_2', 'CATEGORY_3', 'CATEGORY_4', 'SUB_CATEGORY_1',\n",
       "       'SUB_CATEGORY_2', 'SUB_CATEGORY_3', 'SUB_CATEGORY_4', 'SUB_CATEGORY_5',\n",
       "       'SUB_CATEGORY_6', 'SUB_CATEGORY_7', 'PRODUCT_SIZE',\n",
       "       'ADDRESS_STATE_PROV_CODE_1', 'ADDRESS_STATE_PROV_CODE_2',\n",
       "       'ADDRESS_STATE_PROV_CODE_3', 'ADDRESS_STATE_PROV_CODE_4', 'MSA_CODE_1',\n",
       "       'MSA_CODE_2', 'MSA_CODE_3', 'MSA_CODE_4', 'MSA_CODE_5', 'MSA_CODE_6',\n",
       "       'MSA_CODE_7', 'MSA_CODE_8', 'MSA_CODE_9', 'SEG_VALUE_NAME',\n",
       "       'SALES_AREA_SIZE_NUM', 'AVG_WEEKLY_BASKETS', 'year', 'month', 'day',\n",
       "       'day_of_year', 'week', 'quarter', 'U_MANUFACTURER', 'U_CATEGORY',\n",
       "       'U_SUB_CATEGORY', 'UNITS_BEFORE_52WEEK'],\n",
       "      dtype='object')"
      ]
     },
     "execution_count": 53,
     "metadata": {},
     "output_type": "execute_result"
    }
   ],
   "source": [
    "# columns on the updated data.\n",
    "data_train.columns"
   ]
  },
  {
   "cell_type": "markdown",
   "metadata": {},
   "source": [
    "---\n",
    "\n",
    "***We can see a slight change in the RMSLE on the validaiton set. It is `0.571` now***\n",
    "\n",
    "---"
   ]
  },
  {
   "cell_type": "markdown",
   "metadata": {},
   "source": [
    "---\n",
    "\n",
    "### `DIFFERENCE IN PRICE FROM LAST WEEK`\n",
    "\n",
    "This will be our new feature. Whether the increase/decrease in price from the last week makes any difference to the model or not. \n",
    "\n",
    "\n",
    "---"
   ]
  },
  {
   "cell_type": "code",
   "execution_count": 54,
   "metadata": {},
   "outputs": [],
   "source": [
    "# get the price difference\n",
    "data_with_unique_store['price_difference'] = data_with_unique_store['BASE_PRICE'] - data_with_unique_store.groupby(['STORE_NUM', 'UPC'])['BASE_PRICE'].shift(1)"
   ]
  },
  {
   "cell_type": "code",
   "execution_count": 55,
   "metadata": {},
   "outputs": [
    {
     "data": {
      "text/html": [
       "<div>\n",
       "<style scoped>\n",
       "    .dataframe tbody tr th:only-of-type {\n",
       "        vertical-align: middle;\n",
       "    }\n",
       "\n",
       "    .dataframe tbody tr th {\n",
       "        vertical-align: top;\n",
       "    }\n",
       "\n",
       "    .dataframe thead th {\n",
       "        text-align: right;\n",
       "    }\n",
       "</style>\n",
       "<table border=\"1\" class=\"dataframe\">\n",
       "  <thead>\n",
       "    <tr style=\"text-align: right;\">\n",
       "      <th></th>\n",
       "      <th>STORE_NUM</th>\n",
       "      <th>UPC</th>\n",
       "      <th>BASE_PRICE</th>\n",
       "      <th>price_difference</th>\n",
       "      <th>UNITS</th>\n",
       "    </tr>\n",
       "  </thead>\n",
       "  <tbody>\n",
       "    <tr>\n",
       "      <td>0</td>\n",
       "      <td>367</td>\n",
       "      <td>1111009477</td>\n",
       "      <td>1.57</td>\n",
       "      <td>NaN</td>\n",
       "      <td>13</td>\n",
       "    </tr>\n",
       "    <tr>\n",
       "      <td>1640</td>\n",
       "      <td>367</td>\n",
       "      <td>1111009477</td>\n",
       "      <td>1.57</td>\n",
       "      <td>0.00</td>\n",
       "      <td>24</td>\n",
       "    </tr>\n",
       "    <tr>\n",
       "      <td>3276</td>\n",
       "      <td>367</td>\n",
       "      <td>1111009477</td>\n",
       "      <td>1.36</td>\n",
       "      <td>-0.21</td>\n",
       "      <td>7</td>\n",
       "    </tr>\n",
       "    <tr>\n",
       "      <td>4912</td>\n",
       "      <td>367</td>\n",
       "      <td>1111009477</td>\n",
       "      <td>1.38</td>\n",
       "      <td>0.02</td>\n",
       "      <td>12</td>\n",
       "    </tr>\n",
       "    <tr>\n",
       "      <td>6552</td>\n",
       "      <td>367</td>\n",
       "      <td>1111009477</td>\n",
       "      <td>1.50</td>\n",
       "      <td>0.12</td>\n",
       "      <td>16</td>\n",
       "    </tr>\n",
       "    <tr>\n",
       "      <td>8179</td>\n",
       "      <td>367</td>\n",
       "      <td>1111009477</td>\n",
       "      <td>1.49</td>\n",
       "      <td>-0.01</td>\n",
       "      <td>21</td>\n",
       "    </tr>\n",
       "    <tr>\n",
       "      <td>9814</td>\n",
       "      <td>367</td>\n",
       "      <td>1111009477</td>\n",
       "      <td>1.49</td>\n",
       "      <td>0.00</td>\n",
       "      <td>11</td>\n",
       "    </tr>\n",
       "    <tr>\n",
       "      <td>11427</td>\n",
       "      <td>367</td>\n",
       "      <td>1111009477</td>\n",
       "      <td>1.49</td>\n",
       "      <td>0.00</td>\n",
       "      <td>10</td>\n",
       "    </tr>\n",
       "    <tr>\n",
       "      <td>13040</td>\n",
       "      <td>367</td>\n",
       "      <td>1111009477</td>\n",
       "      <td>1.39</td>\n",
       "      <td>-0.10</td>\n",
       "      <td>13</td>\n",
       "    </tr>\n",
       "    <tr>\n",
       "      <td>14677</td>\n",
       "      <td>367</td>\n",
       "      <td>1111009477</td>\n",
       "      <td>1.48</td>\n",
       "      <td>0.09</td>\n",
       "      <td>13</td>\n",
       "    </tr>\n",
       "  </tbody>\n",
       "</table>\n",
       "</div>"
      ],
      "text/plain": [
       "       STORE_NUM         UPC  BASE_PRICE  price_difference  UNITS\n",
       "0            367  1111009477        1.57               NaN     13\n",
       "1640         367  1111009477        1.57              0.00     24\n",
       "3276         367  1111009477        1.36             -0.21      7\n",
       "4912         367  1111009477        1.38              0.02     12\n",
       "6552         367  1111009477        1.50              0.12     16\n",
       "8179         367  1111009477        1.49             -0.01     21\n",
       "9814         367  1111009477        1.49              0.00     11\n",
       "11427        367  1111009477        1.49              0.00     10\n",
       "13040        367  1111009477        1.39             -0.10     13\n",
       "14677        367  1111009477        1.48              0.09     13"
      ]
     },
     "execution_count": 55,
     "metadata": {},
     "output_type": "execute_result"
    }
   ],
   "source": [
    "# let's verify we have calculated the right price difference or not\n",
    "data_with_unique_store.loc[(data_with_unique_store.STORE_NUM == 367) & (data_with_unique_store.UPC == 1111009477),['STORE_NUM', 'UPC', 'BASE_PRICE', 'price_difference','UNITS']].head(10)"
   ]
  },
  {
   "cell_type": "code",
   "execution_count": 56,
   "metadata": {},
   "outputs": [],
   "source": [
    "# fill the null values in the price difference with 0\n",
    "data_with_unique_store.price_difference.fillna(0,inplace=True)"
   ]
  },
  {
   "cell_type": "code",
   "execution_count": 57,
   "metadata": {},
   "outputs": [
    {
     "data": {
      "application/vnd.jupyter.widget-view+json": {
       "model_id": "1b84512a34104b1a90c30f82c37958a1",
       "version_major": 2,
       "version_minor": 0
      },
      "text/plain": [
       "HBox(children=(IntProgress(value=0, description='training_model', max=14, style=ProgressStyle(description_widt…"
      ]
     },
     "metadata": {},
     "output_type": "display_data"
    },
    {
     "name": "stdout",
     "output_type": "stream",
     "text": [
      "\r"
     ]
    }
   ],
   "source": [
    "model_RFR = RandomForestRegressor(max_depth=10, n_estimators=175)\n",
    "\n",
    "new_data = data_with_unique_store.drop(columns=['STORE_NUM', 'UPC'])\n",
    "\n",
    "valid_df = validation_df(new_data, week, no_of_months= 2, no_of_validation= 14)\n",
    "\n",
    "rmsle_train, rmsle_valid, data_train = train_model(valid_df, new_data, model_RFR)"
   ]
  },
  {
   "cell_type": "code",
   "execution_count": 58,
   "metadata": {},
   "outputs": [
    {
     "name": "stdout",
     "output_type": "stream",
     "text": [
      "RMSLE on train set:  0.4127944062262127\n",
      "RMSLE on validation set: 0.5707247155315347\n"
     ]
    }
   ],
   "source": [
    "print('RMSLE on train set: ', rmsle_train)\n",
    "print('RMSLE on validation set:', rmsle_valid)"
   ]
  },
  {
   "cell_type": "code",
   "execution_count": 59,
   "metadata": {},
   "outputs": [
    {
     "data": {
      "text/plain": [
       "Index(['BASE_PRICE', 'FEATURE', 'DISPLAY', 'MANUFACTURER_1', 'MANUFACTURER_2',\n",
       "       'MANUFACTURER_3', 'MANUFACTURER_4', 'MANUFACTURER_5', 'MANUFACTURER_6',\n",
       "       'MANUFACTURER_7', 'MANUFACTURER_8', 'MANUFACTURER_9', 'CATEGORY_1',\n",
       "       'CATEGORY_2', 'CATEGORY_3', 'CATEGORY_4', 'SUB_CATEGORY_1',\n",
       "       'SUB_CATEGORY_2', 'SUB_CATEGORY_3', 'SUB_CATEGORY_4', 'SUB_CATEGORY_5',\n",
       "       'SUB_CATEGORY_6', 'SUB_CATEGORY_7', 'PRODUCT_SIZE',\n",
       "       'ADDRESS_STATE_PROV_CODE_1', 'ADDRESS_STATE_PROV_CODE_2',\n",
       "       'ADDRESS_STATE_PROV_CODE_3', 'ADDRESS_STATE_PROV_CODE_4', 'MSA_CODE_1',\n",
       "       'MSA_CODE_2', 'MSA_CODE_3', 'MSA_CODE_4', 'MSA_CODE_5', 'MSA_CODE_6',\n",
       "       'MSA_CODE_7', 'MSA_CODE_8', 'MSA_CODE_9', 'SEG_VALUE_NAME',\n",
       "       'SALES_AREA_SIZE_NUM', 'AVG_WEEKLY_BASKETS', 'year', 'month', 'day',\n",
       "       'day_of_year', 'week', 'quarter', 'U_MANUFACTURER', 'U_CATEGORY',\n",
       "       'U_SUB_CATEGORY', 'UNITS_BEFORE_52WEEK', 'price_difference'],\n",
       "      dtype='object')"
      ]
     },
     "execution_count": 59,
     "metadata": {},
     "output_type": "execute_result"
    }
   ],
   "source": [
    "data_train.columns"
   ]
  },
  {
   "cell_type": "markdown",
   "metadata": {},
   "source": [
    "---\n",
    "\n",
    "The performance of the model has not changed. It is same as before."
   ]
  },
  {
   "cell_type": "markdown",
   "metadata": {},
   "source": [
    "---\n",
    "\n",
    "### `AVERAGE BEFORE 2 MONTH`\n",
    "\n",
    "- As we have one week gap between the training period and the validation set so for each store and product combination we will calculate the average units sold in 2 months before 1 week.\n",
    "- In simple terms, the average number of units sold from 7 days to 63 days ago\n",
    "- Let's see is this feature useful to us or not.\n",
    "\n",
    "---"
   ]
  },
  {
   "cell_type": "code",
   "execution_count": 60,
   "metadata": {},
   "outputs": [],
   "source": [
    "# make 2 columns one with 63 days difference from the week end date and another with 7 days difference\n",
    "data_with_unique_store['2_MONTH_BEFORE'] = data_with_unique_store.WEEK_END_DATE - timedelta(days=63)\n",
    "data_with_unique_store['1_WEEK_BEFORE'] = data_with_unique_store.WEEK_END_DATE - timedelta(days=7)"
   ]
  },
  {
   "cell_type": "code",
   "execution_count": 61,
   "metadata": {},
   "outputs": [
    {
     "data": {
      "text/html": [
       "<div>\n",
       "<style scoped>\n",
       "    .dataframe tbody tr th:only-of-type {\n",
       "        vertical-align: middle;\n",
       "    }\n",
       "\n",
       "    .dataframe tbody tr th {\n",
       "        vertical-align: top;\n",
       "    }\n",
       "\n",
       "    .dataframe thead th {\n",
       "        text-align: right;\n",
       "    }\n",
       "</style>\n",
       "<table border=\"1\" class=\"dataframe\">\n",
       "  <thead>\n",
       "    <tr style=\"text-align: right;\">\n",
       "      <th></th>\n",
       "      <th>WEEK_END_DATE</th>\n",
       "      <th>2_MONTH_BEFORE</th>\n",
       "      <th>1_WEEK_BEFORE</th>\n",
       "    </tr>\n",
       "  </thead>\n",
       "  <tbody>\n",
       "    <tr>\n",
       "      <td>232260</td>\n",
       "      <td>2011-09-28</td>\n",
       "      <td>2011-07-27</td>\n",
       "      <td>2011-09-21</td>\n",
       "    </tr>\n",
       "    <tr>\n",
       "      <td>232261</td>\n",
       "      <td>2011-09-28</td>\n",
       "      <td>2011-07-27</td>\n",
       "      <td>2011-09-21</td>\n",
       "    </tr>\n",
       "    <tr>\n",
       "      <td>232262</td>\n",
       "      <td>2011-09-28</td>\n",
       "      <td>2011-07-27</td>\n",
       "      <td>2011-09-21</td>\n",
       "    </tr>\n",
       "    <tr>\n",
       "      <td>232263</td>\n",
       "      <td>2011-09-28</td>\n",
       "      <td>2011-07-27</td>\n",
       "      <td>2011-09-21</td>\n",
       "    </tr>\n",
       "    <tr>\n",
       "      <td>232264</td>\n",
       "      <td>2011-09-28</td>\n",
       "      <td>2011-07-27</td>\n",
       "      <td>2011-09-21</td>\n",
       "    </tr>\n",
       "  </tbody>\n",
       "</table>\n",
       "</div>"
      ],
      "text/plain": [
       "       WEEK_END_DATE 2_MONTH_BEFORE 1_WEEK_BEFORE\n",
       "232260    2011-09-28     2011-07-27    2011-09-21\n",
       "232261    2011-09-28     2011-07-27    2011-09-21\n",
       "232262    2011-09-28     2011-07-27    2011-09-21\n",
       "232263    2011-09-28     2011-07-27    2011-09-21\n",
       "232264    2011-09-28     2011-07-27    2011-09-21"
      ]
     },
     "execution_count": 61,
     "metadata": {},
     "output_type": "execute_result"
    }
   ],
   "source": [
    "data_with_unique_store[['WEEK_END_DATE', '2_MONTH_BEFORE', '1_WEEK_BEFORE']].tail()"
   ]
  },
  {
   "cell_type": "code",
   "execution_count": 62,
   "metadata": {},
   "outputs": [],
   "source": [
    "from tqdm._tqdm_notebook import tqdm_notebook\n",
    "tqdm_notebook.pandas()\n",
    "# calculate the average units in the period\n",
    "def get_average_units(x):\n",
    "    data_2month = data_with_unique_store[(data_with_unique_store.WEEK_END_DATE <= x['1_WEEK_BEFORE']) & (data_with_unique_store['WEEK_END_DATE'] >= x['2_MONTH_BEFORE']) & (data_with_unique_store['STORE_NUM'] == x['STORE_NUM']) & (data_with_unique_store['UPC'] == x['UPC']) ]\n",
    "    return data_2month.UNITS.mean() "
   ]
  },
  {
   "cell_type": "code",
   "execution_count": 63,
   "metadata": {},
   "outputs": [
    {
     "data": {
      "application/vnd.jupyter.widget-view+json": {
       "model_id": "f63fe97946e94c4d870b1500d55fdea0",
       "version_major": 2,
       "version_minor": 0
      },
      "text/plain": [
       "HBox(children=(IntProgress(value=0, max=232265), HTML(value='')))"
      ]
     },
     "metadata": {},
     "output_type": "display_data"
    },
    {
     "name": "stdout",
     "output_type": "stream",
     "text": [
      "\n"
     ]
    }
   ],
   "source": [
    "data_with_unique_store['AVERAGE_UNITS_IN_2_MONTH'] = data_with_unique_store.progress_apply(get_average_units,axis=1)"
   ]
  },
  {
   "cell_type": "code",
   "execution_count": 64,
   "metadata": {},
   "outputs": [],
   "source": [
    "# fill the null values with 0\n",
    "data_with_unique_store.AVERAGE_UNITS_IN_2_MONTH.fillna(0,inplace=True)"
   ]
  },
  {
   "cell_type": "code",
   "execution_count": 65,
   "metadata": {},
   "outputs": [],
   "source": [
    "# drop the date columns that we have created, as they are of no use now.\n",
    "new_data = data_with_unique_store.drop(columns=['2_MONTH_BEFORE','1_WEEK_BEFORE', 'STORE_NUM', 'UPC'])"
   ]
  },
  {
   "cell_type": "code",
   "execution_count": 66,
   "metadata": {},
   "outputs": [
    {
     "data": {
      "application/vnd.jupyter.widget-view+json": {
       "model_id": "0b63a933dc3445f1beeab813fefc64e4",
       "version_major": 2,
       "version_minor": 0
      },
      "text/plain": [
       "HBox(children=(IntProgress(value=0, description='training_model', max=14, style=ProgressStyle(description_widt…"
      ]
     },
     "metadata": {},
     "output_type": "display_data"
    },
    {
     "name": "stdout",
     "output_type": "stream",
     "text": [
      "\r"
     ]
    }
   ],
   "source": [
    "model_RFR = RandomForestRegressor(max_depth=10, n_estimators=175)\n",
    "\n",
    "valid_df = validation_df(new_data, week, no_of_months=2, no_of_validation= 14)\n",
    "\n",
    "rmsle_train, rmsle_valid, data_train = train_model(valid_df,new_data, model_RFR)"
   ]
  },
  {
   "cell_type": "code",
   "execution_count": 67,
   "metadata": {},
   "outputs": [
    {
     "name": "stdout",
     "output_type": "stream",
     "text": [
      "RMSLE on train set:  0.34488532036740366\n",
      "RMSLE on validation set: 0.46293259720958246\n"
     ]
    }
   ],
   "source": [
    "print('RMSLE on train set: ', rmsle_train)\n",
    "print('RMSLE on validation set:', rmsle_valid)"
   ]
  },
  {
   "cell_type": "code",
   "execution_count": 68,
   "metadata": {},
   "outputs": [
    {
     "data": {
      "text/plain": [
       "Index(['BASE_PRICE', 'FEATURE', 'DISPLAY', 'MANUFACTURER_1', 'MANUFACTURER_2',\n",
       "       'MANUFACTURER_3', 'MANUFACTURER_4', 'MANUFACTURER_5', 'MANUFACTURER_6',\n",
       "       'MANUFACTURER_7', 'MANUFACTURER_8', 'MANUFACTURER_9', 'CATEGORY_1',\n",
       "       'CATEGORY_2', 'CATEGORY_3', 'CATEGORY_4', 'SUB_CATEGORY_1',\n",
       "       'SUB_CATEGORY_2', 'SUB_CATEGORY_3', 'SUB_CATEGORY_4', 'SUB_CATEGORY_5',\n",
       "       'SUB_CATEGORY_6', 'SUB_CATEGORY_7', 'PRODUCT_SIZE',\n",
       "       'ADDRESS_STATE_PROV_CODE_1', 'ADDRESS_STATE_PROV_CODE_2',\n",
       "       'ADDRESS_STATE_PROV_CODE_3', 'ADDRESS_STATE_PROV_CODE_4', 'MSA_CODE_1',\n",
       "       'MSA_CODE_2', 'MSA_CODE_3', 'MSA_CODE_4', 'MSA_CODE_5', 'MSA_CODE_6',\n",
       "       'MSA_CODE_7', 'MSA_CODE_8', 'MSA_CODE_9', 'SEG_VALUE_NAME',\n",
       "       'SALES_AREA_SIZE_NUM', 'AVG_WEEKLY_BASKETS', 'year', 'month', 'day',\n",
       "       'day_of_year', 'week', 'quarter', 'U_MANUFACTURER', 'U_CATEGORY',\n",
       "       'U_SUB_CATEGORY', 'UNITS_BEFORE_52WEEK', 'price_difference',\n",
       "       'AVERAGE_UNITS_IN_2_MONTH'],\n",
       "      dtype='object')"
      ]
     },
     "execution_count": 68,
     "metadata": {},
     "output_type": "execute_result"
    }
   ],
   "source": [
    "data_train.columns"
   ]
  },
  {
   "cell_type": "markdown",
   "metadata": {},
   "source": [
    "---\n",
    "\n",
    "- The last feature that we added has made significant improvement in the RMSLE score on the validation data.\n",
    "- The RMSLE is now `0.4677`"
   ]
  },
  {
   "cell_type": "code",
   "execution_count": 70,
   "metadata": {},
   "outputs": [],
   "source": [
    "data = data_with_unique_store"
   ]
  },
  {
   "cell_type": "code",
   "execution_count": null,
   "metadata": {},
   "outputs": [],
   "source": []
  },
  {
   "cell_type": "code",
   "execution_count": 71,
   "metadata": {},
   "outputs": [
    {
     "data": {
      "text/plain": [
       "0"
      ]
     },
     "execution_count": 71,
     "metadata": {},
     "output_type": "execute_result"
    }
   ],
   "source": [
    "# check for the null values\n",
    "data.isna().sum().sum()"
   ]
  },
  {
   "cell_type": "code",
   "execution_count": 72,
   "metadata": {},
   "outputs": [
    {
     "data": {
      "text/plain": [
       "WEEK_END_DATE                2009-01-14 00:00:00\n",
       "STORE_NUM                                    367\n",
       "UPC                                   1111009477\n",
       "BASE_PRICE                                  1.57\n",
       "FEATURE                                        0\n",
       "DISPLAY                                        0\n",
       "UNITS                                         13\n",
       "MANUFACTURER_1                                 1\n",
       "MANUFACTURER_2                                 0\n",
       "MANUFACTURER_3                                 0\n",
       "MANUFACTURER_4                                 0\n",
       "MANUFACTURER_5                                 0\n",
       "MANUFACTURER_6                                 0\n",
       "MANUFACTURER_7                                 0\n",
       "MANUFACTURER_8                                 0\n",
       "MANUFACTURER_9                                 0\n",
       "CATEGORY_1                                     1\n",
       "CATEGORY_2                                     0\n",
       "CATEGORY_3                                     0\n",
       "CATEGORY_4                                     0\n",
       "SUB_CATEGORY_1                                 1\n",
       "SUB_CATEGORY_2                                 0\n",
       "SUB_CATEGORY_3                                 0\n",
       "SUB_CATEGORY_4                                 0\n",
       "SUB_CATEGORY_5                                 0\n",
       "SUB_CATEGORY_6                                 0\n",
       "SUB_CATEGORY_7                                 0\n",
       "PRODUCT_SIZE                                   2\n",
       "ADDRESS_STATE_PROV_CODE_1                      1\n",
       "ADDRESS_STATE_PROV_CODE_2                      0\n",
       "ADDRESS_STATE_PROV_CODE_3                      0\n",
       "ADDRESS_STATE_PROV_CODE_4                      0\n",
       "MSA_CODE_1                                     1\n",
       "MSA_CODE_2                                     0\n",
       "MSA_CODE_3                                     0\n",
       "MSA_CODE_4                                     0\n",
       "MSA_CODE_5                                     0\n",
       "MSA_CODE_6                                     0\n",
       "MSA_CODE_7                                     0\n",
       "MSA_CODE_8                                     0\n",
       "MSA_CODE_9                                     0\n",
       "SEG_VALUE_NAME                                 1\n",
       "SALES_AREA_SIZE_NUM                        24721\n",
       "AVG_WEEKLY_BASKETS                         12707\n",
       "year                                        2009\n",
       "month                                          1\n",
       "day                                           14\n",
       "day_of_year                                   14\n",
       "week                                           3\n",
       "quarter                                        1\n",
       "U_MANUFACTURER                                 4\n",
       "U_CATEGORY                                     3\n",
       "U_SUB_CATEGORY                                 5\n",
       "UNITS_BEFORE_52WEEK                            0\n",
       "price_difference                               0\n",
       "2_MONTH_BEFORE               2008-11-12 00:00:00\n",
       "1_WEEK_BEFORE                2009-01-07 00:00:00\n",
       "AVERAGE_UNITS_IN_2_MONTH                       0\n",
       "Name: 0, dtype: object"
      ]
     },
     "execution_count": 72,
     "metadata": {},
     "output_type": "execute_result"
    }
   ],
   "source": [
    "data.loc[0]"
   ]
  },
  {
   "cell_type": "code",
   "execution_count": 73,
   "metadata": {},
   "outputs": [],
   "source": [
    "# drop the columns that are not required\n",
    "data = data.drop(columns= ['2_MONTH_BEFORE', '1_WEEK_BEFORE'])"
   ]
  },
  {
   "cell_type": "code",
   "execution_count": 74,
   "metadata": {},
   "outputs": [],
   "source": [
    "data.WEEK_END_DATE = pd.to_datetime(data.WEEK_END_DATE)"
   ]
  },
  {
   "cell_type": "code",
   "execution_count": 75,
   "metadata": {},
   "outputs": [],
   "source": [
    "week = data.WEEK_END_DATE.unique()"
   ]
  },
  {
   "cell_type": "code",
   "execution_count": 76,
   "metadata": {},
   "outputs": [],
   "source": [
    "def validation_df(data, week, no_of_months, no_of_validation):\n",
    "    \n",
    "    model_set = []\n",
    "    set_n = 1\n",
    "    for w in range(len(week)-1,0,-1):\n",
    "        x_data = {}\n",
    "\n",
    "        x_data['train_start_1'] = week[w-3-4*no_of_months]\n",
    "        x_data['train_end_1'] = week[w-4]\n",
    "        x_data['train_start_2'] = week[w-1-4*no_of_months]\n",
    "        x_data['validate_week'] = week[w-2]\n",
    "        x_data['test_week'] = week[w]\n",
    "        x_data['no_days_train_1'] = x_data['train_end_1'] - x_data['train_start_1']\n",
    "        x_data['no_days_train_2'] = x_data['validate_week'] - x_data['train_start_2']\n",
    "        x_data['set_no'] = 'set'+str(set_n)\n",
    "        set_n +=1\n",
    "        model_set.append(x_data)\n",
    "        if(len(model_set) == no_of_validation):\n",
    "            break\n",
    "        \n",
    "\n",
    "    df = pd.DataFrame.from_dict(model_set)\n",
    "    df['no_days_train_1'] = df['no_days_train_1'] + timedelta(days=7)\n",
    "    df['no_days_train_2'] = df['no_days_train_2'] + timedelta(days=7)\n",
    "    return df    "
   ]
  },
  {
   "cell_type": "code",
   "execution_count": 77,
   "metadata": {},
   "outputs": [
    {
     "data": {
      "text/html": [
       "<div>\n",
       "<style scoped>\n",
       "    .dataframe tbody tr th:only-of-type {\n",
       "        vertical-align: middle;\n",
       "    }\n",
       "\n",
       "    .dataframe tbody tr th {\n",
       "        vertical-align: top;\n",
       "    }\n",
       "\n",
       "    .dataframe thead th {\n",
       "        text-align: right;\n",
       "    }\n",
       "</style>\n",
       "<table border=\"1\" class=\"dataframe\">\n",
       "  <thead>\n",
       "    <tr style=\"text-align: right;\">\n",
       "      <th></th>\n",
       "      <th>train_start_1</th>\n",
       "      <th>train_end_1</th>\n",
       "      <th>train_start_2</th>\n",
       "      <th>validate_week</th>\n",
       "      <th>test_week</th>\n",
       "      <th>no_days_train_1</th>\n",
       "      <th>no_days_train_2</th>\n",
       "      <th>set_no</th>\n",
       "    </tr>\n",
       "  </thead>\n",
       "  <tbody>\n",
       "    <tr>\n",
       "      <td>0</td>\n",
       "      <td>2011-07-13</td>\n",
       "      <td>2011-08-31</td>\n",
       "      <td>2011-07-27</td>\n",
       "      <td>2011-09-14</td>\n",
       "      <td>2011-09-28</td>\n",
       "      <td>56 days</td>\n",
       "      <td>56 days</td>\n",
       "      <td>set1</td>\n",
       "    </tr>\n",
       "    <tr>\n",
       "      <td>1</td>\n",
       "      <td>2011-07-06</td>\n",
       "      <td>2011-08-24</td>\n",
       "      <td>2011-07-20</td>\n",
       "      <td>2011-09-07</td>\n",
       "      <td>2011-09-21</td>\n",
       "      <td>56 days</td>\n",
       "      <td>56 days</td>\n",
       "      <td>set2</td>\n",
       "    </tr>\n",
       "    <tr>\n",
       "      <td>2</td>\n",
       "      <td>2011-06-29</td>\n",
       "      <td>2011-08-17</td>\n",
       "      <td>2011-07-13</td>\n",
       "      <td>2011-08-31</td>\n",
       "      <td>2011-09-14</td>\n",
       "      <td>56 days</td>\n",
       "      <td>56 days</td>\n",
       "      <td>set3</td>\n",
       "    </tr>\n",
       "    <tr>\n",
       "      <td>3</td>\n",
       "      <td>2011-06-22</td>\n",
       "      <td>2011-08-10</td>\n",
       "      <td>2011-07-06</td>\n",
       "      <td>2011-08-24</td>\n",
       "      <td>2011-09-07</td>\n",
       "      <td>56 days</td>\n",
       "      <td>56 days</td>\n",
       "      <td>set4</td>\n",
       "    </tr>\n",
       "    <tr>\n",
       "      <td>4</td>\n",
       "      <td>2011-06-15</td>\n",
       "      <td>2011-08-03</td>\n",
       "      <td>2011-06-29</td>\n",
       "      <td>2011-08-17</td>\n",
       "      <td>2011-08-31</td>\n",
       "      <td>56 days</td>\n",
       "      <td>56 days</td>\n",
       "      <td>set5</td>\n",
       "    </tr>\n",
       "    <tr>\n",
       "      <td>5</td>\n",
       "      <td>2011-06-08</td>\n",
       "      <td>2011-07-27</td>\n",
       "      <td>2011-06-22</td>\n",
       "      <td>2011-08-10</td>\n",
       "      <td>2011-08-24</td>\n",
       "      <td>56 days</td>\n",
       "      <td>56 days</td>\n",
       "      <td>set6</td>\n",
       "    </tr>\n",
       "    <tr>\n",
       "      <td>6</td>\n",
       "      <td>2011-06-01</td>\n",
       "      <td>2011-07-20</td>\n",
       "      <td>2011-06-15</td>\n",
       "      <td>2011-08-03</td>\n",
       "      <td>2011-08-17</td>\n",
       "      <td>56 days</td>\n",
       "      <td>56 days</td>\n",
       "      <td>set7</td>\n",
       "    </tr>\n",
       "    <tr>\n",
       "      <td>7</td>\n",
       "      <td>2011-05-25</td>\n",
       "      <td>2011-07-13</td>\n",
       "      <td>2011-06-08</td>\n",
       "      <td>2011-07-27</td>\n",
       "      <td>2011-08-10</td>\n",
       "      <td>56 days</td>\n",
       "      <td>56 days</td>\n",
       "      <td>set8</td>\n",
       "    </tr>\n",
       "    <tr>\n",
       "      <td>8</td>\n",
       "      <td>2011-05-18</td>\n",
       "      <td>2011-07-06</td>\n",
       "      <td>2011-06-01</td>\n",
       "      <td>2011-07-20</td>\n",
       "      <td>2011-08-03</td>\n",
       "      <td>56 days</td>\n",
       "      <td>56 days</td>\n",
       "      <td>set9</td>\n",
       "    </tr>\n",
       "    <tr>\n",
       "      <td>9</td>\n",
       "      <td>2011-05-11</td>\n",
       "      <td>2011-06-29</td>\n",
       "      <td>2011-05-25</td>\n",
       "      <td>2011-07-13</td>\n",
       "      <td>2011-07-27</td>\n",
       "      <td>56 days</td>\n",
       "      <td>56 days</td>\n",
       "      <td>set10</td>\n",
       "    </tr>\n",
       "    <tr>\n",
       "      <td>10</td>\n",
       "      <td>2011-05-04</td>\n",
       "      <td>2011-06-22</td>\n",
       "      <td>2011-05-18</td>\n",
       "      <td>2011-07-06</td>\n",
       "      <td>2011-07-20</td>\n",
       "      <td>56 days</td>\n",
       "      <td>56 days</td>\n",
       "      <td>set11</td>\n",
       "    </tr>\n",
       "    <tr>\n",
       "      <td>11</td>\n",
       "      <td>2011-04-27</td>\n",
       "      <td>2011-06-15</td>\n",
       "      <td>2011-05-11</td>\n",
       "      <td>2011-06-29</td>\n",
       "      <td>2011-07-13</td>\n",
       "      <td>56 days</td>\n",
       "      <td>56 days</td>\n",
       "      <td>set12</td>\n",
       "    </tr>\n",
       "    <tr>\n",
       "      <td>12</td>\n",
       "      <td>2011-04-20</td>\n",
       "      <td>2011-06-08</td>\n",
       "      <td>2011-05-04</td>\n",
       "      <td>2011-06-22</td>\n",
       "      <td>2011-07-06</td>\n",
       "      <td>56 days</td>\n",
       "      <td>56 days</td>\n",
       "      <td>set13</td>\n",
       "    </tr>\n",
       "    <tr>\n",
       "      <td>13</td>\n",
       "      <td>2011-04-13</td>\n",
       "      <td>2011-06-01</td>\n",
       "      <td>2011-04-27</td>\n",
       "      <td>2011-06-15</td>\n",
       "      <td>2011-06-29</td>\n",
       "      <td>56 days</td>\n",
       "      <td>56 days</td>\n",
       "      <td>set14</td>\n",
       "    </tr>\n",
       "  </tbody>\n",
       "</table>\n",
       "</div>"
      ],
      "text/plain": [
       "   train_start_1 train_end_1 train_start_2 validate_week  test_week  \\\n",
       "0     2011-07-13  2011-08-31    2011-07-27    2011-09-14 2011-09-28   \n",
       "1     2011-07-06  2011-08-24    2011-07-20    2011-09-07 2011-09-21   \n",
       "2     2011-06-29  2011-08-17    2011-07-13    2011-08-31 2011-09-14   \n",
       "3     2011-06-22  2011-08-10    2011-07-06    2011-08-24 2011-09-07   \n",
       "4     2011-06-15  2011-08-03    2011-06-29    2011-08-17 2011-08-31   \n",
       "5     2011-06-08  2011-07-27    2011-06-22    2011-08-10 2011-08-24   \n",
       "6     2011-06-01  2011-07-20    2011-06-15    2011-08-03 2011-08-17   \n",
       "7     2011-05-25  2011-07-13    2011-06-08    2011-07-27 2011-08-10   \n",
       "8     2011-05-18  2011-07-06    2011-06-01    2011-07-20 2011-08-03   \n",
       "9     2011-05-11  2011-06-29    2011-05-25    2011-07-13 2011-07-27   \n",
       "10    2011-05-04  2011-06-22    2011-05-18    2011-07-06 2011-07-20   \n",
       "11    2011-04-27  2011-06-15    2011-05-11    2011-06-29 2011-07-13   \n",
       "12    2011-04-20  2011-06-08    2011-05-04    2011-06-22 2011-07-06   \n",
       "13    2011-04-13  2011-06-01    2011-04-27    2011-06-15 2011-06-29   \n",
       "\n",
       "   no_days_train_1 no_days_train_2 set_no  \n",
       "0          56 days         56 days   set1  \n",
       "1          56 days         56 days   set2  \n",
       "2          56 days         56 days   set3  \n",
       "3          56 days         56 days   set4  \n",
       "4          56 days         56 days   set5  \n",
       "5          56 days         56 days   set6  \n",
       "6          56 days         56 days   set7  \n",
       "7          56 days         56 days   set8  \n",
       "8          56 days         56 days   set9  \n",
       "9          56 days         56 days  set10  \n",
       "10         56 days         56 days  set11  \n",
       "11         56 days         56 days  set12  \n",
       "12         56 days         56 days  set13  \n",
       "13         56 days         56 days  set14  "
      ]
     },
     "execution_count": 77,
     "metadata": {},
     "output_type": "execute_result"
    }
   ],
   "source": [
    "validation_df(data, week, no_of_months=2, no_of_validation = 14)"
   ]
  },
  {
   "cell_type": "code",
   "execution_count": 78,
   "metadata": {},
   "outputs": [],
   "source": [
    "def get_evaluation_sets(data, df):\n",
    "    evaluation_set = []\n",
    "    \n",
    "    for row in range(df.shape[0]):\n",
    "        print(df.loc[row]['set_no'])\n",
    "        # get the train data 1\n",
    "        train_data_1 = data[(data.WEEK_END_DATE >= df.loc[row]['train_start_1']) & (data.WEEK_END_DATE <= df.loc[row]['train_end_1'])]        \n",
    "        # get the validate data\n",
    "        validation_data = data[data.WEEK_END_DATE == df.loc[row]['validate_week']]\n",
    "        # get the train data 2\n",
    "        train_data_2 = data[(data.WEEK_END_DATE >= df.loc[row]['train_start_2']) & (data.WEEK_END_DATE <= df.loc[row]['validate_week'])]\n",
    "        # get the test data\n",
    "        test_data = data[data.WEEK_END_DATE == df.loc[row]['test_week']]\n",
    "        evaluation_set.append((train_data_1, validation_data, train_data_2, test_data))\n",
    "    return evaluation_set"
   ]
  },
  {
   "cell_type": "code",
   "execution_count": 79,
   "metadata": {},
   "outputs": [
    {
     "name": "stdout",
     "output_type": "stream",
     "text": [
      "set1\n",
      "set2\n",
      "set3\n",
      "set4\n",
      "set5\n",
      "set6\n",
      "set7\n",
      "set8\n",
      "set9\n",
      "set10\n",
      "set11\n",
      "set12\n",
      "set13\n",
      "set14\n"
     ]
    }
   ],
   "source": [
    "evaluation_sets = get_evaluation_sets(data,\n",
    "                                      validation_df(data,\n",
    "                                                    week,\n",
    "                                                    no_of_months= 2,\n",
    "                                                    no_of_validation=14)\n",
    "                                     )"
   ]
  },
  {
   "cell_type": "code",
   "execution_count": 80,
   "metadata": {},
   "outputs": [],
   "source": [
    "def get_msle(true, predicted) :\n",
    "    return np.sqrt(msle(true, predicted))"
   ]
  },
  {
   "cell_type": "code",
   "execution_count": 81,
   "metadata": {},
   "outputs": [],
   "source": [
    "def get_results_on_evaluation_set(eval_set, model):\n",
    "    results = []\n",
    "    set_n = 1\n",
    "    for eval_data in tqdm(eval_set):\n",
    "        \n",
    "        x = {}\n",
    "        train_data_1, validate, train_data_2, test = eval_data\n",
    "        \n",
    "        train_data_1_x = train_data_1.drop(columns= ['WEEK_END_DATE', 'STORE_NUM', 'UPC', 'UNITS'])\n",
    "        train_data_1_y = train_data_1['UNITS']\n",
    "        \n",
    "        validate_x = validate.drop(columns= ['WEEK_END_DATE', 'STORE_NUM', 'UPC', 'UNITS'])\n",
    "        validate_y = validate['UNITS']\n",
    "        \n",
    "        train_data_2_x = train_data_2.drop(columns= ['WEEK_END_DATE', 'STORE_NUM', 'UPC', 'UNITS'])\n",
    "        train_data_2_y = train_data_2['UNITS']\n",
    "        \n",
    "        test_x = test.drop(columns= ['WEEK_END_DATE', 'STORE_NUM', 'UPC', 'UNITS'])\n",
    "        test_y = test['UNITS']\n",
    "        \n",
    "        model_valid = model.fit(train_data_1_x, train_data_1_y)\n",
    "        \n",
    "        predict_train_1 = model_valid.predict(train_data_1_x).clip(min=0)\n",
    "        predict_valid   = model_valid.predict(validate_x).clip(min=0)\n",
    "                \n",
    "        model_test  = model.fit(train_data_2_x, train_data_2_y)\n",
    "        \n",
    "        predict_train_2 = model_test.predict(train_data_2_x).clip(min=0)\n",
    "        predict_test    = model_test.predict(test_x).clip(min=0)\n",
    "        \n",
    "        rmsle_train_1 = get_msle(train_data_1_y, predict_train_1)\n",
    "        rmsle_valid   = get_msle(validate_y, predict_valid)\n",
    "        \n",
    "        rmsle_train_2 = get_msle(train_data_2_y, predict_train_2)\n",
    "        rmsle_test    = get_msle(test_y, predict_test)\n",
    "        \n",
    "        x['set_no'] = set_n\n",
    "        set_n +=1\n",
    "        x['rmsle_train_1'] = rmsle_train_1\n",
    "        x['rmsle_valid'] = rmsle_valid\n",
    "        x['rmsle_train_2'] = rmsle_train_2\n",
    "        x['rmsle_test'] = rmsle_test\n",
    "        results.append(x)\n",
    "        \n",
    "    return pd.DataFrame.from_dict(results)  "
   ]
  },
  {
   "cell_type": "code",
   "execution_count": 82,
   "metadata": {},
   "outputs": [],
   "source": [
    "# Get the best 10 feature importance plot\n",
    "def get_feature_importance(eval_set, model):\n",
    "    train_data_1, validate, train_data_2, test = eval_set\n",
    "    \n",
    "    train_data_x = train_data_2.drop(columns= ['WEEK_END_DATE', 'STORE_NUM', 'UPC', 'UNITS'])\n",
    "    train_data_y = train_data_2['UNITS']\n",
    "        \n",
    "    test_x = test.drop(columns= ['WEEK_END_DATE', 'STORE_NUM', 'UPC', 'UNITS'])\n",
    "    test_y = test['UNITS']\n",
    "    \n",
    "    model.fit(train_data_x, train_data_y)\n",
    "    (pd.Series(model.feature_importances_, index=train_data_x.columns).nlargest(10).plot(kind='barh')) \n"
   ]
  },
  {
   "cell_type": "markdown",
   "metadata": {},
   "source": [
    "---\n",
    "\n",
    "## `RandomForest`\n",
    "\n",
    "---"
   ]
  },
  {
   "cell_type": "code",
   "execution_count": 83,
   "metadata": {},
   "outputs": [
    {
     "name": "stderr",
     "output_type": "stream",
     "text": [
      "100%|██████████| 14/14 [06:50<00:00, 29.29s/it]\n"
     ]
    }
   ],
   "source": [
    "model_rf = RandomForestRegressor(max_depth=10, n_estimators=175, random_state=0)\n",
    "\n",
    "results_RFR = get_results_on_evaluation_set(evaluation_sets, model_rf)"
   ]
  },
  {
   "cell_type": "code",
   "execution_count": 84,
   "metadata": {},
   "outputs": [
    {
     "data": {
      "text/html": [
       "<div>\n",
       "<style scoped>\n",
       "    .dataframe tbody tr th:only-of-type {\n",
       "        vertical-align: middle;\n",
       "    }\n",
       "\n",
       "    .dataframe tbody tr th {\n",
       "        vertical-align: top;\n",
       "    }\n",
       "\n",
       "    .dataframe thead th {\n",
       "        text-align: right;\n",
       "    }\n",
       "</style>\n",
       "<table border=\"1\" class=\"dataframe\">\n",
       "  <thead>\n",
       "    <tr style=\"text-align: right;\">\n",
       "      <th></th>\n",
       "      <th>rmsle_train_2</th>\n",
       "      <th>rmsle_test</th>\n",
       "    </tr>\n",
       "  </thead>\n",
       "  <tbody>\n",
       "    <tr>\n",
       "      <td>0</td>\n",
       "      <td>0.353240</td>\n",
       "      <td>0.416301</td>\n",
       "    </tr>\n",
       "    <tr>\n",
       "      <td>1</td>\n",
       "      <td>0.355415</td>\n",
       "      <td>0.493602</td>\n",
       "    </tr>\n",
       "    <tr>\n",
       "      <td>2</td>\n",
       "      <td>0.363767</td>\n",
       "      <td>0.401761</td>\n",
       "    </tr>\n",
       "    <tr>\n",
       "      <td>3</td>\n",
       "      <td>0.350412</td>\n",
       "      <td>0.463373</td>\n",
       "    </tr>\n",
       "    <tr>\n",
       "      <td>4</td>\n",
       "      <td>0.344208</td>\n",
       "      <td>0.558591</td>\n",
       "    </tr>\n",
       "    <tr>\n",
       "      <td>5</td>\n",
       "      <td>0.349586</td>\n",
       "      <td>0.479080</td>\n",
       "    </tr>\n",
       "    <tr>\n",
       "      <td>6</td>\n",
       "      <td>0.339725</td>\n",
       "      <td>0.465425</td>\n",
       "    </tr>\n",
       "    <tr>\n",
       "      <td>7</td>\n",
       "      <td>0.334268</td>\n",
       "      <td>0.534997</td>\n",
       "    </tr>\n",
       "    <tr>\n",
       "      <td>8</td>\n",
       "      <td>0.328488</td>\n",
       "      <td>0.432694</td>\n",
       "    </tr>\n",
       "    <tr>\n",
       "      <td>9</td>\n",
       "      <td>0.332360</td>\n",
       "      <td>0.470960</td>\n",
       "    </tr>\n",
       "    <tr>\n",
       "      <td>10</td>\n",
       "      <td>0.346669</td>\n",
       "      <td>0.427036</td>\n",
       "    </tr>\n",
       "    <tr>\n",
       "      <td>11</td>\n",
       "      <td>0.348837</td>\n",
       "      <td>0.436376</td>\n",
       "    </tr>\n",
       "    <tr>\n",
       "      <td>12</td>\n",
       "      <td>0.348793</td>\n",
       "      <td>0.453843</td>\n",
       "    </tr>\n",
       "    <tr>\n",
       "      <td>13</td>\n",
       "      <td>0.344507</td>\n",
       "      <td>0.423164</td>\n",
       "    </tr>\n",
       "  </tbody>\n",
       "</table>\n",
       "</div>"
      ],
      "text/plain": [
       "    rmsle_train_2  rmsle_test\n",
       "0        0.353240    0.416301\n",
       "1        0.355415    0.493602\n",
       "2        0.363767    0.401761\n",
       "3        0.350412    0.463373\n",
       "4        0.344208    0.558591\n",
       "5        0.349586    0.479080\n",
       "6        0.339725    0.465425\n",
       "7        0.334268    0.534997\n",
       "8        0.328488    0.432694\n",
       "9        0.332360    0.470960\n",
       "10       0.346669    0.427036\n",
       "11       0.348837    0.436376\n",
       "12       0.348793    0.453843\n",
       "13       0.344507    0.423164"
      ]
     },
     "execution_count": 84,
     "metadata": {},
     "output_type": "execute_result"
    }
   ],
   "source": [
    "results_RFR[['rmsle_train_2', 'rmsle_test']]"
   ]
  },
  {
   "cell_type": "code",
   "execution_count": 85,
   "metadata": {},
   "outputs": [
    {
     "data": {
      "text/plain": [
       "rmsle_train_2    0.345734\n",
       "rmsle_test       0.461229\n",
       "dtype: float64"
      ]
     },
     "execution_count": 85,
     "metadata": {},
     "output_type": "execute_result"
    }
   ],
   "source": [
    "results_RFR[['rmsle_train_2', 'rmsle_test']].mean()"
   ]
  },
  {
   "cell_type": "markdown",
   "metadata": {},
   "source": [
    "---\n",
    "\n",
    "### `XGBOOST`\n",
    "---"
   ]
  },
  {
   "cell_type": "code",
   "execution_count": 87,
   "metadata": {},
   "outputs": [],
   "source": [
    "import xgboost as xgb\n",
    "from catboost import CatBoostRegressor\n",
    "from tqdm import tqdm\n",
    "from datetime import timedelta"
   ]
  },
  {
   "cell_type": "code",
   "execution_count": 88,
   "metadata": {},
   "outputs": [],
   "source": [
    "model_XGB = xgb.XGBRegressor(n_estimators = 720,\n",
    "                             subsample = 1,\n",
    "                             max_depth = 4,\n",
    "                             min_child_weight = 2,\n",
    "                             gamma = 0,\n",
    "                             learning_rate = 0.01,\n",
    "                             n_jobs = 4,\n",
    "                             random_state = 0,\n",
    "                             objective ='reg:squarederror')"
   ]
  },
  {
   "cell_type": "code",
   "execution_count": 89,
   "metadata": {},
   "outputs": [
    {
     "name": "stderr",
     "output_type": "stream",
     "text": [
      "100%|██████████| 14/14 [04:41<00:00, 20.12s/it]\n"
     ]
    }
   ],
   "source": [
    "results_XGB = get_results_on_evaluation_set(evaluation_sets, model_XGB)"
   ]
  },
  {
   "cell_type": "code",
   "execution_count": 90,
   "metadata": {},
   "outputs": [
    {
     "data": {
      "text/html": [
       "<div>\n",
       "<style scoped>\n",
       "    .dataframe tbody tr th:only-of-type {\n",
       "        vertical-align: middle;\n",
       "    }\n",
       "\n",
       "    .dataframe tbody tr th {\n",
       "        vertical-align: top;\n",
       "    }\n",
       "\n",
       "    .dataframe thead th {\n",
       "        text-align: right;\n",
       "    }\n",
       "</style>\n",
       "<table border=\"1\" class=\"dataframe\">\n",
       "  <thead>\n",
       "    <tr style=\"text-align: right;\">\n",
       "      <th></th>\n",
       "      <th>rmsle_train_2</th>\n",
       "      <th>rmsle_test</th>\n",
       "    </tr>\n",
       "  </thead>\n",
       "  <tbody>\n",
       "    <tr>\n",
       "      <td>0</td>\n",
       "      <td>0.409367</td>\n",
       "      <td>0.433260</td>\n",
       "    </tr>\n",
       "    <tr>\n",
       "      <td>1</td>\n",
       "      <td>0.413264</td>\n",
       "      <td>0.475992</td>\n",
       "    </tr>\n",
       "    <tr>\n",
       "      <td>2</td>\n",
       "      <td>0.414448</td>\n",
       "      <td>0.406275</td>\n",
       "    </tr>\n",
       "    <tr>\n",
       "      <td>3</td>\n",
       "      <td>0.406377</td>\n",
       "      <td>0.473980</td>\n",
       "    </tr>\n",
       "    <tr>\n",
       "      <td>4</td>\n",
       "      <td>0.403941</td>\n",
       "      <td>0.549743</td>\n",
       "    </tr>\n",
       "    <tr>\n",
       "      <td>5</td>\n",
       "      <td>0.401243</td>\n",
       "      <td>0.482788</td>\n",
       "    </tr>\n",
       "    <tr>\n",
       "      <td>6</td>\n",
       "      <td>0.391651</td>\n",
       "      <td>0.477092</td>\n",
       "    </tr>\n",
       "    <tr>\n",
       "      <td>7</td>\n",
       "      <td>0.388893</td>\n",
       "      <td>0.543432</td>\n",
       "    </tr>\n",
       "    <tr>\n",
       "      <td>8</td>\n",
       "      <td>0.383705</td>\n",
       "      <td>0.540936</td>\n",
       "    </tr>\n",
       "    <tr>\n",
       "      <td>9</td>\n",
       "      <td>0.384872</td>\n",
       "      <td>0.457406</td>\n",
       "    </tr>\n",
       "    <tr>\n",
       "      <td>10</td>\n",
       "      <td>0.398392</td>\n",
       "      <td>0.431607</td>\n",
       "    </tr>\n",
       "    <tr>\n",
       "      <td>11</td>\n",
       "      <td>0.404881</td>\n",
       "      <td>0.448170</td>\n",
       "    </tr>\n",
       "    <tr>\n",
       "      <td>12</td>\n",
       "      <td>0.401588</td>\n",
       "      <td>0.456514</td>\n",
       "    </tr>\n",
       "    <tr>\n",
       "      <td>13</td>\n",
       "      <td>0.403105</td>\n",
       "      <td>0.440640</td>\n",
       "    </tr>\n",
       "  </tbody>\n",
       "</table>\n",
       "</div>"
      ],
      "text/plain": [
       "    rmsle_train_2  rmsle_test\n",
       "0        0.409367    0.433260\n",
       "1        0.413264    0.475992\n",
       "2        0.414448    0.406275\n",
       "3        0.406377    0.473980\n",
       "4        0.403941    0.549743\n",
       "5        0.401243    0.482788\n",
       "6        0.391651    0.477092\n",
       "7        0.388893    0.543432\n",
       "8        0.383705    0.540936\n",
       "9        0.384872    0.457406\n",
       "10       0.398392    0.431607\n",
       "11       0.404881    0.448170\n",
       "12       0.401588    0.456514\n",
       "13       0.403105    0.440640"
      ]
     },
     "execution_count": 90,
     "metadata": {},
     "output_type": "execute_result"
    }
   ],
   "source": [
    "results_XGB[['rmsle_train_2', 'rmsle_test']]"
   ]
  },
  {
   "cell_type": "code",
   "execution_count": 91,
   "metadata": {},
   "outputs": [
    {
     "data": {
      "text/plain": [
       "rmsle_train_2    0.400409\n",
       "rmsle_test       0.472702\n",
       "dtype: float64"
      ]
     },
     "execution_count": 91,
     "metadata": {},
     "output_type": "execute_result"
    }
   ],
   "source": [
    "results_XGB[['rmsle_train_2', 'rmsle_test']].mean()"
   ]
  },
  {
   "cell_type": "markdown",
   "metadata": {},
   "source": [
    "---\n",
    "\n",
    "## `CATBOOST`\n",
    "\n",
    "---"
   ]
  },
  {
   "cell_type": "code",
   "execution_count": 92,
   "metadata": {},
   "outputs": [],
   "source": [
    "# read the data for the catboost model\n",
    "catboost_data = pd.read_csv('data/catboost_data.csv')"
   ]
  },
  {
   "cell_type": "code",
   "execution_count": 93,
   "metadata": {},
   "outputs": [],
   "source": [
    "# convert WEEK_END_DATE to datetime format\n",
    "catboost_data.WEEK_END_DATE = pd.to_datetime(catboost_data.WEEK_END_DATE)"
   ]
  },
  {
   "cell_type": "code",
   "execution_count": 94,
   "metadata": {},
   "outputs": [
    {
     "data": {
      "text/html": [
       "<div>\n",
       "<style scoped>\n",
       "    .dataframe tbody tr th:only-of-type {\n",
       "        vertical-align: middle;\n",
       "    }\n",
       "\n",
       "    .dataframe tbody tr th {\n",
       "        vertical-align: top;\n",
       "    }\n",
       "\n",
       "    .dataframe thead th {\n",
       "        text-align: right;\n",
       "    }\n",
       "</style>\n",
       "<table border=\"1\" class=\"dataframe\">\n",
       "  <thead>\n",
       "    <tr style=\"text-align: right;\">\n",
       "      <th></th>\n",
       "      <th>train_start_1</th>\n",
       "      <th>train_end_1</th>\n",
       "      <th>train_start_2</th>\n",
       "      <th>validate_week</th>\n",
       "      <th>test_week</th>\n",
       "      <th>no_days_train_1</th>\n",
       "      <th>no_days_train_2</th>\n",
       "      <th>set_no</th>\n",
       "    </tr>\n",
       "  </thead>\n",
       "  <tbody>\n",
       "    <tr>\n",
       "      <td>0</td>\n",
       "      <td>2011-07-13</td>\n",
       "      <td>2011-08-31</td>\n",
       "      <td>2011-07-27</td>\n",
       "      <td>2011-09-14</td>\n",
       "      <td>2011-09-28</td>\n",
       "      <td>56 days</td>\n",
       "      <td>56 days</td>\n",
       "      <td>set1</td>\n",
       "    </tr>\n",
       "    <tr>\n",
       "      <td>1</td>\n",
       "      <td>2011-07-06</td>\n",
       "      <td>2011-08-24</td>\n",
       "      <td>2011-07-20</td>\n",
       "      <td>2011-09-07</td>\n",
       "      <td>2011-09-21</td>\n",
       "      <td>56 days</td>\n",
       "      <td>56 days</td>\n",
       "      <td>set2</td>\n",
       "    </tr>\n",
       "    <tr>\n",
       "      <td>2</td>\n",
       "      <td>2011-06-29</td>\n",
       "      <td>2011-08-17</td>\n",
       "      <td>2011-07-13</td>\n",
       "      <td>2011-08-31</td>\n",
       "      <td>2011-09-14</td>\n",
       "      <td>56 days</td>\n",
       "      <td>56 days</td>\n",
       "      <td>set3</td>\n",
       "    </tr>\n",
       "    <tr>\n",
       "      <td>3</td>\n",
       "      <td>2011-06-22</td>\n",
       "      <td>2011-08-10</td>\n",
       "      <td>2011-07-06</td>\n",
       "      <td>2011-08-24</td>\n",
       "      <td>2011-09-07</td>\n",
       "      <td>56 days</td>\n",
       "      <td>56 days</td>\n",
       "      <td>set4</td>\n",
       "    </tr>\n",
       "    <tr>\n",
       "      <td>4</td>\n",
       "      <td>2011-06-15</td>\n",
       "      <td>2011-08-03</td>\n",
       "      <td>2011-06-29</td>\n",
       "      <td>2011-08-17</td>\n",
       "      <td>2011-08-31</td>\n",
       "      <td>56 days</td>\n",
       "      <td>56 days</td>\n",
       "      <td>set5</td>\n",
       "    </tr>\n",
       "    <tr>\n",
       "      <td>5</td>\n",
       "      <td>2011-06-08</td>\n",
       "      <td>2011-07-27</td>\n",
       "      <td>2011-06-22</td>\n",
       "      <td>2011-08-10</td>\n",
       "      <td>2011-08-24</td>\n",
       "      <td>56 days</td>\n",
       "      <td>56 days</td>\n",
       "      <td>set6</td>\n",
       "    </tr>\n",
       "    <tr>\n",
       "      <td>6</td>\n",
       "      <td>2011-06-01</td>\n",
       "      <td>2011-07-20</td>\n",
       "      <td>2011-06-15</td>\n",
       "      <td>2011-08-03</td>\n",
       "      <td>2011-08-17</td>\n",
       "      <td>56 days</td>\n",
       "      <td>56 days</td>\n",
       "      <td>set7</td>\n",
       "    </tr>\n",
       "    <tr>\n",
       "      <td>7</td>\n",
       "      <td>2011-05-25</td>\n",
       "      <td>2011-07-13</td>\n",
       "      <td>2011-06-08</td>\n",
       "      <td>2011-07-27</td>\n",
       "      <td>2011-08-10</td>\n",
       "      <td>56 days</td>\n",
       "      <td>56 days</td>\n",
       "      <td>set8</td>\n",
       "    </tr>\n",
       "    <tr>\n",
       "      <td>8</td>\n",
       "      <td>2011-05-18</td>\n",
       "      <td>2011-07-06</td>\n",
       "      <td>2011-06-01</td>\n",
       "      <td>2011-07-20</td>\n",
       "      <td>2011-08-03</td>\n",
       "      <td>56 days</td>\n",
       "      <td>56 days</td>\n",
       "      <td>set9</td>\n",
       "    </tr>\n",
       "    <tr>\n",
       "      <td>9</td>\n",
       "      <td>2011-05-11</td>\n",
       "      <td>2011-06-29</td>\n",
       "      <td>2011-05-25</td>\n",
       "      <td>2011-07-13</td>\n",
       "      <td>2011-07-27</td>\n",
       "      <td>56 days</td>\n",
       "      <td>56 days</td>\n",
       "      <td>set10</td>\n",
       "    </tr>\n",
       "    <tr>\n",
       "      <td>10</td>\n",
       "      <td>2011-05-04</td>\n",
       "      <td>2011-06-22</td>\n",
       "      <td>2011-05-18</td>\n",
       "      <td>2011-07-06</td>\n",
       "      <td>2011-07-20</td>\n",
       "      <td>56 days</td>\n",
       "      <td>56 days</td>\n",
       "      <td>set11</td>\n",
       "    </tr>\n",
       "    <tr>\n",
       "      <td>11</td>\n",
       "      <td>2011-04-27</td>\n",
       "      <td>2011-06-15</td>\n",
       "      <td>2011-05-11</td>\n",
       "      <td>2011-06-29</td>\n",
       "      <td>2011-07-13</td>\n",
       "      <td>56 days</td>\n",
       "      <td>56 days</td>\n",
       "      <td>set12</td>\n",
       "    </tr>\n",
       "    <tr>\n",
       "      <td>12</td>\n",
       "      <td>2011-04-20</td>\n",
       "      <td>2011-06-08</td>\n",
       "      <td>2011-05-04</td>\n",
       "      <td>2011-06-22</td>\n",
       "      <td>2011-07-06</td>\n",
       "      <td>56 days</td>\n",
       "      <td>56 days</td>\n",
       "      <td>set13</td>\n",
       "    </tr>\n",
       "    <tr>\n",
       "      <td>13</td>\n",
       "      <td>2011-04-13</td>\n",
       "      <td>2011-06-01</td>\n",
       "      <td>2011-04-27</td>\n",
       "      <td>2011-06-15</td>\n",
       "      <td>2011-06-29</td>\n",
       "      <td>56 days</td>\n",
       "      <td>56 days</td>\n",
       "      <td>set14</td>\n",
       "    </tr>\n",
       "  </tbody>\n",
       "</table>\n",
       "</div>"
      ],
      "text/plain": [
       "   train_start_1 train_end_1 train_start_2 validate_week  test_week  \\\n",
       "0     2011-07-13  2011-08-31    2011-07-27    2011-09-14 2011-09-28   \n",
       "1     2011-07-06  2011-08-24    2011-07-20    2011-09-07 2011-09-21   \n",
       "2     2011-06-29  2011-08-17    2011-07-13    2011-08-31 2011-09-14   \n",
       "3     2011-06-22  2011-08-10    2011-07-06    2011-08-24 2011-09-07   \n",
       "4     2011-06-15  2011-08-03    2011-06-29    2011-08-17 2011-08-31   \n",
       "5     2011-06-08  2011-07-27    2011-06-22    2011-08-10 2011-08-24   \n",
       "6     2011-06-01  2011-07-20    2011-06-15    2011-08-03 2011-08-17   \n",
       "7     2011-05-25  2011-07-13    2011-06-08    2011-07-27 2011-08-10   \n",
       "8     2011-05-18  2011-07-06    2011-06-01    2011-07-20 2011-08-03   \n",
       "9     2011-05-11  2011-06-29    2011-05-25    2011-07-13 2011-07-27   \n",
       "10    2011-05-04  2011-06-22    2011-05-18    2011-07-06 2011-07-20   \n",
       "11    2011-04-27  2011-06-15    2011-05-11    2011-06-29 2011-07-13   \n",
       "12    2011-04-20  2011-06-08    2011-05-04    2011-06-22 2011-07-06   \n",
       "13    2011-04-13  2011-06-01    2011-04-27    2011-06-15 2011-06-29   \n",
       "\n",
       "   no_days_train_1 no_days_train_2 set_no  \n",
       "0          56 days         56 days   set1  \n",
       "1          56 days         56 days   set2  \n",
       "2          56 days         56 days   set3  \n",
       "3          56 days         56 days   set4  \n",
       "4          56 days         56 days   set5  \n",
       "5          56 days         56 days   set6  \n",
       "6          56 days         56 days   set7  \n",
       "7          56 days         56 days   set8  \n",
       "8          56 days         56 days   set9  \n",
       "9          56 days         56 days  set10  \n",
       "10         56 days         56 days  set11  \n",
       "11         56 days         56 days  set12  \n",
       "12         56 days         56 days  set13  \n",
       "13         56 days         56 days  set14  "
      ]
     },
     "execution_count": 94,
     "metadata": {},
     "output_type": "execute_result"
    }
   ],
   "source": [
    "validation_df(catboost_data, week, no_of_months=2, no_of_validation=14)"
   ]
  },
  {
   "cell_type": "code",
   "execution_count": 95,
   "metadata": {},
   "outputs": [
    {
     "name": "stdout",
     "output_type": "stream",
     "text": [
      "set1\n",
      "set2\n",
      "set3\n",
      "set4\n",
      "set5\n",
      "set6\n",
      "set7\n",
      "set8\n",
      "set9\n",
      "set10\n",
      "set11\n",
      "set12\n",
      "set13\n",
      "set14\n"
     ]
    }
   ],
   "source": [
    "catboost_evaluation_set = get_evaluation_sets(catboost_data,\n",
    "                                              validation_df(catboost_data,\n",
    "                                                            week,\n",
    "                                                            no_of_months=2,\n",
    "                                                            no_of_validation=14))"
   ]
  },
  {
   "cell_type": "code",
   "execution_count": 96,
   "metadata": {},
   "outputs": [],
   "source": [
    "categorical_feature_indices = [1, 16, 17, 18, 19, 20, 21, 22, 23]"
   ]
  },
  {
   "cell_type": "code",
   "execution_count": 97,
   "metadata": {},
   "outputs": [],
   "source": [
    "model_CBR = CatBoostRegressor(n_estimators=1800,\n",
    "                              l2_leaf_reg=3,\n",
    "                              max_depth=8,\n",
    "                              learning_rate= 0.075,\n",
    "                              objective='RMSE',\n",
    "                              verbose=False,\n",
    "                              eval_metric='MSLE',\n",
    "                              cat_features=categorical_feature_indices)"
   ]
  },
  {
   "cell_type": "code",
   "execution_count": 98,
   "metadata": {},
   "outputs": [
    {
     "name": "stderr",
     "output_type": "stream",
     "text": [
      "100%|██████████| 14/14 [50:53<00:00, 218.13s/it] \n"
     ]
    }
   ],
   "source": [
    "results_CBR = get_results_on_evaluation_set(catboost_evaluation_set, model_CBR)"
   ]
  },
  {
   "cell_type": "code",
   "execution_count": 99,
   "metadata": {},
   "outputs": [
    {
     "data": {
      "text/html": [
       "<div>\n",
       "<style scoped>\n",
       "    .dataframe tbody tr th:only-of-type {\n",
       "        vertical-align: middle;\n",
       "    }\n",
       "\n",
       "    .dataframe tbody tr th {\n",
       "        vertical-align: top;\n",
       "    }\n",
       "\n",
       "    .dataframe thead th {\n",
       "        text-align: right;\n",
       "    }\n",
       "</style>\n",
       "<table border=\"1\" class=\"dataframe\">\n",
       "  <thead>\n",
       "    <tr style=\"text-align: right;\">\n",
       "      <th></th>\n",
       "      <th>rmsle_train_2</th>\n",
       "      <th>rmsle_test</th>\n",
       "    </tr>\n",
       "  </thead>\n",
       "  <tbody>\n",
       "    <tr>\n",
       "      <td>0</td>\n",
       "      <td>0.297189</td>\n",
       "      <td>0.421793</td>\n",
       "    </tr>\n",
       "    <tr>\n",
       "      <td>1</td>\n",
       "      <td>0.300668</td>\n",
       "      <td>0.503896</td>\n",
       "    </tr>\n",
       "    <tr>\n",
       "      <td>2</td>\n",
       "      <td>0.297359</td>\n",
       "      <td>0.406415</td>\n",
       "    </tr>\n",
       "    <tr>\n",
       "      <td>3</td>\n",
       "      <td>0.292633</td>\n",
       "      <td>0.469835</td>\n",
       "    </tr>\n",
       "    <tr>\n",
       "      <td>4</td>\n",
       "      <td>0.294790</td>\n",
       "      <td>0.539858</td>\n",
       "    </tr>\n",
       "    <tr>\n",
       "      <td>5</td>\n",
       "      <td>0.294282</td>\n",
       "      <td>0.500790</td>\n",
       "    </tr>\n",
       "    <tr>\n",
       "      <td>6</td>\n",
       "      <td>0.289677</td>\n",
       "      <td>0.479806</td>\n",
       "    </tr>\n",
       "    <tr>\n",
       "      <td>7</td>\n",
       "      <td>0.285159</td>\n",
       "      <td>0.547076</td>\n",
       "    </tr>\n",
       "    <tr>\n",
       "      <td>8</td>\n",
       "      <td>0.284053</td>\n",
       "      <td>0.486597</td>\n",
       "    </tr>\n",
       "    <tr>\n",
       "      <td>9</td>\n",
       "      <td>0.288318</td>\n",
       "      <td>0.519067</td>\n",
       "    </tr>\n",
       "    <tr>\n",
       "      <td>10</td>\n",
       "      <td>0.285980</td>\n",
       "      <td>0.409575</td>\n",
       "    </tr>\n",
       "    <tr>\n",
       "      <td>11</td>\n",
       "      <td>0.293505</td>\n",
       "      <td>0.399226</td>\n",
       "    </tr>\n",
       "    <tr>\n",
       "      <td>12</td>\n",
       "      <td>0.293504</td>\n",
       "      <td>0.407472</td>\n",
       "    </tr>\n",
       "    <tr>\n",
       "      <td>13</td>\n",
       "      <td>0.292492</td>\n",
       "      <td>0.437794</td>\n",
       "    </tr>\n",
       "  </tbody>\n",
       "</table>\n",
       "</div>"
      ],
      "text/plain": [
       "    rmsle_train_2  rmsle_test\n",
       "0        0.297189    0.421793\n",
       "1        0.300668    0.503896\n",
       "2        0.297359    0.406415\n",
       "3        0.292633    0.469835\n",
       "4        0.294790    0.539858\n",
       "5        0.294282    0.500790\n",
       "6        0.289677    0.479806\n",
       "7        0.285159    0.547076\n",
       "8        0.284053    0.486597\n",
       "9        0.288318    0.519067\n",
       "10       0.285980    0.409575\n",
       "11       0.293505    0.399226\n",
       "12       0.293504    0.407472\n",
       "13       0.292492    0.437794"
      ]
     },
     "execution_count": 99,
     "metadata": {},
     "output_type": "execute_result"
    }
   ],
   "source": [
    "results_CBR[['rmsle_train_2', 'rmsle_test']]"
   ]
  },
  {
   "cell_type": "code",
   "execution_count": 100,
   "metadata": {},
   "outputs": [
    {
     "data": {
      "text/plain": [
       "rmsle_train_2    0.292115\n",
       "rmsle_test       0.466371\n",
       "dtype: float64"
      ]
     },
     "execution_count": 100,
     "metadata": {},
     "output_type": "execute_result"
    }
   ],
   "source": [
    "results_CBR[['rmsle_train_2', 'rmsle_test']].mean()"
   ]
  },
  {
   "cell_type": "markdown",
   "metadata": {},
   "source": [
    "---\n",
    "\n",
    "### `FEATURE IMPORTANCE`\n",
    "\n",
    "---"
   ]
  },
  {
   "cell_type": "code",
   "execution_count": 101,
   "metadata": {},
   "outputs": [
    {
     "data": {
      "image/png": "[encoded data removed]",
      "text/plain": [
       "<Figure size 432x288 with 1 Axes>"
      ]
     },
     "metadata": {
      "needs_background": "light"
     },
     "output_type": "display_data"
    }
   ],
   "source": [
    "get_feature_importance(evaluation_sets[0], model_rf)"
   ]
  },
  {
   "cell_type": "code",
   "execution_count": null,
   "metadata": {},
   "outputs": [],
   "source": [
    "get_feature_importance(evaluation_sets[0], model_XGB)"
   ]
  },
  {
   "cell_type": "code",
   "execution_count": 103,
   "metadata": {},
   "outputs": [
    {
     "data": {
      "image/png": "[encoded data removed]",
      "text/plain": [
       "<Figure size 432x288 with 1 Axes>"
      ]
     },
     "metadata": {
      "needs_background": "light"
     },
     "output_type": "display_data"
    }
   ],
   "source": [
    "get_feature_importance(catboost_evaluation_set[0], model_CBR)"
   ]
  },
  {
   "cell_type": "markdown",
   "metadata": {},
   "source": [
    "---\n",
    "\n",
    "## `Ensemble Model`\n",
    "\n",
    "\n",
    "---\n",
    "\n"
   ]
  },
  {
   "cell_type": "markdown",
   "metadata": {},
   "source": [
    "def get_score(model_result1, model_result2, weight=0.35):\n",
    "    \n",
    "    true1, prediction1 = model_result1\n",
    "    true2, prediction2 = model_result2\n",
    "    prediction = prediction1*weight + prediction2*(1 - weight)\n",
    "    return get_msle(true1, prediction)\n",
    "\n",
    "def get_ensemble_score(results_model1, results_model2, set_n) :\n",
    "    \n",
    "    train_1_model1, valid_model1 = results_model1\n",
    "    \n",
    "    train_1_model2, valid_model2 = results_model2\n",
    "      \n",
    "   \n",
    "    x = {}\n",
    "    x['set_n'] = set_n\n",
    "    x['train_rmsle'] = get_score(train_1_model1, train_1_model2)\n",
    "    x['test_rmsle']   = get_score(valid_model1, valid_model2)\n",
    "        \n",
    "    return x\n",
    "\n",
    "def get_ensemble_results_on_evaluation_set(eval_set, eval_set_2, model1, model2):\n",
    "    results = []\n",
    "    set_n = 1\n",
    "    for eval_data, eval_data_2 in tqdm(zip(eval_set,eval_set_2)):\n",
    "        \n",
    "        train_data_1, validate, train_data_2, test = eval_data\n",
    "        \n",
    "        \n",
    "        train_data_x = train_data_2.drop(columns= ['WEEK_END_DATE', 'STORE_NUM', 'UPC', 'UNITS'])\n",
    "        train_data_y = train_data_2['UNITS']\n",
    "        \n",
    "        test_x = test.drop(columns= ['WEEK_END_DATE', 'STORE_NUM', 'UPC', 'UNITS'])\n",
    "        test_y = test['UNITS']\n",
    "        \n",
    "        \n",
    "        model = model1.fit(train_data_x, train_data_y)\n",
    "        \n",
    "        predict_train = model.predict(train_data_x).clip(min=0)\n",
    "        predict_test   = model.predict(test_x).clip(min=0)\n",
    "        \n",
    "        results_model1 = ((train_data_y, predict_train),\n",
    "                          (test_y, predict_test))\n",
    "         \n",
    "        \n",
    "        ############################################################################\n",
    "        \n",
    "        train_data_1, validate, train_data_2, test = eval_data_2\n",
    "        \n",
    "        \n",
    "        train_data_x = train_data_2.drop(columns= ['WEEK_END_DATE', 'STORE_NUM', 'UPC', 'UNITS'])\n",
    "        train_data_y = train_data_2['UNITS']\n",
    "        \n",
    "        test_x = test.drop(columns= ['WEEK_END_DATE', 'STORE_NUM', 'UPC', 'UNITS'])\n",
    "        test_y = test['UNITS']\n",
    "        \n",
    "        \n",
    "        model = model2.fit(train_data_x, train_data_y)\n",
    "        \n",
    "        predict_train = model.predict(train_data_x).clip(min=0)\n",
    "        predict_test  = model.predict(test_x).clip(min=0)\n",
    "        \n",
    "        results_model2 = ((train_data_y, predict_train),\n",
    "                          (test_y, predict_test))\n",
    "        \n",
    "        results.append(get_ensemble_score(results_model1, results_model2,set_n))\n",
    "        set_n += 1\n",
    "        \n",
    "        \n",
    "    return results"
   ]
  },
  {
   "cell_type": "code",
   "execution_count": 108,
   "metadata": {},
   "outputs": [],
   "source": [
    "# final_ensemble_results = get_ensemble_results_on_evaluation_set(evaluation_sets, \n",
    "#                                                                catboost_evaluation_set, \n",
    "#                                                                model_XGB,\n",
    "#                                                                model_CBR)"
   ]
  },
  {
   "cell_type": "code",
   "execution_count": 109,
   "metadata": {},
   "outputs": [],
   "source": [
    "# pd.DataFrame.from_dict(final_ensemble_results).mean()"
   ]
  },
  {
   "cell_type": "code",
   "execution_count": null,
   "metadata": {},
   "outputs": [],
   "source": []
  }
 ],
 "metadata": {
  "kernelspec": {
   "display_name": "Python 3",
   "language": "python",
   "name": "python3"
  },
  "language_info": {
   "codemirror_mode": {
    "name": "ipython",
    "version": 3
   },
   "file_extension": ".py",
   "mimetype": "text/x-python",
   "name": "python",
   "nbconvert_exporter": "python",
   "pygments_lexer": "ipython3",
   "version": "3.7.4"
  }
 },
 "nbformat": 4,
 "nbformat_minor": 4
}
