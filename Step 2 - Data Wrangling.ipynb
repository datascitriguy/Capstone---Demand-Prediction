{
 "cells": [
  {
   "cell_type": "code",
   "execution_count": 1,
   "metadata": {},
   "outputs": [],
   "source": [
    "import pandas as pd\n",
    "import numpy as np\n",
    "import category_encoders as ce\n",
    "\n",
    "import warnings\n",
    "warnings.filterwarnings('ignore')\n",
    "\n",
    "import matplotlib.pyplot as plt\n",
    "%matplotlib inline"
   ]
  },
  {
   "cell_type": "markdown",
   "metadata": {},
   "source": [
    "---\n",
    "#### DATASET 1: SALES dataframe contains the following features:\n",
    "\n",
    "- **WEEK_END_DATE** - week date\n",
    "- **STORE_NUM** - store number\n",
    "- **UPC** - (Universal Product Code) product specific identifier\n",
    "- **BASE_PRICE** - base price of item\n",
    "- **DISPLAY** - product was a part of in-store promotional display\n",
    "- **FEATURE** - product was in in-store circular\n",
    "- **UNITS** - units sold (target)\n",
    "\n",
    "---"
   ]
  },
  {
   "cell_type": "code",
   "execution_count": 2,
   "metadata": {},
   "outputs": [],
   "source": [
    "# Read the sales data.\n",
    "sales = pd.read_csv('data/sales.csv')"
   ]
  },
  {
   "cell_type": "code",
   "execution_count": 3,
   "metadata": {},
   "outputs": [
    {
     "data": {
      "text/html": [
       "<div>\n",
       "<style scoped>\n",
       "    .dataframe tbody tr th:only-of-type {\n",
       "        vertical-align: middle;\n",
       "    }\n",
       "\n",
       "    .dataframe tbody tr th {\n",
       "        vertical-align: top;\n",
       "    }\n",
       "\n",
       "    .dataframe thead th {\n",
       "        text-align: right;\n",
       "    }\n",
       "</style>\n",
       "<table border=\"1\" class=\"dataframe\">\n",
       "  <thead>\n",
       "    <tr style=\"text-align: right;\">\n",
       "      <th></th>\n",
       "      <th>WEEK_END_DATE</th>\n",
       "      <th>STORE_NUM</th>\n",
       "      <th>UPC</th>\n",
       "      <th>PRICE</th>\n",
       "      <th>BASE_PRICE</th>\n",
       "      <th>FEATURE</th>\n",
       "      <th>DISPLAY</th>\n",
       "      <th>UNITS</th>\n",
       "    </tr>\n",
       "  </thead>\n",
       "  <tbody>\n",
       "    <tr>\n",
       "      <td>0</td>\n",
       "      <td>13-Jan-16</td>\n",
       "      <td>367</td>\n",
       "      <td>1111009477</td>\n",
       "      <td>1.39</td>\n",
       "      <td>1.57</td>\n",
       "      <td>0</td>\n",
       "      <td>0</td>\n",
       "      <td>13</td>\n",
       "    </tr>\n",
       "    <tr>\n",
       "      <td>1</td>\n",
       "      <td>13-Jan-16</td>\n",
       "      <td>367</td>\n",
       "      <td>1111009497</td>\n",
       "      <td>1.39</td>\n",
       "      <td>1.39</td>\n",
       "      <td>0</td>\n",
       "      <td>0</td>\n",
       "      <td>20</td>\n",
       "    </tr>\n",
       "    <tr>\n",
       "      <td>2</td>\n",
       "      <td>13-Jan-16</td>\n",
       "      <td>367</td>\n",
       "      <td>1111085319</td>\n",
       "      <td>1.88</td>\n",
       "      <td>1.88</td>\n",
       "      <td>0</td>\n",
       "      <td>0</td>\n",
       "      <td>14</td>\n",
       "    </tr>\n",
       "    <tr>\n",
       "      <td>3</td>\n",
       "      <td>13-Jan-16</td>\n",
       "      <td>367</td>\n",
       "      <td>1111085345</td>\n",
       "      <td>1.88</td>\n",
       "      <td>1.88</td>\n",
       "      <td>0</td>\n",
       "      <td>0</td>\n",
       "      <td>29</td>\n",
       "    </tr>\n",
       "    <tr>\n",
       "      <td>4</td>\n",
       "      <td>13-Jan-16</td>\n",
       "      <td>367</td>\n",
       "      <td>1111085350</td>\n",
       "      <td>1.98</td>\n",
       "      <td>1.98</td>\n",
       "      <td>0</td>\n",
       "      <td>0</td>\n",
       "      <td>35</td>\n",
       "    </tr>\n",
       "  </tbody>\n",
       "</table>\n",
       "</div>"
      ],
      "text/plain": [
       "  WEEK_END_DATE  STORE_NUM         UPC  PRICE  BASE_PRICE  FEATURE  DISPLAY  \\\n",
       "0     13-Jan-16        367  1111009477   1.39        1.57        0        0   \n",
       "1     13-Jan-16        367  1111009497   1.39        1.39        0        0   \n",
       "2     13-Jan-16        367  1111085319   1.88        1.88        0        0   \n",
       "3     13-Jan-16        367  1111085345   1.88        1.88        0        0   \n",
       "4     13-Jan-16        367  1111085350   1.98        1.98        0        0   \n",
       "\n",
       "   UNITS  \n",
       "0     13  \n",
       "1     20  \n",
       "2     14  \n",
       "3     29  \n",
       "4     35  "
      ]
     },
     "execution_count": 3,
     "metadata": {},
     "output_type": "execute_result"
    }
   ],
   "source": [
    "sales.head()"
   ]
  },
  {
   "cell_type": "markdown",
   "metadata": {},
   "source": [
    "---\n",
    "\n",
    "####  `SALES`  dataframe has the following categorical features:\n",
    "\n",
    "    - STORE_NUM\n",
    "    - UPC\n",
    "    - FEATURE\n",
    "    - DISPLAY\n",
    "    \n",
    "---"
   ]
  },
  {
   "cell_type": "code",
   "execution_count": 4,
   "metadata": {},
   "outputs": [
    {
     "data": {
      "text/plain": [
       "STORE_NUM    0\n",
       "UPC          0\n",
       "FEATURE      0\n",
       "DISPLAY      0\n",
       "dtype: int64"
      ]
     },
     "execution_count": 4,
     "metadata": {},
     "output_type": "execute_result"
    }
   ],
   "source": [
    "# Check for the null values in the categorical features.\n",
    "sales[['STORE_NUM', 'UPC', 'FEATURE', 'DISPLAY']].isna().sum()"
   ]
  },
  {
   "cell_type": "markdown",
   "metadata": {},
   "source": [
    "***No Null Values***\n",
    "\n",
    "---\n",
    " -  `STORE_NUM` - No changes required as it is a key and will be used to merge tables later.\n",
    " -  `UPC      ` - No changes required as it is a key and will be used to merge tables later.\n",
    " -  `FEATURE  ` - No Changes Required. Values already coded as '0' or '1'.\n",
    " -  `DISPLAY  ` - No Changes Required. Values already coded as '0' or '1'.\n",
    " ---"
   ]
  },
  {
   "cell_type": "markdown",
   "metadata": {},
   "source": [
    "---\n",
    "\n",
    "### `DATASET 2: PRODUCTS` contains the details about the products\n",
    "\n",
    "- **UPC** - (Universal Product Code) product specific identifier\n",
    "- **DESCRIPTION**\t- product description\n",
    "- **MANUFACTURER** - product\tmanufacturer\n",
    "- **CATEGORY** - category of product\n",
    "- **SUB_CATEGORY** - sub-category of product\n",
    "- **PRODUCT_SIZE** - package size or quantity of product\n",
    "\n",
    "---"
   ]
  },
  {
   "cell_type": "code",
   "execution_count": 5,
   "metadata": {},
   "outputs": [],
   "source": [
    "# Read the product data.\n",
    "products = pd.read_csv('data/product_data.csv')"
   ]
  },
  {
   "cell_type": "code",
   "execution_count": 6,
   "metadata": {},
   "outputs": [
    {
     "data": {
      "text/html": [
       "<div>\n",
       "<style scoped>\n",
       "    .dataframe tbody tr th:only-of-type {\n",
       "        vertical-align: middle;\n",
       "    }\n",
       "\n",
       "    .dataframe tbody tr th {\n",
       "        vertical-align: top;\n",
       "    }\n",
       "\n",
       "    .dataframe thead th {\n",
       "        text-align: right;\n",
       "    }\n",
       "</style>\n",
       "<table border=\"1\" class=\"dataframe\">\n",
       "  <thead>\n",
       "    <tr style=\"text-align: right;\">\n",
       "      <th></th>\n",
       "      <th>UPC</th>\n",
       "      <th>DESCRIPTION</th>\n",
       "      <th>MANUFACTURER</th>\n",
       "      <th>CATEGORY</th>\n",
       "      <th>SUB_CATEGORY</th>\n",
       "      <th>PRODUCT_SIZE</th>\n",
       "    </tr>\n",
       "  </thead>\n",
       "  <tbody>\n",
       "    <tr>\n",
       "      <td>0</td>\n",
       "      <td>1111009477</td>\n",
       "      <td>PL MINI TWIST PRETZELS</td>\n",
       "      <td>PRIVATE LABEL</td>\n",
       "      <td>BAG SNACKS</td>\n",
       "      <td>PRETZELS</td>\n",
       "      <td>15 OZ</td>\n",
       "    </tr>\n",
       "    <tr>\n",
       "      <td>1</td>\n",
       "      <td>1111009497</td>\n",
       "      <td>PL PRETZEL STICKS</td>\n",
       "      <td>PRIVATE LABEL</td>\n",
       "      <td>BAG SNACKS</td>\n",
       "      <td>PRETZELS</td>\n",
       "      <td>15 OZ</td>\n",
       "    </tr>\n",
       "    <tr>\n",
       "      <td>2</td>\n",
       "      <td>1111009507</td>\n",
       "      <td>PL TWIST PRETZELS</td>\n",
       "      <td>PRIVATE LABEL</td>\n",
       "      <td>BAG SNACKS</td>\n",
       "      <td>PRETZELS</td>\n",
       "      <td>15 OZ</td>\n",
       "    </tr>\n",
       "    <tr>\n",
       "      <td>3</td>\n",
       "      <td>1111038078</td>\n",
       "      <td>PL BL MINT ANTSPTC RINSE</td>\n",
       "      <td>PRIVATE LABEL</td>\n",
       "      <td>ORAL HYGIENE PRODUCTS</td>\n",
       "      <td>MOUTHWASHES (ANTISEPTIC)</td>\n",
       "      <td>500 ML</td>\n",
       "    </tr>\n",
       "    <tr>\n",
       "      <td>4</td>\n",
       "      <td>1111038080</td>\n",
       "      <td>PL ANTSPTC SPG MNT MTHWS</td>\n",
       "      <td>PRIVATE LABEL</td>\n",
       "      <td>ORAL HYGIENE PRODUCTS</td>\n",
       "      <td>MOUTHWASHES (ANTISEPTIC)</td>\n",
       "      <td>500 ML</td>\n",
       "    </tr>\n",
       "  </tbody>\n",
       "</table>\n",
       "</div>"
      ],
      "text/plain": [
       "          UPC               DESCRIPTION   MANUFACTURER               CATEGORY  \\\n",
       "0  1111009477    PL MINI TWIST PRETZELS  PRIVATE LABEL             BAG SNACKS   \n",
       "1  1111009497         PL PRETZEL STICKS  PRIVATE LABEL             BAG SNACKS   \n",
       "2  1111009507         PL TWIST PRETZELS  PRIVATE LABEL             BAG SNACKS   \n",
       "3  1111038078  PL BL MINT ANTSPTC RINSE  PRIVATE LABEL  ORAL HYGIENE PRODUCTS   \n",
       "4  1111038080  PL ANTSPTC SPG MNT MTHWS  PRIVATE LABEL  ORAL HYGIENE PRODUCTS   \n",
       "\n",
       "               SUB_CATEGORY PRODUCT_SIZE  \n",
       "0                  PRETZELS        15 OZ  \n",
       "1                  PRETZELS        15 OZ  \n",
       "2                  PRETZELS        15 OZ  \n",
       "3  MOUTHWASHES (ANTISEPTIC)       500 ML  \n",
       "4  MOUTHWASHES (ANTISEPTIC)       500 ML  "
      ]
     },
     "execution_count": 6,
     "metadata": {},
     "output_type": "execute_result"
    }
   ],
   "source": [
    "products.head()"
   ]
  },
  {
   "cell_type": "markdown",
   "metadata": {},
   "source": [
    "---\n",
    "\n",
    "### `PRODUCTS' dataframe has the following categorical features:\n",
    "\n",
    "    - UPC\n",
    "    - DESCRIPTION\n",
    "    - MANUFACTURER\n",
    "    - CATEGORY\n",
    "    - SUB_CATEGORY\n",
    "    - PRODUCT_SIZE\n",
    "    \n",
    "---"
   ]
  },
  {
   "cell_type": "code",
   "execution_count": 7,
   "metadata": {},
   "outputs": [
    {
     "data": {
      "text/plain": [
       "(30, 6)"
      ]
     },
     "execution_count": 7,
     "metadata": {},
     "output_type": "execute_result"
    }
   ],
   "source": [
    "# Shape of the data.\n",
    "products.shape"
   ]
  },
  {
   "cell_type": "code",
   "execution_count": 8,
   "metadata": {},
   "outputs": [
    {
     "data": {
      "text/plain": [
       "UPC             0\n",
       "DESCRIPTION     0\n",
       "MANUFACTURER    0\n",
       "CATEGORY        0\n",
       "SUB_CATEGORY    0\n",
       "PRODUCT_SIZE    0\n",
       "dtype: int64"
      ]
     },
     "execution_count": 8,
     "metadata": {},
     "output_type": "execute_result"
    }
   ],
   "source": [
    "# Check for the null values in the categorical features.\n",
    "products[['UPC', 'DESCRIPTION', 'MANUFACTURER', 'CATEGORY', 'SUB_CATEGORY', 'PRODUCT_SIZE']].isna().sum()"
   ]
  },
  {
   "cell_type": "markdown",
   "metadata": {},
   "source": [
    "***No Null Values***"
   ]
  },
  {
   "cell_type": "code",
   "execution_count": 9,
   "metadata": {},
   "outputs": [
    {
     "data": {
      "text/plain": [
       "29"
      ]
     },
     "execution_count": 9,
     "metadata": {},
     "output_type": "execute_result"
    }
   ],
   "source": [
    "# Number of unique description.\n",
    "products.DESCRIPTION.nunique()"
   ]
  },
  {
   "cell_type": "code",
   "execution_count": 10,
   "metadata": {},
   "outputs": [
    {
     "data": {
      "text/plain": [
       "9"
      ]
     },
     "execution_count": 10,
     "metadata": {},
     "output_type": "execute_result"
    }
   ],
   "source": [
    "# Number of unique manufacturer.\n",
    "products.MANUFACTURER.nunique()"
   ]
  },
  {
   "cell_type": "code",
   "execution_count": 11,
   "metadata": {},
   "outputs": [
    {
     "data": {
      "text/plain": [
       "4"
      ]
     },
     "execution_count": 11,
     "metadata": {},
     "output_type": "execute_result"
    }
   ],
   "source": [
    "# Number of unique categories.\n",
    "products.CATEGORY.nunique()"
   ]
  },
  {
   "cell_type": "code",
   "execution_count": 12,
   "metadata": {},
   "outputs": [
    {
     "data": {
      "text/plain": [
       "7"
      ]
     },
     "execution_count": 12,
     "metadata": {},
     "output_type": "execute_result"
    }
   ],
   "source": [
    "# Number of unique sub categories.\n",
    "products.SUB_CATEGORY.nunique()"
   ]
  },
  {
   "cell_type": "code",
   "execution_count": 13,
   "metadata": {},
   "outputs": [
    {
     "data": {
      "text/plain": [
       "16"
      ]
     },
     "execution_count": 13,
     "metadata": {},
     "output_type": "execute_result"
    }
   ],
   "source": [
    "# Number of unique product sizes.\n",
    "products.PRODUCT_SIZE.nunique()"
   ]
  },
  {
   "cell_type": "markdown",
   "metadata": {},
   "source": [
    "---\n",
    " - `DESCRIPTION` - In the description, we have category, subcategory and size of the product and these are already present in the other features as well. So, we will drop this feature as it will not add much value to the model.\n",
    " - `MANUFACTURER`, `CATEGORY`, `SUB_CATEGORY`- As, there is no order in the given categories, so we will One Hot Encode this features.\n",
    " - `PRODUCT_SIZE` - The product size units are different for different categories of products. So, here for each category we will do the binning based on different sizes.\n",
    "---"
   ]
  },
  {
   "cell_type": "code",
   "execution_count": 14,
   "metadata": {},
   "outputs": [],
   "source": [
    "# Drop the DESCRIPTION FEATURE.\n",
    "products = products.drop(columns= ['DESCRIPTION'])"
   ]
  },
  {
   "cell_type": "code",
   "execution_count": 15,
   "metadata": {},
   "outputs": [
    {
     "data": {
      "text/html": [
       "<div>\n",
       "<style scoped>\n",
       "    .dataframe tbody tr th:only-of-type {\n",
       "        vertical-align: middle;\n",
       "    }\n",
       "\n",
       "    .dataframe tbody tr th {\n",
       "        vertical-align: top;\n",
       "    }\n",
       "\n",
       "    .dataframe thead th {\n",
       "        text-align: right;\n",
       "    }\n",
       "</style>\n",
       "<table border=\"1\" class=\"dataframe\">\n",
       "  <thead>\n",
       "    <tr style=\"text-align: right;\">\n",
       "      <th></th>\n",
       "      <th>UPC</th>\n",
       "      <th>MANUFACTURER</th>\n",
       "      <th>CATEGORY</th>\n",
       "      <th>SUB_CATEGORY</th>\n",
       "      <th>PRODUCT_SIZE</th>\n",
       "    </tr>\n",
       "  </thead>\n",
       "  <tbody>\n",
       "    <tr>\n",
       "      <td>0</td>\n",
       "      <td>1111009477</td>\n",
       "      <td>PRIVATE LABEL</td>\n",
       "      <td>BAG SNACKS</td>\n",
       "      <td>PRETZELS</td>\n",
       "      <td>15 OZ</td>\n",
       "    </tr>\n",
       "    <tr>\n",
       "      <td>1</td>\n",
       "      <td>1111009497</td>\n",
       "      <td>PRIVATE LABEL</td>\n",
       "      <td>BAG SNACKS</td>\n",
       "      <td>PRETZELS</td>\n",
       "      <td>15 OZ</td>\n",
       "    </tr>\n",
       "    <tr>\n",
       "      <td>2</td>\n",
       "      <td>1111009507</td>\n",
       "      <td>PRIVATE LABEL</td>\n",
       "      <td>BAG SNACKS</td>\n",
       "      <td>PRETZELS</td>\n",
       "      <td>15 OZ</td>\n",
       "    </tr>\n",
       "    <tr>\n",
       "      <td>3</td>\n",
       "      <td>1111038078</td>\n",
       "      <td>PRIVATE LABEL</td>\n",
       "      <td>ORAL HYGIENE PRODUCTS</td>\n",
       "      <td>MOUTHWASHES (ANTISEPTIC)</td>\n",
       "      <td>500 ML</td>\n",
       "    </tr>\n",
       "    <tr>\n",
       "      <td>4</td>\n",
       "      <td>1111038080</td>\n",
       "      <td>PRIVATE LABEL</td>\n",
       "      <td>ORAL HYGIENE PRODUCTS</td>\n",
       "      <td>MOUTHWASHES (ANTISEPTIC)</td>\n",
       "      <td>500 ML</td>\n",
       "    </tr>\n",
       "    <tr>\n",
       "      <td>5</td>\n",
       "      <td>1111085319</td>\n",
       "      <td>PRIVATE LABEL</td>\n",
       "      <td>COLD CEREAL</td>\n",
       "      <td>ALL FAMILY CEREAL</td>\n",
       "      <td>12.25 OZ</td>\n",
       "    </tr>\n",
       "    <tr>\n",
       "      <td>6</td>\n",
       "      <td>1111085345</td>\n",
       "      <td>PRIVATE LABEL</td>\n",
       "      <td>COLD CEREAL</td>\n",
       "      <td>ADULT CEREAL</td>\n",
       "      <td>20 OZ</td>\n",
       "    </tr>\n",
       "    <tr>\n",
       "      <td>7</td>\n",
       "      <td>1111085350</td>\n",
       "      <td>PRIVATE LABEL</td>\n",
       "      <td>COLD CEREAL</td>\n",
       "      <td>ALL FAMILY CEREAL</td>\n",
       "      <td>18 OZ</td>\n",
       "    </tr>\n",
       "    <tr>\n",
       "      <td>8</td>\n",
       "      <td>1111087395</td>\n",
       "      <td>PRIVATE LABEL</td>\n",
       "      <td>FROZEN PIZZA</td>\n",
       "      <td>PIZZA/PREMIUM</td>\n",
       "      <td>32.7 OZ</td>\n",
       "    </tr>\n",
       "    <tr>\n",
       "      <td>9</td>\n",
       "      <td>1111087396</td>\n",
       "      <td>PRIVATE LABEL</td>\n",
       "      <td>FROZEN PIZZA</td>\n",
       "      <td>PIZZA/PREMIUM</td>\n",
       "      <td>30.5 OZ</td>\n",
       "    </tr>\n",
       "    <tr>\n",
       "      <td>10</td>\n",
       "      <td>1111087398</td>\n",
       "      <td>PRIVATE LABEL</td>\n",
       "      <td>FROZEN PIZZA</td>\n",
       "      <td>PIZZA/PREMIUM</td>\n",
       "      <td>29.6 OZ</td>\n",
       "    </tr>\n",
       "    <tr>\n",
       "      <td>11</td>\n",
       "      <td>1600027527</td>\n",
       "      <td>GENERAL MI</td>\n",
       "      <td>COLD CEREAL</td>\n",
       "      <td>ALL FAMILY CEREAL</td>\n",
       "      <td>12.25 OZ</td>\n",
       "    </tr>\n",
       "    <tr>\n",
       "      <td>12</td>\n",
       "      <td>1600027528</td>\n",
       "      <td>GENERAL MI</td>\n",
       "      <td>COLD CEREAL</td>\n",
       "      <td>ALL FAMILY CEREAL</td>\n",
       "      <td>18 OZ</td>\n",
       "    </tr>\n",
       "    <tr>\n",
       "      <td>13</td>\n",
       "      <td>1600027564</td>\n",
       "      <td>GENERAL MI</td>\n",
       "      <td>COLD CEREAL</td>\n",
       "      <td>ALL FAMILY CEREAL</td>\n",
       "      <td>12 OZ</td>\n",
       "    </tr>\n",
       "    <tr>\n",
       "      <td>14</td>\n",
       "      <td>2840004768</td>\n",
       "      <td>FRITO LAY</td>\n",
       "      <td>BAG SNACKS</td>\n",
       "      <td>PRETZELS</td>\n",
       "      <td>16 OZ</td>\n",
       "    </tr>\n",
       "    <tr>\n",
       "      <td>15</td>\n",
       "      <td>2840004770</td>\n",
       "      <td>FRITO LAY</td>\n",
       "      <td>BAG SNACKS</td>\n",
       "      <td>PRETZELS</td>\n",
       "      <td>16 OZ</td>\n",
       "    </tr>\n",
       "    <tr>\n",
       "      <td>16</td>\n",
       "      <td>3700031613</td>\n",
       "      <td>P &amp; G</td>\n",
       "      <td>ORAL HYGIENE PRODUCTS</td>\n",
       "      <td>MOUTHWASH/RINSES AND SPRAYS</td>\n",
       "      <td>1 LT</td>\n",
       "    </tr>\n",
       "    <tr>\n",
       "      <td>17</td>\n",
       "      <td>3700044982</td>\n",
       "      <td>P &amp; G</td>\n",
       "      <td>ORAL HYGIENE PRODUCTS</td>\n",
       "      <td>MOUTHWASHES (ANTISEPTIC)</td>\n",
       "      <td>1 LT</td>\n",
       "    </tr>\n",
       "    <tr>\n",
       "      <td>18</td>\n",
       "      <td>3800031829</td>\n",
       "      <td>KELLOGG</td>\n",
       "      <td>COLD CEREAL</td>\n",
       "      <td>ALL FAMILY CEREAL</td>\n",
       "      <td>18 OZ</td>\n",
       "    </tr>\n",
       "    <tr>\n",
       "      <td>19</td>\n",
       "      <td>3800031838</td>\n",
       "      <td>KELLOGG</td>\n",
       "      <td>COLD CEREAL</td>\n",
       "      <td>KIDS CEREAL</td>\n",
       "      <td>15 OZ</td>\n",
       "    </tr>\n",
       "    <tr>\n",
       "      <td>20</td>\n",
       "      <td>3800039118</td>\n",
       "      <td>KELLOGG</td>\n",
       "      <td>COLD CEREAL</td>\n",
       "      <td>KIDS CEREAL</td>\n",
       "      <td>12.2 OZ</td>\n",
       "    </tr>\n",
       "    <tr>\n",
       "      <td>21</td>\n",
       "      <td>7192100336</td>\n",
       "      <td>TOMBSTONE</td>\n",
       "      <td>FROZEN PIZZA</td>\n",
       "      <td>PIZZA/PREMIUM</td>\n",
       "      <td>29.8 OZ</td>\n",
       "    </tr>\n",
       "    <tr>\n",
       "      <td>22</td>\n",
       "      <td>7192100337</td>\n",
       "      <td>TOMBSTONE</td>\n",
       "      <td>FROZEN PIZZA</td>\n",
       "      <td>PIZZA/PREMIUM</td>\n",
       "      <td>32.7 OZ</td>\n",
       "    </tr>\n",
       "    <tr>\n",
       "      <td>23</td>\n",
       "      <td>7192100339</td>\n",
       "      <td>TOMBSTONE</td>\n",
       "      <td>FROZEN PIZZA</td>\n",
       "      <td>PIZZA/PREMIUM</td>\n",
       "      <td>28.3 OZ</td>\n",
       "    </tr>\n",
       "    <tr>\n",
       "      <td>24</td>\n",
       "      <td>7218063052</td>\n",
       "      <td>TONYS</td>\n",
       "      <td>FROZEN PIZZA</td>\n",
       "      <td>PIZZA/PREMIUM</td>\n",
       "      <td>22.7 OZ</td>\n",
       "    </tr>\n",
       "    <tr>\n",
       "      <td>25</td>\n",
       "      <td>7797502248</td>\n",
       "      <td>SNYDER S</td>\n",
       "      <td>BAG SNACKS</td>\n",
       "      <td>PRETZELS</td>\n",
       "      <td>10 OZ</td>\n",
       "    </tr>\n",
       "    <tr>\n",
       "      <td>26</td>\n",
       "      <td>7797508004</td>\n",
       "      <td>SNYDER S</td>\n",
       "      <td>BAG SNACKS</td>\n",
       "      <td>PRETZELS</td>\n",
       "      <td>16 OZ</td>\n",
       "    </tr>\n",
       "    <tr>\n",
       "      <td>27</td>\n",
       "      <td>7797508006</td>\n",
       "      <td>SNYDER S</td>\n",
       "      <td>BAG SNACKS</td>\n",
       "      <td>PRETZELS</td>\n",
       "      <td>16 OZ</td>\n",
       "    </tr>\n",
       "    <tr>\n",
       "      <td>28</td>\n",
       "      <td>31254742735</td>\n",
       "      <td>WARNER</td>\n",
       "      <td>ORAL HYGIENE PRODUCTS</td>\n",
       "      <td>MOUTHWASHES (ANTISEPTIC)</td>\n",
       "      <td>1 LT</td>\n",
       "    </tr>\n",
       "    <tr>\n",
       "      <td>29</td>\n",
       "      <td>31254742835</td>\n",
       "      <td>WARNER</td>\n",
       "      <td>ORAL HYGIENE PRODUCTS</td>\n",
       "      <td>MOUTHWASHES (ANTISEPTIC)</td>\n",
       "      <td>1 LT</td>\n",
       "    </tr>\n",
       "  </tbody>\n",
       "</table>\n",
       "</div>"
      ],
      "text/plain": [
       "            UPC   MANUFACTURER               CATEGORY  \\\n",
       "0    1111009477  PRIVATE LABEL             BAG SNACKS   \n",
       "1    1111009497  PRIVATE LABEL             BAG SNACKS   \n",
       "2    1111009507  PRIVATE LABEL             BAG SNACKS   \n",
       "3    1111038078  PRIVATE LABEL  ORAL HYGIENE PRODUCTS   \n",
       "4    1111038080  PRIVATE LABEL  ORAL HYGIENE PRODUCTS   \n",
       "5    1111085319  PRIVATE LABEL            COLD CEREAL   \n",
       "6    1111085345  PRIVATE LABEL            COLD CEREAL   \n",
       "7    1111085350  PRIVATE LABEL            COLD CEREAL   \n",
       "8    1111087395  PRIVATE LABEL           FROZEN PIZZA   \n",
       "9    1111087396  PRIVATE LABEL           FROZEN PIZZA   \n",
       "10   1111087398  PRIVATE LABEL           FROZEN PIZZA   \n",
       "11   1600027527     GENERAL MI            COLD CEREAL   \n",
       "12   1600027528     GENERAL MI            COLD CEREAL   \n",
       "13   1600027564     GENERAL MI            COLD CEREAL   \n",
       "14   2840004768      FRITO LAY             BAG SNACKS   \n",
       "15   2840004770      FRITO LAY             BAG SNACKS   \n",
       "16   3700031613          P & G  ORAL HYGIENE PRODUCTS   \n",
       "17   3700044982          P & G  ORAL HYGIENE PRODUCTS   \n",
       "18   3800031829        KELLOGG            COLD CEREAL   \n",
       "19   3800031838        KELLOGG            COLD CEREAL   \n",
       "20   3800039118        KELLOGG            COLD CEREAL   \n",
       "21   7192100336      TOMBSTONE           FROZEN PIZZA   \n",
       "22   7192100337      TOMBSTONE           FROZEN PIZZA   \n",
       "23   7192100339      TOMBSTONE           FROZEN PIZZA   \n",
       "24   7218063052          TONYS           FROZEN PIZZA   \n",
       "25   7797502248       SNYDER S             BAG SNACKS   \n",
       "26   7797508004       SNYDER S             BAG SNACKS   \n",
       "27   7797508006       SNYDER S             BAG SNACKS   \n",
       "28  31254742735         WARNER  ORAL HYGIENE PRODUCTS   \n",
       "29  31254742835         WARNER  ORAL HYGIENE PRODUCTS   \n",
       "\n",
       "                   SUB_CATEGORY PRODUCT_SIZE  \n",
       "0                      PRETZELS        15 OZ  \n",
       "1                      PRETZELS        15 OZ  \n",
       "2                      PRETZELS        15 OZ  \n",
       "3      MOUTHWASHES (ANTISEPTIC)       500 ML  \n",
       "4      MOUTHWASHES (ANTISEPTIC)       500 ML  \n",
       "5             ALL FAMILY CEREAL     12.25 OZ  \n",
       "6                  ADULT CEREAL        20 OZ  \n",
       "7             ALL FAMILY CEREAL        18 OZ  \n",
       "8                 PIZZA/PREMIUM      32.7 OZ  \n",
       "9                 PIZZA/PREMIUM      30.5 OZ  \n",
       "10                PIZZA/PREMIUM      29.6 OZ  \n",
       "11            ALL FAMILY CEREAL     12.25 OZ  \n",
       "12            ALL FAMILY CEREAL        18 OZ  \n",
       "13            ALL FAMILY CEREAL        12 OZ  \n",
       "14                     PRETZELS        16 OZ  \n",
       "15                     PRETZELS        16 OZ  \n",
       "16  MOUTHWASH/RINSES AND SPRAYS         1 LT  \n",
       "17     MOUTHWASHES (ANTISEPTIC)         1 LT  \n",
       "18            ALL FAMILY CEREAL        18 OZ  \n",
       "19                  KIDS CEREAL        15 OZ  \n",
       "20                  KIDS CEREAL      12.2 OZ  \n",
       "21                PIZZA/PREMIUM      29.8 OZ  \n",
       "22                PIZZA/PREMIUM      32.7 OZ  \n",
       "23                PIZZA/PREMIUM      28.3 OZ  \n",
       "24                PIZZA/PREMIUM      22.7 OZ  \n",
       "25                     PRETZELS        10 OZ  \n",
       "26                     PRETZELS        16 OZ  \n",
       "27                     PRETZELS        16 OZ  \n",
       "28     MOUTHWASHES (ANTISEPTIC)         1 LT  \n",
       "29     MOUTHWASHES (ANTISEPTIC)         1 LT  "
      ]
     },
     "execution_count": 15,
     "metadata": {},
     "output_type": "execute_result"
    }
   ],
   "source": [
    "products"
   ]
  },
  {
   "cell_type": "code",
   "execution_count": 16,
   "metadata": {},
   "outputs": [],
   "source": [
    "# Remove the units from the product size. Keep only the values.\n",
    "products['PRODUCT_SIZE'] = products.PRODUCT_SIZE.apply(lambda x: x.split()[0])"
   ]
  },
  {
   "cell_type": "code",
   "execution_count": 17,
   "metadata": {},
   "outputs": [],
   "source": [
    "# Change data type of product size from string to float.\n",
    "products.PRODUCT_SIZE = products.PRODUCT_SIZE.astype(float)"
   ]
  },
  {
   "cell_type": "code",
   "execution_count": 18,
   "metadata": {},
   "outputs": [
    {
     "data": {
      "text/plain": [
       "CATEGORY\n",
       "BAG SNACKS                                  [15.0, 16.0, 10.0]\n",
       "COLD CEREAL              [12.25, 20.0, 18.0, 12.0, 15.0, 12.2]\n",
       "FROZEN PIZZA              [32.7, 30.5, 29.6, 29.8, 28.3, 22.7]\n",
       "ORAL HYGIENE PRODUCTS                             [500.0, 1.0]\n",
       "Name: PRODUCT_SIZE, dtype: object"
      ]
     },
     "execution_count": 18,
     "metadata": {},
     "output_type": "execute_result"
    }
   ],
   "source": [
    "# Examine unique product size values for each category.\n",
    "products.groupby(['CATEGORY'])['PRODUCT_SIZE'].unique()"
   ]
  },
  {
   "cell_type": "code",
   "execution_count": 19,
   "metadata": {},
   "outputs": [],
   "source": [
    "# Define 3 bins for category type = \"COLD CEREAL\".\n",
    "products.loc[products.CATEGORY == 'COLD CEREAL', 'PRODUCT_SIZE'] = pd.cut(products.PRODUCT_SIZE,\n",
    "                                                                                 bins=[10,13,16,21],\n",
    "                                                                                 labels=[1,2,3])"
   ]
  },
  {
   "cell_type": "code",
   "execution_count": 20,
   "metadata": {},
   "outputs": [],
   "source": [
    "# Define 2 bins for category type = \"ORAL HYGIENE PRODUCTS\".\n",
    "products.loc[products.CATEGORY == 'ORAL HYGIENE PRODUCTS', 'PRODUCT_SIZE'] = pd.cut(products.PRODUCT_SIZE,\n",
    "                                                                                            bins=[0,501,1001],\n",
    "                                                                                            labels=[1,2])"
   ]
  },
  {
   "cell_type": "code",
   "execution_count": 21,
   "metadata": {},
   "outputs": [],
   "source": [
    "# Define 3 bins for category type = \"FROZEN PIZZA\".\n",
    "products.loc[products.CATEGORY == 'FROZEN PIZZA', 'PRODUCT_SIZE'] = pd.cut(products.PRODUCT_SIZE,\n",
    "                                                                                   bins=[20,25,30,35],\n",
    "                                                                                   labels=[1,2,3])"
   ]
  },
  {
   "cell_type": "code",
   "execution_count": 22,
   "metadata": {},
   "outputs": [],
   "source": [
    "# Define 2 bins for category type = \"BAG SNACKS\".\n",
    "products.loc[products.CATEGORY == 'BAG SNACKS', 'PRODUCT_SIZE'] = pd.cut(products.PRODUCT_SIZE,\n",
    "                                                                                 bins=[9,14,20],\n",
    "                                                                                 labels=[1,2])"
   ]
  },
  {
   "cell_type": "code",
   "execution_count": 23,
   "metadata": {},
   "outputs": [
    {
     "data": {
      "text/plain": [
       "1    12\n",
       "2    11\n",
       "3     7\n",
       "Name: PRODUCT_SIZE, dtype: int64"
      ]
     },
     "execution_count": 23,
     "metadata": {},
     "output_type": "execute_result"
    }
   ],
   "source": [
    "# Value counts of PRODUCT SIZE.\n",
    "products.PRODUCT_SIZE.value_counts()"
   ]
  },
  {
   "cell_type": "code",
   "execution_count": 24,
   "metadata": {},
   "outputs": [],
   "source": [
    "# One Hot Encode features.\n",
    "OHE_p = ce.OneHotEncoder(cols= ['MANUFACTURER', 'CATEGORY', 'SUB_CATEGORY'])"
   ]
  },
  {
   "cell_type": "code",
   "execution_count": 25,
   "metadata": {},
   "outputs": [],
   "source": [
    "# Transform the data.\n",
    "products = OHE_p.fit_transform(products)"
   ]
  },
  {
   "cell_type": "code",
   "execution_count": 26,
   "metadata": {},
   "outputs": [
    {
     "data": {
      "text/html": [
       "<div>\n",
       "<style scoped>\n",
       "    .dataframe tbody tr th:only-of-type {\n",
       "        vertical-align: middle;\n",
       "    }\n",
       "\n",
       "    .dataframe tbody tr th {\n",
       "        vertical-align: top;\n",
       "    }\n",
       "\n",
       "    .dataframe thead th {\n",
       "        text-align: right;\n",
       "    }\n",
       "</style>\n",
       "<table border=\"1\" class=\"dataframe\">\n",
       "  <thead>\n",
       "    <tr style=\"text-align: right;\">\n",
       "      <th></th>\n",
       "      <th>UPC</th>\n",
       "      <th>MANUFACTURER_1</th>\n",
       "      <th>MANUFACTURER_2</th>\n",
       "      <th>MANUFACTURER_3</th>\n",
       "      <th>MANUFACTURER_4</th>\n",
       "      <th>MANUFACTURER_5</th>\n",
       "      <th>MANUFACTURER_6</th>\n",
       "      <th>MANUFACTURER_7</th>\n",
       "      <th>MANUFACTURER_8</th>\n",
       "      <th>MANUFACTURER_9</th>\n",
       "      <th>...</th>\n",
       "      <th>CATEGORY_3</th>\n",
       "      <th>CATEGORY_4</th>\n",
       "      <th>SUB_CATEGORY_1</th>\n",
       "      <th>SUB_CATEGORY_2</th>\n",
       "      <th>SUB_CATEGORY_3</th>\n",
       "      <th>SUB_CATEGORY_4</th>\n",
       "      <th>SUB_CATEGORY_5</th>\n",
       "      <th>SUB_CATEGORY_6</th>\n",
       "      <th>SUB_CATEGORY_7</th>\n",
       "      <th>PRODUCT_SIZE</th>\n",
       "    </tr>\n",
       "  </thead>\n",
       "  <tbody>\n",
       "    <tr>\n",
       "      <td>0</td>\n",
       "      <td>1111009477</td>\n",
       "      <td>1</td>\n",
       "      <td>0</td>\n",
       "      <td>0</td>\n",
       "      <td>0</td>\n",
       "      <td>0</td>\n",
       "      <td>0</td>\n",
       "      <td>0</td>\n",
       "      <td>0</td>\n",
       "      <td>0</td>\n",
       "      <td>...</td>\n",
       "      <td>0</td>\n",
       "      <td>0</td>\n",
       "      <td>1</td>\n",
       "      <td>0</td>\n",
       "      <td>0</td>\n",
       "      <td>0</td>\n",
       "      <td>0</td>\n",
       "      <td>0</td>\n",
       "      <td>0</td>\n",
       "      <td>2</td>\n",
       "    </tr>\n",
       "    <tr>\n",
       "      <td>1</td>\n",
       "      <td>1111009497</td>\n",
       "      <td>1</td>\n",
       "      <td>0</td>\n",
       "      <td>0</td>\n",
       "      <td>0</td>\n",
       "      <td>0</td>\n",
       "      <td>0</td>\n",
       "      <td>0</td>\n",
       "      <td>0</td>\n",
       "      <td>0</td>\n",
       "      <td>...</td>\n",
       "      <td>0</td>\n",
       "      <td>0</td>\n",
       "      <td>1</td>\n",
       "      <td>0</td>\n",
       "      <td>0</td>\n",
       "      <td>0</td>\n",
       "      <td>0</td>\n",
       "      <td>0</td>\n",
       "      <td>0</td>\n",
       "      <td>2</td>\n",
       "    </tr>\n",
       "    <tr>\n",
       "      <td>2</td>\n",
       "      <td>1111009507</td>\n",
       "      <td>1</td>\n",
       "      <td>0</td>\n",
       "      <td>0</td>\n",
       "      <td>0</td>\n",
       "      <td>0</td>\n",
       "      <td>0</td>\n",
       "      <td>0</td>\n",
       "      <td>0</td>\n",
       "      <td>0</td>\n",
       "      <td>...</td>\n",
       "      <td>0</td>\n",
       "      <td>0</td>\n",
       "      <td>1</td>\n",
       "      <td>0</td>\n",
       "      <td>0</td>\n",
       "      <td>0</td>\n",
       "      <td>0</td>\n",
       "      <td>0</td>\n",
       "      <td>0</td>\n",
       "      <td>2</td>\n",
       "    </tr>\n",
       "    <tr>\n",
       "      <td>3</td>\n",
       "      <td>1111038078</td>\n",
       "      <td>1</td>\n",
       "      <td>0</td>\n",
       "      <td>0</td>\n",
       "      <td>0</td>\n",
       "      <td>0</td>\n",
       "      <td>0</td>\n",
       "      <td>0</td>\n",
       "      <td>0</td>\n",
       "      <td>0</td>\n",
       "      <td>...</td>\n",
       "      <td>0</td>\n",
       "      <td>0</td>\n",
       "      <td>0</td>\n",
       "      <td>1</td>\n",
       "      <td>0</td>\n",
       "      <td>0</td>\n",
       "      <td>0</td>\n",
       "      <td>0</td>\n",
       "      <td>0</td>\n",
       "      <td>1</td>\n",
       "    </tr>\n",
       "    <tr>\n",
       "      <td>4</td>\n",
       "      <td>1111038080</td>\n",
       "      <td>1</td>\n",
       "      <td>0</td>\n",
       "      <td>0</td>\n",
       "      <td>0</td>\n",
       "      <td>0</td>\n",
       "      <td>0</td>\n",
       "      <td>0</td>\n",
       "      <td>0</td>\n",
       "      <td>0</td>\n",
       "      <td>...</td>\n",
       "      <td>0</td>\n",
       "      <td>0</td>\n",
       "      <td>0</td>\n",
       "      <td>1</td>\n",
       "      <td>0</td>\n",
       "      <td>0</td>\n",
       "      <td>0</td>\n",
       "      <td>0</td>\n",
       "      <td>0</td>\n",
       "      <td>1</td>\n",
       "    </tr>\n",
       "  </tbody>\n",
       "</table>\n",
       "<p>5 rows × 22 columns</p>\n",
       "</div>"
      ],
      "text/plain": [
       "          UPC  MANUFACTURER_1  MANUFACTURER_2  MANUFACTURER_3  MANUFACTURER_4  \\\n",
       "0  1111009477               1               0               0               0   \n",
       "1  1111009497               1               0               0               0   \n",
       "2  1111009507               1               0               0               0   \n",
       "3  1111038078               1               0               0               0   \n",
       "4  1111038080               1               0               0               0   \n",
       "\n",
       "   MANUFACTURER_5  MANUFACTURER_6  MANUFACTURER_7  MANUFACTURER_8  \\\n",
       "0               0               0               0               0   \n",
       "1               0               0               0               0   \n",
       "2               0               0               0               0   \n",
       "3               0               0               0               0   \n",
       "4               0               0               0               0   \n",
       "\n",
       "   MANUFACTURER_9  ...  CATEGORY_3  CATEGORY_4  SUB_CATEGORY_1  \\\n",
       "0               0  ...           0           0               1   \n",
       "1               0  ...           0           0               1   \n",
       "2               0  ...           0           0               1   \n",
       "3               0  ...           0           0               0   \n",
       "4               0  ...           0           0               0   \n",
       "\n",
       "   SUB_CATEGORY_2  SUB_CATEGORY_3  SUB_CATEGORY_4  SUB_CATEGORY_5  \\\n",
       "0               0               0               0               0   \n",
       "1               0               0               0               0   \n",
       "2               0               0               0               0   \n",
       "3               1               0               0               0   \n",
       "4               1               0               0               0   \n",
       "\n",
       "   SUB_CATEGORY_6  SUB_CATEGORY_7  PRODUCT_SIZE  \n",
       "0               0               0             2  \n",
       "1               0               0             2  \n",
       "2               0               0             2  \n",
       "3               0               0             1  \n",
       "4               0               0             1  \n",
       "\n",
       "[5 rows x 22 columns]"
      ]
     },
     "execution_count": 26,
     "metadata": {},
     "output_type": "execute_result"
    }
   ],
   "source": [
    "# Look at updated data.\n",
    "products.head()"
   ]
  },
  {
   "cell_type": "code",
   "execution_count": 27,
   "metadata": {},
   "outputs": [
    {
     "data": {
      "text/plain": [
       "(30, 22)"
      ]
     },
     "execution_count": 27,
     "metadata": {},
     "output_type": "execute_result"
    }
   ],
   "source": [
    "# Shape of the updated data.\n",
    "products.shape"
   ]
  },
  {
   "cell_type": "code",
   "execution_count": 28,
   "metadata": {},
   "outputs": [
    {
     "data": {
      "text/plain": [
       "Index(['UPC', 'MANUFACTURER_1', 'MANUFACTURER_2', 'MANUFACTURER_3',\n",
       "       'MANUFACTURER_4', 'MANUFACTURER_5', 'MANUFACTURER_6', 'MANUFACTURER_7',\n",
       "       'MANUFACTURER_8', 'MANUFACTURER_9', 'CATEGORY_1', 'CATEGORY_2',\n",
       "       'CATEGORY_3', 'CATEGORY_4', 'SUB_CATEGORY_1', 'SUB_CATEGORY_2',\n",
       "       'SUB_CATEGORY_3', 'SUB_CATEGORY_4', 'SUB_CATEGORY_5', 'SUB_CATEGORY_6',\n",
       "       'SUB_CATEGORY_7', 'PRODUCT_SIZE'],\n",
       "      dtype='object')"
      ]
     },
     "execution_count": 28,
     "metadata": {},
     "output_type": "execute_result"
    }
   ],
   "source": [
    "# Columns of the updated data.\n",
    "products.columns"
   ]
  },
  {
   "cell_type": "markdown",
   "metadata": {},
   "source": [
    "---\n",
    "#### `DATASET 3: STORES`\n",
    "\n",
    "- **STORE_ID** - store number\n",
    "- **STORE_NAME** - Name of store\n",
    "- **ADDRESS_CITY_NAME** - city\n",
    "- **ADDRESS_STATE_PROV_CODE** - state\n",
    "- **MSA_CODE** - (Metropolitan Statistical Area) Based on geographic region and population density\n",
    "- **SEG_VALUE_NAME** - Store Segment Name\n",
    "- **PARKING_SPACE_QTY** - number of parking spaces in the store parking lot\n",
    "- **SALES_AREA_SIZE_NUM** - square footage of store\n",
    "- **AVG_WEEKLY_BASKETS** - average weekly baskets sold in the store\n",
    "\n",
    "---"
   ]
  },
  {
   "cell_type": "code",
   "execution_count": 29,
   "metadata": {},
   "outputs": [],
   "source": [
    "# Read the store data.\n",
    "stores = pd.read_csv('data/store_data.csv')"
   ]
  },
  {
   "cell_type": "code",
   "execution_count": 30,
   "metadata": {},
   "outputs": [
    {
     "data": {
      "text/html": [
       "<div>\n",
       "<style scoped>\n",
       "    .dataframe tbody tr th:only-of-type {\n",
       "        vertical-align: middle;\n",
       "    }\n",
       "\n",
       "    .dataframe tbody tr th {\n",
       "        vertical-align: top;\n",
       "    }\n",
       "\n",
       "    .dataframe thead th {\n",
       "        text-align: right;\n",
       "    }\n",
       "</style>\n",
       "<table border=\"1\" class=\"dataframe\">\n",
       "  <thead>\n",
       "    <tr style=\"text-align: right;\">\n",
       "      <th></th>\n",
       "      <th>STORE_ID</th>\n",
       "      <th>STORE_NAME</th>\n",
       "      <th>ADDRESS_CITY_NAME</th>\n",
       "      <th>ADDRESS_STATE_PROV_CODE</th>\n",
       "      <th>MSA_CODE</th>\n",
       "      <th>SEG_VALUE_NAME</th>\n",
       "      <th>PARKING_SPACE_QTY</th>\n",
       "      <th>SALES_AREA_SIZE_NUM</th>\n",
       "      <th>AVG_WEEKLY_BASKETS</th>\n",
       "    </tr>\n",
       "  </thead>\n",
       "  <tbody>\n",
       "    <tr>\n",
       "      <td>0</td>\n",
       "      <td>367</td>\n",
       "      <td>15TH &amp; MADISON</td>\n",
       "      <td>COVINGTON</td>\n",
       "      <td>KY</td>\n",
       "      <td>17140</td>\n",
       "      <td>VALUE</td>\n",
       "      <td>196.0</td>\n",
       "      <td>24721</td>\n",
       "      <td>12707</td>\n",
       "    </tr>\n",
       "    <tr>\n",
       "      <td>1</td>\n",
       "      <td>389</td>\n",
       "      <td>SILVERLAKE</td>\n",
       "      <td>ERLANGER</td>\n",
       "      <td>KY</td>\n",
       "      <td>17140</td>\n",
       "      <td>MAINSTREAM</td>\n",
       "      <td>408.0</td>\n",
       "      <td>46073</td>\n",
       "      <td>24767</td>\n",
       "    </tr>\n",
       "    <tr>\n",
       "      <td>2</td>\n",
       "      <td>613</td>\n",
       "      <td>EAST ALLEN</td>\n",
       "      <td>ALLEN</td>\n",
       "      <td>TX</td>\n",
       "      <td>19100</td>\n",
       "      <td>MAINSTREAM</td>\n",
       "      <td>464.0</td>\n",
       "      <td>64926</td>\n",
       "      <td>29386</td>\n",
       "    </tr>\n",
       "    <tr>\n",
       "      <td>3</td>\n",
       "      <td>623</td>\n",
       "      <td>HOUSTON</td>\n",
       "      <td>HOUSTON</td>\n",
       "      <td>TX</td>\n",
       "      <td>26420</td>\n",
       "      <td>MAINSTREAM</td>\n",
       "      <td>NaN</td>\n",
       "      <td>46930</td>\n",
       "      <td>36741</td>\n",
       "    </tr>\n",
       "    <tr>\n",
       "      <td>4</td>\n",
       "      <td>2277</td>\n",
       "      <td>ANDERSON TOWNE CTR</td>\n",
       "      <td>CINCINNATI</td>\n",
       "      <td>OH</td>\n",
       "      <td>17140</td>\n",
       "      <td>UPSCALE</td>\n",
       "      <td>NaN</td>\n",
       "      <td>81958</td>\n",
       "      <td>54053</td>\n",
       "    </tr>\n",
       "  </tbody>\n",
       "</table>\n",
       "</div>"
      ],
      "text/plain": [
       "   STORE_ID          STORE_NAME ADDRESS_CITY_NAME ADDRESS_STATE_PROV_CODE  \\\n",
       "0       367      15TH & MADISON         COVINGTON                      KY   \n",
       "1       389          SILVERLAKE          ERLANGER                      KY   \n",
       "2       613          EAST ALLEN             ALLEN                      TX   \n",
       "3       623             HOUSTON           HOUSTON                      TX   \n",
       "4      2277  ANDERSON TOWNE CTR        CINCINNATI                      OH   \n",
       "\n",
       "   MSA_CODE SEG_VALUE_NAME  PARKING_SPACE_QTY  SALES_AREA_SIZE_NUM  \\\n",
       "0     17140          VALUE              196.0                24721   \n",
       "1     17140     MAINSTREAM              408.0                46073   \n",
       "2     19100     MAINSTREAM              464.0                64926   \n",
       "3     26420     MAINSTREAM                NaN                46930   \n",
       "4     17140        UPSCALE                NaN                81958   \n",
       "\n",
       "   AVG_WEEKLY_BASKETS  \n",
       "0               12707  \n",
       "1               24767  \n",
       "2               29386  \n",
       "3               36741  \n",
       "4               54053  "
      ]
     },
     "execution_count": 30,
     "metadata": {},
     "output_type": "execute_result"
    }
   ],
   "source": [
    "stores.head()"
   ]
  },
  {
   "cell_type": "markdown",
   "metadata": {},
   "source": [
    "---\n",
    "\n",
    "### 'STORES' dataframe has the following categorical features:\n",
    "\n",
    "    - STORE_ID\n",
    "    - STORE_NAME\n",
    "    - ADDRESS_CITY_NAME\n",
    "    - ADDRESS_STATE_PROV_CODE\n",
    "    - MSA_CODE\n",
    "    - SEG_VALUE_NAME\n",
    "    \n",
    "---    "
   ]
  },
  {
   "cell_type": "code",
   "execution_count": 31,
   "metadata": {},
   "outputs": [
    {
     "data": {
      "text/plain": [
       "(76, 9)"
      ]
     },
     "execution_count": 31,
     "metadata": {},
     "output_type": "execute_result"
    }
   ],
   "source": [
    "# Shape of the store data.\n",
    "stores.shape"
   ]
  },
  {
   "cell_type": "code",
   "execution_count": 32,
   "metadata": {},
   "outputs": [
    {
     "data": {
      "text/plain": [
       "STORE_ID                   0\n",
       "STORE_NAME                 0\n",
       "ADDRESS_CITY_NAME          0\n",
       "ADDRESS_STATE_PROV_CODE    0\n",
       "MSA_CODE                   0\n",
       "SEG_VALUE_NAME             0\n",
       "dtype: int64"
      ]
     },
     "execution_count": 32,
     "metadata": {},
     "output_type": "execute_result"
    }
   ],
   "source": [
    "# Check for the null values.\n",
    "stores[['STORE_ID', 'STORE_NAME', 'ADDRESS_CITY_NAME', 'ADDRESS_STATE_PROV_CODE', 'MSA_CODE', 'SEG_VALUE_NAME']].isna().sum()"
   ]
  },
  {
   "cell_type": "code",
   "execution_count": 33,
   "metadata": {},
   "outputs": [
    {
     "data": {
      "text/plain": [
       "72"
      ]
     },
     "execution_count": 33,
     "metadata": {},
     "output_type": "execute_result"
    }
   ],
   "source": [
    "# Number of unique store names.\n",
    "stores.STORE_NAME.nunique()"
   ]
  },
  {
   "cell_type": "code",
   "execution_count": 34,
   "metadata": {},
   "outputs": [
    {
     "data": {
      "text/plain": [
       "51"
      ]
     },
     "execution_count": 34,
     "metadata": {},
     "output_type": "execute_result"
    }
   ],
   "source": [
    "# Number of unique city names.\n",
    "stores.ADDRESS_CITY_NAME.nunique()"
   ]
  },
  {
   "cell_type": "code",
   "execution_count": 35,
   "metadata": {},
   "outputs": [
    {
     "data": {
      "text/plain": [
       "4"
      ]
     },
     "execution_count": 35,
     "metadata": {},
     "output_type": "execute_result"
    }
   ],
   "source": [
    "# Number of unique state provision code.\n",
    "stores.ADDRESS_STATE_PROV_CODE.nunique()"
   ]
  },
  {
   "cell_type": "code",
   "execution_count": 36,
   "metadata": {},
   "outputs": [
    {
     "data": {
      "text/plain": [
       "9"
      ]
     },
     "execution_count": 36,
     "metadata": {},
     "output_type": "execute_result"
    }
   ],
   "source": [
    "# Number of unique MSA codes.\n",
    "stores.MSA_CODE.nunique()"
   ]
  },
  {
   "cell_type": "code",
   "execution_count": 37,
   "metadata": {},
   "outputs": [
    {
     "data": {
      "text/plain": [
       "3"
      ]
     },
     "execution_count": 37,
     "metadata": {},
     "output_type": "execute_result"
    }
   ],
   "source": [
    "# Number of unique segment value names.\n",
    "stores.SEG_VALUE_NAME.nunique()"
   ]
  },
  {
   "cell_type": "markdown",
   "metadata": {},
   "source": [
    "---\n",
    "\n",
    "   - `STORE_ID` - No changes required as it is a key and will be used to merge files later.\n",
    "   - `STORE_NAME` - Since, Out of 76 different stores we have 72 unique store names. Store name contains some location information of the store which we have in the form of address city name and state.\n",
    "   - `ADDRESS_CITY_NAME` - Since, Out of 76 different stores we have 51 unique address city names, So we will drop this feature due to high cardinality\n",
    "   - `ADDRESS_STATE_PROV_CODE`, `MSA_CODE` - As, there is no order in the given categories, So, we will One Hot Encode this variable.\n",
    "   - `SEG_VALUE_NAME` - Stores segments are divided into 3 categories: upscale, mainstream and value. Upscale stores are just what they sound like; they are normally located in high income neighborhoods and offer more high-end product. Mainstream is middle of the road, mostly located in middle class areas, offering a mix of upscale and value product. Value stores cater more to low income customers, so there will be more focus on low prices than anything else.\n",
    "   \n",
    "   So we will map `VALUE AS 1`, `MAINSTREAM AS 2` and `UPSCALE AS 3`."
   ]
  },
  {
   "cell_type": "code",
   "execution_count": 38,
   "metadata": {},
   "outputs": [],
   "source": [
    "# Drop unnecessary store name and address.\n",
    "stores = stores.drop(columns=['STORE_NAME', 'ADDRESS_CITY_NAME'])"
   ]
  },
  {
   "cell_type": "code",
   "execution_count": 39,
   "metadata": {},
   "outputs": [],
   "source": [
    "# OneHotEncode the rest of the categorical features.\n",
    "OHE = ce.OneHotEncoder(cols=['ADDRESS_STATE_PROV_CODE', 'MSA_CODE'])\n",
    "\n",
    "stores.SEG_VALUE_NAME = stores.SEG_VALUE_NAME.map({'VALUE': 1, 'MAINSTREAM' : 2, 'UPSCALE': 3})"
   ]
  },
  {
   "cell_type": "code",
   "execution_count": 40,
   "metadata": {},
   "outputs": [],
   "source": [
    "# Transform the data.\n",
    "stores = OHE.fit_transform(stores)"
   ]
  },
  {
   "cell_type": "code",
   "execution_count": 41,
   "metadata": {},
   "outputs": [
    {
     "data": {
      "text/html": [
       "<div>\n",
       "<style scoped>\n",
       "    .dataframe tbody tr th:only-of-type {\n",
       "        vertical-align: middle;\n",
       "    }\n",
       "\n",
       "    .dataframe tbody tr th {\n",
       "        vertical-align: top;\n",
       "    }\n",
       "\n",
       "    .dataframe thead th {\n",
       "        text-align: right;\n",
       "    }\n",
       "</style>\n",
       "<table border=\"1\" class=\"dataframe\">\n",
       "  <thead>\n",
       "    <tr style=\"text-align: right;\">\n",
       "      <th></th>\n",
       "      <th>STORE_ID</th>\n",
       "      <th>ADDRESS_STATE_PROV_CODE_1</th>\n",
       "      <th>ADDRESS_STATE_PROV_CODE_2</th>\n",
       "      <th>ADDRESS_STATE_PROV_CODE_3</th>\n",
       "      <th>ADDRESS_STATE_PROV_CODE_4</th>\n",
       "      <th>MSA_CODE_1</th>\n",
       "      <th>MSA_CODE_2</th>\n",
       "      <th>MSA_CODE_3</th>\n",
       "      <th>MSA_CODE_4</th>\n",
       "      <th>MSA_CODE_5</th>\n",
       "      <th>MSA_CODE_6</th>\n",
       "      <th>MSA_CODE_7</th>\n",
       "      <th>MSA_CODE_8</th>\n",
       "      <th>MSA_CODE_9</th>\n",
       "      <th>SEG_VALUE_NAME</th>\n",
       "      <th>PARKING_SPACE_QTY</th>\n",
       "      <th>SALES_AREA_SIZE_NUM</th>\n",
       "      <th>AVG_WEEKLY_BASKETS</th>\n",
       "    </tr>\n",
       "  </thead>\n",
       "  <tbody>\n",
       "    <tr>\n",
       "      <td>0</td>\n",
       "      <td>367</td>\n",
       "      <td>1</td>\n",
       "      <td>0</td>\n",
       "      <td>0</td>\n",
       "      <td>0</td>\n",
       "      <td>1</td>\n",
       "      <td>0</td>\n",
       "      <td>0</td>\n",
       "      <td>0</td>\n",
       "      <td>0</td>\n",
       "      <td>0</td>\n",
       "      <td>0</td>\n",
       "      <td>0</td>\n",
       "      <td>0</td>\n",
       "      <td>1</td>\n",
       "      <td>196.0</td>\n",
       "      <td>24721</td>\n",
       "      <td>12707</td>\n",
       "    </tr>\n",
       "    <tr>\n",
       "      <td>1</td>\n",
       "      <td>389</td>\n",
       "      <td>1</td>\n",
       "      <td>0</td>\n",
       "      <td>0</td>\n",
       "      <td>0</td>\n",
       "      <td>1</td>\n",
       "      <td>0</td>\n",
       "      <td>0</td>\n",
       "      <td>0</td>\n",
       "      <td>0</td>\n",
       "      <td>0</td>\n",
       "      <td>0</td>\n",
       "      <td>0</td>\n",
       "      <td>0</td>\n",
       "      <td>2</td>\n",
       "      <td>408.0</td>\n",
       "      <td>46073</td>\n",
       "      <td>24767</td>\n",
       "    </tr>\n",
       "    <tr>\n",
       "      <td>2</td>\n",
       "      <td>613</td>\n",
       "      <td>0</td>\n",
       "      <td>1</td>\n",
       "      <td>0</td>\n",
       "      <td>0</td>\n",
       "      <td>0</td>\n",
       "      <td>1</td>\n",
       "      <td>0</td>\n",
       "      <td>0</td>\n",
       "      <td>0</td>\n",
       "      <td>0</td>\n",
       "      <td>0</td>\n",
       "      <td>0</td>\n",
       "      <td>0</td>\n",
       "      <td>2</td>\n",
       "      <td>464.0</td>\n",
       "      <td>64926</td>\n",
       "      <td>29386</td>\n",
       "    </tr>\n",
       "    <tr>\n",
       "      <td>3</td>\n",
       "      <td>623</td>\n",
       "      <td>0</td>\n",
       "      <td>1</td>\n",
       "      <td>0</td>\n",
       "      <td>0</td>\n",
       "      <td>0</td>\n",
       "      <td>0</td>\n",
       "      <td>1</td>\n",
       "      <td>0</td>\n",
       "      <td>0</td>\n",
       "      <td>0</td>\n",
       "      <td>0</td>\n",
       "      <td>0</td>\n",
       "      <td>0</td>\n",
       "      <td>2</td>\n",
       "      <td>NaN</td>\n",
       "      <td>46930</td>\n",
       "      <td>36741</td>\n",
       "    </tr>\n",
       "    <tr>\n",
       "      <td>4</td>\n",
       "      <td>2277</td>\n",
       "      <td>0</td>\n",
       "      <td>0</td>\n",
       "      <td>1</td>\n",
       "      <td>0</td>\n",
       "      <td>1</td>\n",
       "      <td>0</td>\n",
       "      <td>0</td>\n",
       "      <td>0</td>\n",
       "      <td>0</td>\n",
       "      <td>0</td>\n",
       "      <td>0</td>\n",
       "      <td>0</td>\n",
       "      <td>0</td>\n",
       "      <td>3</td>\n",
       "      <td>NaN</td>\n",
       "      <td>81958</td>\n",
       "      <td>54053</td>\n",
       "    </tr>\n",
       "  </tbody>\n",
       "</table>\n",
       "</div>"
      ],
      "text/plain": [
       "   STORE_ID  ADDRESS_STATE_PROV_CODE_1  ADDRESS_STATE_PROV_CODE_2  \\\n",
       "0       367                          1                          0   \n",
       "1       389                          1                          0   \n",
       "2       613                          0                          1   \n",
       "3       623                          0                          1   \n",
       "4      2277                          0                          0   \n",
       "\n",
       "   ADDRESS_STATE_PROV_CODE_3  ADDRESS_STATE_PROV_CODE_4  MSA_CODE_1  \\\n",
       "0                          0                          0           1   \n",
       "1                          0                          0           1   \n",
       "2                          0                          0           0   \n",
       "3                          0                          0           0   \n",
       "4                          1                          0           1   \n",
       "\n",
       "   MSA_CODE_2  MSA_CODE_3  MSA_CODE_4  MSA_CODE_5  MSA_CODE_6  MSA_CODE_7  \\\n",
       "0           0           0           0           0           0           0   \n",
       "1           0           0           0           0           0           0   \n",
       "2           1           0           0           0           0           0   \n",
       "3           0           1           0           0           0           0   \n",
       "4           0           0           0           0           0           0   \n",
       "\n",
       "   MSA_CODE_8  MSA_CODE_9  SEG_VALUE_NAME  PARKING_SPACE_QTY  \\\n",
       "0           0           0               1              196.0   \n",
       "1           0           0               2              408.0   \n",
       "2           0           0               2              464.0   \n",
       "3           0           0               2                NaN   \n",
       "4           0           0               3                NaN   \n",
       "\n",
       "   SALES_AREA_SIZE_NUM  AVG_WEEKLY_BASKETS  \n",
       "0                24721               12707  \n",
       "1                46073               24767  \n",
       "2                64926               29386  \n",
       "3                46930               36741  \n",
       "4                81958               54053  "
      ]
     },
     "execution_count": 41,
     "metadata": {},
     "output_type": "execute_result"
    }
   ],
   "source": [
    "# Examine updated data.\n",
    "stores.head()"
   ]
  },
  {
   "cell_type": "code",
   "execution_count": 42,
   "metadata": {},
   "outputs": [
    {
     "data": {
      "text/plain": [
       "(76, 18)"
      ]
     },
     "execution_count": 42,
     "metadata": {},
     "output_type": "execute_result"
    }
   ],
   "source": [
    "# Shape of the updated data.\n",
    "stores.shape"
   ]
  },
  {
   "cell_type": "code",
   "execution_count": 43,
   "metadata": {},
   "outputs": [
    {
     "data": {
      "text/plain": [
       "Index(['STORE_ID', 'ADDRESS_STATE_PROV_CODE_1', 'ADDRESS_STATE_PROV_CODE_2',\n",
       "       'ADDRESS_STATE_PROV_CODE_3', 'ADDRESS_STATE_PROV_CODE_4', 'MSA_CODE_1',\n",
       "       'MSA_CODE_2', 'MSA_CODE_3', 'MSA_CODE_4', 'MSA_CODE_5', 'MSA_CODE_6',\n",
       "       'MSA_CODE_7', 'MSA_CODE_8', 'MSA_CODE_9', 'SEG_VALUE_NAME',\n",
       "       'PARKING_SPACE_QTY', 'SALES_AREA_SIZE_NUM', 'AVG_WEEKLY_BASKETS'],\n",
       "      dtype='object')"
      ]
     },
     "execution_count": 43,
     "metadata": {},
     "output_type": "execute_result"
    }
   ],
   "source": [
    "# Columns of the updated data.\n",
    "stores.columns"
   ]
  },
  {
   "cell_type": "code",
   "execution_count": 44,
   "metadata": {},
   "outputs": [
    {
     "data": {
      "text/plain": [
       "STORE_ID                       367.0\n",
       "ADDRESS_STATE_PROV_CODE_1        1.0\n",
       "ADDRESS_STATE_PROV_CODE_2        0.0\n",
       "ADDRESS_STATE_PROV_CODE_3        0.0\n",
       "ADDRESS_STATE_PROV_CODE_4        0.0\n",
       "MSA_CODE_1                       1.0\n",
       "MSA_CODE_2                       0.0\n",
       "MSA_CODE_3                       0.0\n",
       "MSA_CODE_4                       0.0\n",
       "MSA_CODE_5                       0.0\n",
       "MSA_CODE_6                       0.0\n",
       "MSA_CODE_7                       0.0\n",
       "MSA_CODE_8                       0.0\n",
       "MSA_CODE_9                       0.0\n",
       "SEG_VALUE_NAME                   1.0\n",
       "PARKING_SPACE_QTY              196.0\n",
       "SALES_AREA_SIZE_NUM          24721.0\n",
       "AVG_WEEKLY_BASKETS           12707.0\n",
       "Name: 0, dtype: float64"
      ]
     },
     "execution_count": 44,
     "metadata": {},
     "output_type": "execute_result"
    }
   ],
   "source": [
    "stores.loc[0]"
   ]
  },
  {
   "cell_type": "code",
   "execution_count": null,
   "metadata": {},
   "outputs": [],
   "source": []
  },
  {
   "cell_type": "markdown",
   "metadata": {},
   "source": [
    "---\n",
    "\n",
    "#### PREPROCESSING: NUMERICAL FEATURES\n",
    "\n",
    "- Check and impute the missing values in the numerical features.\n",
    "- Check for the outliers and treat them.\n",
    "\n",
    "---"
   ]
  },
  {
   "cell_type": "markdown",
   "metadata": {},
   "source": [
    "---\n",
    "\n",
    "### DATASET 1: SALES dataframe.\n",
    "\n",
    "---"
   ]
  },
  {
   "cell_type": "code",
   "execution_count": 45,
   "metadata": {},
   "outputs": [
    {
     "data": {
      "text/html": [
       "<div>\n",
       "<style scoped>\n",
       "    .dataframe tbody tr th:only-of-type {\n",
       "        vertical-align: middle;\n",
       "    }\n",
       "\n",
       "    .dataframe tbody tr th {\n",
       "        vertical-align: top;\n",
       "    }\n",
       "\n",
       "    .dataframe thead th {\n",
       "        text-align: right;\n",
       "    }\n",
       "</style>\n",
       "<table border=\"1\" class=\"dataframe\">\n",
       "  <thead>\n",
       "    <tr style=\"text-align: right;\">\n",
       "      <th></th>\n",
       "      <th>WEEK_END_DATE</th>\n",
       "      <th>STORE_NUM</th>\n",
       "      <th>UPC</th>\n",
       "      <th>PRICE</th>\n",
       "      <th>BASE_PRICE</th>\n",
       "      <th>FEATURE</th>\n",
       "      <th>DISPLAY</th>\n",
       "      <th>UNITS</th>\n",
       "    </tr>\n",
       "  </thead>\n",
       "  <tbody>\n",
       "    <tr>\n",
       "      <td>0</td>\n",
       "      <td>13-Jan-16</td>\n",
       "      <td>367</td>\n",
       "      <td>1111009477</td>\n",
       "      <td>1.39</td>\n",
       "      <td>1.57</td>\n",
       "      <td>0</td>\n",
       "      <td>0</td>\n",
       "      <td>13</td>\n",
       "    </tr>\n",
       "    <tr>\n",
       "      <td>1</td>\n",
       "      <td>13-Jan-16</td>\n",
       "      <td>367</td>\n",
       "      <td>1111009497</td>\n",
       "      <td>1.39</td>\n",
       "      <td>1.39</td>\n",
       "      <td>0</td>\n",
       "      <td>0</td>\n",
       "      <td>20</td>\n",
       "    </tr>\n",
       "    <tr>\n",
       "      <td>2</td>\n",
       "      <td>13-Jan-16</td>\n",
       "      <td>367</td>\n",
       "      <td>1111085319</td>\n",
       "      <td>1.88</td>\n",
       "      <td>1.88</td>\n",
       "      <td>0</td>\n",
       "      <td>0</td>\n",
       "      <td>14</td>\n",
       "    </tr>\n",
       "    <tr>\n",
       "      <td>3</td>\n",
       "      <td>13-Jan-16</td>\n",
       "      <td>367</td>\n",
       "      <td>1111085345</td>\n",
       "      <td>1.88</td>\n",
       "      <td>1.88</td>\n",
       "      <td>0</td>\n",
       "      <td>0</td>\n",
       "      <td>29</td>\n",
       "    </tr>\n",
       "    <tr>\n",
       "      <td>4</td>\n",
       "      <td>13-Jan-16</td>\n",
       "      <td>367</td>\n",
       "      <td>1111085350</td>\n",
       "      <td>1.98</td>\n",
       "      <td>1.98</td>\n",
       "      <td>0</td>\n",
       "      <td>0</td>\n",
       "      <td>35</td>\n",
       "    </tr>\n",
       "  </tbody>\n",
       "</table>\n",
       "</div>"
      ],
      "text/plain": [
       "  WEEK_END_DATE  STORE_NUM         UPC  PRICE  BASE_PRICE  FEATURE  DISPLAY  \\\n",
       "0     13-Jan-16        367  1111009477   1.39        1.57        0        0   \n",
       "1     13-Jan-16        367  1111009497   1.39        1.39        0        0   \n",
       "2     13-Jan-16        367  1111085319   1.88        1.88        0        0   \n",
       "3     13-Jan-16        367  1111085345   1.88        1.88        0        0   \n",
       "4     13-Jan-16        367  1111085350   1.98        1.98        0        0   \n",
       "\n",
       "   UNITS  \n",
       "0     13  \n",
       "1     20  \n",
       "2     14  \n",
       "3     29  \n",
       "4     35  "
      ]
     },
     "execution_count": 45,
     "metadata": {},
     "output_type": "execute_result"
    }
   ],
   "source": [
    "sales.head()"
   ]
  },
  {
   "cell_type": "markdown",
   "metadata": {},
   "source": [
    "---\n",
    "\n",
    "#### `SALES` dataframe has the following numerical features:\n",
    "\n",
    "    - BASE_PRICE\n",
    "    - UNITS (Target)\n",
    "    \n",
    "---    "
   ]
  },
  {
   "cell_type": "markdown",
   "metadata": {},
   "source": [
    " - `BASE_PRICE` - Missing Value Imputation\n",
    "---"
   ]
  },
  {
   "cell_type": "code",
   "execution_count": 46,
   "metadata": {},
   "outputs": [
    {
     "data": {
      "text/plain": [
       "BASE_PRICE    12\n",
       "UNITS          0\n",
       "dtype: int64"
      ]
     },
     "execution_count": 46,
     "metadata": {},
     "output_type": "execute_result"
    }
   ],
   "source": [
    "# Check the null values for the numerical features.\n",
    "sales[[ 'BASE_PRICE', 'UNITS']].isna().sum()"
   ]
  },
  {
   "cell_type": "markdown",
   "metadata": {},
   "source": [
    "***Imputing the missing values in the Base Price***\n",
    "\n",
    "---"
   ]
  },
  {
   "cell_type": "code",
   "execution_count": 47,
   "metadata": {},
   "outputs": [],
   "source": [
    "# Create a new dataframe which will have \"average base price\" for the combination of STORE_NUM and UPC. Will be used to impute missing values.\n",
    "avg_price = sales.groupby(['STORE_NUM', 'UPC'])['BASE_PRICE'].mean().reset_index()"
   ]
  },
  {
   "cell_type": "code",
   "execution_count": 48,
   "metadata": {},
   "outputs": [
    {
     "data": {
      "text/html": [
       "<div>\n",
       "<style scoped>\n",
       "    .dataframe tbody tr th:only-of-type {\n",
       "        vertical-align: middle;\n",
       "    }\n",
       "\n",
       "    .dataframe tbody tr th {\n",
       "        vertical-align: top;\n",
       "    }\n",
       "\n",
       "    .dataframe thead th {\n",
       "        text-align: right;\n",
       "    }\n",
       "</style>\n",
       "<table border=\"1\" class=\"dataframe\">\n",
       "  <thead>\n",
       "    <tr style=\"text-align: right;\">\n",
       "      <th></th>\n",
       "      <th>STORE_NUM</th>\n",
       "      <th>UPC</th>\n",
       "      <th>BASE_PRICE</th>\n",
       "    </tr>\n",
       "  </thead>\n",
       "  <tbody>\n",
       "    <tr>\n",
       "      <td>0</td>\n",
       "      <td>367</td>\n",
       "      <td>1111009477</td>\n",
       "      <td>1.489859</td>\n",
       "    </tr>\n",
       "    <tr>\n",
       "      <td>1</td>\n",
       "      <td>367</td>\n",
       "      <td>1111009497</td>\n",
       "      <td>1.490634</td>\n",
       "    </tr>\n",
       "    <tr>\n",
       "      <td>2</td>\n",
       "      <td>367</td>\n",
       "      <td>1111085319</td>\n",
       "      <td>1.843451</td>\n",
       "    </tr>\n",
       "    <tr>\n",
       "      <td>3</td>\n",
       "      <td>367</td>\n",
       "      <td>1111085345</td>\n",
       "      <td>1.827183</td>\n",
       "    </tr>\n",
       "    <tr>\n",
       "      <td>4</td>\n",
       "      <td>367</td>\n",
       "      <td>1111085350</td>\n",
       "      <td>2.322113</td>\n",
       "    </tr>\n",
       "    <tr>\n",
       "      <td>...</td>\n",
       "      <td>...</td>\n",
       "      <td>...</td>\n",
       "      <td>...</td>\n",
       "    </tr>\n",
       "    <tr>\n",
       "      <td>1639</td>\n",
       "      <td>29159</td>\n",
       "      <td>7192100336</td>\n",
       "      <td>6.494965</td>\n",
       "    </tr>\n",
       "    <tr>\n",
       "      <td>1640</td>\n",
       "      <td>29159</td>\n",
       "      <td>7192100337</td>\n",
       "      <td>6.496312</td>\n",
       "    </tr>\n",
       "    <tr>\n",
       "      <td>1641</td>\n",
       "      <td>29159</td>\n",
       "      <td>7192100339</td>\n",
       "      <td>6.504085</td>\n",
       "    </tr>\n",
       "    <tr>\n",
       "      <td>1642</td>\n",
       "      <td>29159</td>\n",
       "      <td>7797502248</td>\n",
       "      <td>2.445634</td>\n",
       "    </tr>\n",
       "    <tr>\n",
       "      <td>1643</td>\n",
       "      <td>29159</td>\n",
       "      <td>7797508004</td>\n",
       "      <td>2.952606</td>\n",
       "    </tr>\n",
       "  </tbody>\n",
       "</table>\n",
       "<p>1644 rows × 3 columns</p>\n",
       "</div>"
      ],
      "text/plain": [
       "      STORE_NUM         UPC  BASE_PRICE\n",
       "0           367  1111009477    1.489859\n",
       "1           367  1111009497    1.490634\n",
       "2           367  1111085319    1.843451\n",
       "3           367  1111085345    1.827183\n",
       "4           367  1111085350    2.322113\n",
       "...         ...         ...         ...\n",
       "1639      29159  7192100336    6.494965\n",
       "1640      29159  7192100337    6.496312\n",
       "1641      29159  7192100339    6.504085\n",
       "1642      29159  7797502248    2.445634\n",
       "1643      29159  7797508004    2.952606\n",
       "\n",
       "[1644 rows x 3 columns]"
      ]
     },
     "execution_count": 48,
     "metadata": {},
     "output_type": "execute_result"
    }
   ],
   "source": [
    "avg_price"
   ]
  },
  {
   "cell_type": "code",
   "execution_count": 49,
   "metadata": {},
   "outputs": [
    {
     "data": {
      "text/html": [
       "<div>\n",
       "<style scoped>\n",
       "    .dataframe tbody tr th:only-of-type {\n",
       "        vertical-align: middle;\n",
       "    }\n",
       "\n",
       "    .dataframe tbody tr th {\n",
       "        vertical-align: top;\n",
       "    }\n",
       "\n",
       "    .dataframe thead th {\n",
       "        text-align: right;\n",
       "    }\n",
       "</style>\n",
       "<table border=\"1\" class=\"dataframe\">\n",
       "  <thead>\n",
       "    <tr style=\"text-align: right;\">\n",
       "      <th></th>\n",
       "      <th>WEEK_END_DATE</th>\n",
       "      <th>STORE_NUM</th>\n",
       "      <th>UPC</th>\n",
       "      <th>PRICE</th>\n",
       "      <th>BASE_PRICE</th>\n",
       "      <th>FEATURE</th>\n",
       "      <th>DISPLAY</th>\n",
       "      <th>UNITS</th>\n",
       "    </tr>\n",
       "  </thead>\n",
       "  <tbody>\n",
       "    <tr>\n",
       "      <td>279</td>\n",
       "      <td>13-Jan-16</td>\n",
       "      <td>4245</td>\n",
       "      <td>1111087395</td>\n",
       "      <td>3.32</td>\n",
       "      <td>NaN</td>\n",
       "      <td>0</td>\n",
       "      <td>1</td>\n",
       "      <td>56</td>\n",
       "    </tr>\n",
       "    <tr>\n",
       "      <td>280</td>\n",
       "      <td>13-Jan-16</td>\n",
       "      <td>4245</td>\n",
       "      <td>1111087398</td>\n",
       "      <td>3.31</td>\n",
       "      <td>NaN</td>\n",
       "      <td>0</td>\n",
       "      <td>1</td>\n",
       "      <td>72</td>\n",
       "    </tr>\n",
       "    <tr>\n",
       "      <td>301</td>\n",
       "      <td>13-Jan-16</td>\n",
       "      <td>4259</td>\n",
       "      <td>1111087395</td>\n",
       "      <td>3.33</td>\n",
       "      <td>NaN</td>\n",
       "      <td>0</td>\n",
       "      <td>1</td>\n",
       "      <td>52</td>\n",
       "    </tr>\n",
       "    <tr>\n",
       "      <td>303</td>\n",
       "      <td>13-Jan-16</td>\n",
       "      <td>4259</td>\n",
       "      <td>1111087398</td>\n",
       "      <td>3.39</td>\n",
       "      <td>NaN</td>\n",
       "      <td>0</td>\n",
       "      <td>1</td>\n",
       "      <td>52</td>\n",
       "    </tr>\n",
       "    <tr>\n",
       "      <td>1918</td>\n",
       "      <td>20-Jan-16</td>\n",
       "      <td>4245</td>\n",
       "      <td>1111087395</td>\n",
       "      <td>3.30</td>\n",
       "      <td>NaN</td>\n",
       "      <td>0</td>\n",
       "      <td>1</td>\n",
       "      <td>52</td>\n",
       "    </tr>\n",
       "    <tr>\n",
       "      <td>1919</td>\n",
       "      <td>20-Jan-16</td>\n",
       "      <td>4245</td>\n",
       "      <td>1111087398</td>\n",
       "      <td>3.28</td>\n",
       "      <td>NaN</td>\n",
       "      <td>0</td>\n",
       "      <td>1</td>\n",
       "      <td>82</td>\n",
       "    </tr>\n",
       "    <tr>\n",
       "      <td>1940</td>\n",
       "      <td>20-Jan-16</td>\n",
       "      <td>4259</td>\n",
       "      <td>1111087395</td>\n",
       "      <td>3.33</td>\n",
       "      <td>NaN</td>\n",
       "      <td>0</td>\n",
       "      <td>1</td>\n",
       "      <td>28</td>\n",
       "    </tr>\n",
       "    <tr>\n",
       "      <td>3555</td>\n",
       "      <td>27-Jan-16</td>\n",
       "      <td>4245</td>\n",
       "      <td>1111087395</td>\n",
       "      <td>3.37</td>\n",
       "      <td>NaN</td>\n",
       "      <td>1</td>\n",
       "      <td>1</td>\n",
       "      <td>45</td>\n",
       "    </tr>\n",
       "    <tr>\n",
       "      <td>3556</td>\n",
       "      <td>27-Jan-16</td>\n",
       "      <td>4245</td>\n",
       "      <td>1111087398</td>\n",
       "      <td>3.34</td>\n",
       "      <td>NaN</td>\n",
       "      <td>1</td>\n",
       "      <td>1</td>\n",
       "      <td>34</td>\n",
       "    </tr>\n",
       "    <tr>\n",
       "      <td>3577</td>\n",
       "      <td>27-Jan-16</td>\n",
       "      <td>4259</td>\n",
       "      <td>1111087395</td>\n",
       "      <td>3.27</td>\n",
       "      <td>NaN</td>\n",
       "      <td>1</td>\n",
       "      <td>1</td>\n",
       "      <td>31</td>\n",
       "    </tr>\n",
       "    <tr>\n",
       "      <td>5191</td>\n",
       "      <td>3-Feb-16</td>\n",
       "      <td>4245</td>\n",
       "      <td>1111087395</td>\n",
       "      <td>3.32</td>\n",
       "      <td>NaN</td>\n",
       "      <td>0</td>\n",
       "      <td>1</td>\n",
       "      <td>54</td>\n",
       "    </tr>\n",
       "    <tr>\n",
       "      <td>5192</td>\n",
       "      <td>3-Feb-16</td>\n",
       "      <td>4245</td>\n",
       "      <td>1111087398</td>\n",
       "      <td>3.29</td>\n",
       "      <td>NaN</td>\n",
       "      <td>0</td>\n",
       "      <td>1</td>\n",
       "      <td>66</td>\n",
       "    </tr>\n",
       "  </tbody>\n",
       "</table>\n",
       "</div>"
      ],
      "text/plain": [
       "     WEEK_END_DATE  STORE_NUM         UPC  PRICE  BASE_PRICE  FEATURE  \\\n",
       "279      13-Jan-16       4245  1111087395   3.32         NaN        0   \n",
       "280      13-Jan-16       4245  1111087398   3.31         NaN        0   \n",
       "301      13-Jan-16       4259  1111087395   3.33         NaN        0   \n",
       "303      13-Jan-16       4259  1111087398   3.39         NaN        0   \n",
       "1918     20-Jan-16       4245  1111087395   3.30         NaN        0   \n",
       "1919     20-Jan-16       4245  1111087398   3.28         NaN        0   \n",
       "1940     20-Jan-16       4259  1111087395   3.33         NaN        0   \n",
       "3555     27-Jan-16       4245  1111087395   3.37         NaN        1   \n",
       "3556     27-Jan-16       4245  1111087398   3.34         NaN        1   \n",
       "3577     27-Jan-16       4259  1111087395   3.27         NaN        1   \n",
       "5191      3-Feb-16       4245  1111087395   3.32         NaN        0   \n",
       "5192      3-Feb-16       4245  1111087398   3.29         NaN        0   \n",
       "\n",
       "      DISPLAY  UNITS  \n",
       "279         1     56  \n",
       "280         1     72  \n",
       "301         1     52  \n",
       "303         1     52  \n",
       "1918        1     52  \n",
       "1919        1     82  \n",
       "1940        1     28  \n",
       "3555        1     45  \n",
       "3556        1     34  \n",
       "3577        1     31  \n",
       "5191        1     54  \n",
       "5192        1     66  "
      ]
     },
     "execution_count": 49,
     "metadata": {},
     "output_type": "execute_result"
    }
   ],
   "source": [
    "# Look at null values in BASE PRICE.\n",
    "sales.loc[sales.BASE_PRICE.isna() == True]"
   ]
  },
  {
   "cell_type": "code",
   "execution_count": 50,
   "metadata": {},
   "outputs": [],
   "source": [
    "# Define function to fill missing 'BASE_PRICE' values.\n",
    "def fill_base_price(x) :\n",
    "    return avg_price.BASE_PRICE[(avg_price.STORE_NUM == x['STORE_NUM']) & (avg_price.UPC == x['UPC'])].values[0]"
   ]
  },
  {
   "cell_type": "code",
   "execution_count": 51,
   "metadata": {},
   "outputs": [],
   "source": [
    "# Use function to fill missing 'BASE_PRICE' values.\n",
    "sales.BASE_PRICE[sales.BASE_PRICE.isna() == True] = sales[sales.BASE_PRICE.isna() == True].apply(fill_base_price, axis=1)"
   ]
  },
  {
   "cell_type": "code",
   "execution_count": 52,
   "metadata": {},
   "outputs": [
    {
     "data": {
      "image/png": "[encoded data removed]",
      "text/plain": [
       "<Figure size 576x432 with 1 Axes>"
      ]
     },
     "metadata": {
      "needs_background": "light"
     },
     "output_type": "display_data"
    }
   ],
   "source": [
    "# Scatter plot for UNITS variable, sorted by target variable and scatter plot to see if there are outliers.  \n",
    "%matplotlib inline\n",
    "\n",
    "plt.figure(figsize=(8,6))\n",
    "plt.scatter(x = range(sales.shape[0]), y = np.sort(sales['UNITS'].values))\n",
    "plt.xlabel('Index', fontsize=12)\n",
    "plt.ylabel('Units Sold', fontsize=12)\n",
    "plt.show()"
   ]
  },
  {
   "cell_type": "code",
   "execution_count": 53,
   "metadata": {},
   "outputs": [
    {
     "data": {
      "text/plain": [
       "21"
      ]
     },
     "execution_count": 53,
     "metadata": {},
     "output_type": "execute_result"
    }
   ],
   "source": [
    "# Number of data points where units are more than 750\n",
    "sales['UNITS'][sales.UNITS > 750].shape[0]"
   ]
  },
  {
   "cell_type": "markdown",
   "metadata": {},
   "source": [
    "---\n",
    "\n",
    "***We can see that, there are a some points above where UNITS are more than 750 and there number is only 21. So, we can remove them as there number is only 21 and will not affect the data and these will act as a noise in the model.***\n",
    "\n",
    "---"
   ]
  },
  {
   "cell_type": "code",
   "execution_count": 54,
   "metadata": {},
   "outputs": [
    {
     "data": {
      "text/plain": [
       "(232287, 8)"
      ]
     },
     "execution_count": 54,
     "metadata": {},
     "output_type": "execute_result"
    }
   ],
   "source": [
    "sales.shape"
   ]
  },
  {
   "cell_type": "code",
   "execution_count": 55,
   "metadata": {},
   "outputs": [],
   "source": [
    "# Remove the values where UNITS are more than 750.\n",
    "sales = sales[~(sales.UNITS > 750)]"
   ]
  },
  {
   "cell_type": "code",
   "execution_count": 56,
   "metadata": {},
   "outputs": [
    {
     "data": {
      "text/plain": [
       "0"
      ]
     },
     "execution_count": 56,
     "metadata": {},
     "output_type": "execute_result"
    }
   ],
   "source": [
    "# Verify removal.\n",
    "sales[sales.UNITS > 750].shape[0]"
   ]
  },
  {
   "cell_type": "code",
   "execution_count": 57,
   "metadata": {},
   "outputs": [],
   "source": [
    "# Remove the values where UNITS is 0.\n",
    "sales = sales[~(sales.UNITS == 0)]"
   ]
  },
  {
   "cell_type": "code",
   "execution_count": 58,
   "metadata": {},
   "outputs": [
    {
     "data": {
      "text/plain": [
       "0"
      ]
     },
     "execution_count": 58,
     "metadata": {},
     "output_type": "execute_result"
    }
   ],
   "source": [
    "# Verify removal.\n",
    "sales[sales.UNITS == 0].shape[0]"
   ]
  },
  {
   "cell_type": "code",
   "execution_count": 59,
   "metadata": {},
   "outputs": [],
   "source": [
    "# Fill missing PRICE with BASE_PRICE.\n",
    "sales.loc[sales['PRICE'].isnull(),'PRICE'] = sales['BASE_PRICE']"
   ]
  },
  {
   "cell_type": "code",
   "execution_count": 60,
   "metadata": {},
   "outputs": [],
   "source": [
    "# Verify removal."
   ]
  },
  {
   "cell_type": "code",
   "execution_count": 61,
   "metadata": {},
   "outputs": [
    {
     "data": {
      "text/plain": [
       "0"
      ]
     },
     "execution_count": 61,
     "metadata": {},
     "output_type": "execute_result"
    }
   ],
   "source": [
    "sales.isnull().sum().sum()"
   ]
  },
  {
   "cell_type": "markdown",
   "metadata": {},
   "source": [
    "---\n",
    "\n",
    "#### DATASET 2: `PRODUCTS` dataframe\n",
    "\n",
    "---"
   ]
  },
  {
   "cell_type": "code",
   "execution_count": 62,
   "metadata": {},
   "outputs": [
    {
     "data": {
      "text/html": [
       "<div>\n",
       "<style scoped>\n",
       "    .dataframe tbody tr th:only-of-type {\n",
       "        vertical-align: middle;\n",
       "    }\n",
       "\n",
       "    .dataframe tbody tr th {\n",
       "        vertical-align: top;\n",
       "    }\n",
       "\n",
       "    .dataframe thead th {\n",
       "        text-align: right;\n",
       "    }\n",
       "</style>\n",
       "<table border=\"1\" class=\"dataframe\">\n",
       "  <thead>\n",
       "    <tr style=\"text-align: right;\">\n",
       "      <th></th>\n",
       "      <th>UPC</th>\n",
       "      <th>MANUFACTURER_1</th>\n",
       "      <th>MANUFACTURER_2</th>\n",
       "      <th>MANUFACTURER_3</th>\n",
       "      <th>MANUFACTURER_4</th>\n",
       "      <th>MANUFACTURER_5</th>\n",
       "      <th>MANUFACTURER_6</th>\n",
       "      <th>MANUFACTURER_7</th>\n",
       "      <th>MANUFACTURER_8</th>\n",
       "      <th>MANUFACTURER_9</th>\n",
       "      <th>...</th>\n",
       "      <th>CATEGORY_3</th>\n",
       "      <th>CATEGORY_4</th>\n",
       "      <th>SUB_CATEGORY_1</th>\n",
       "      <th>SUB_CATEGORY_2</th>\n",
       "      <th>SUB_CATEGORY_3</th>\n",
       "      <th>SUB_CATEGORY_4</th>\n",
       "      <th>SUB_CATEGORY_5</th>\n",
       "      <th>SUB_CATEGORY_6</th>\n",
       "      <th>SUB_CATEGORY_7</th>\n",
       "      <th>PRODUCT_SIZE</th>\n",
       "    </tr>\n",
       "  </thead>\n",
       "  <tbody>\n",
       "    <tr>\n",
       "      <td>0</td>\n",
       "      <td>1111009477</td>\n",
       "      <td>1</td>\n",
       "      <td>0</td>\n",
       "      <td>0</td>\n",
       "      <td>0</td>\n",
       "      <td>0</td>\n",
       "      <td>0</td>\n",
       "      <td>0</td>\n",
       "      <td>0</td>\n",
       "      <td>0</td>\n",
       "      <td>...</td>\n",
       "      <td>0</td>\n",
       "      <td>0</td>\n",
       "      <td>1</td>\n",
       "      <td>0</td>\n",
       "      <td>0</td>\n",
       "      <td>0</td>\n",
       "      <td>0</td>\n",
       "      <td>0</td>\n",
       "      <td>0</td>\n",
       "      <td>2</td>\n",
       "    </tr>\n",
       "    <tr>\n",
       "      <td>1</td>\n",
       "      <td>1111009497</td>\n",
       "      <td>1</td>\n",
       "      <td>0</td>\n",
       "      <td>0</td>\n",
       "      <td>0</td>\n",
       "      <td>0</td>\n",
       "      <td>0</td>\n",
       "      <td>0</td>\n",
       "      <td>0</td>\n",
       "      <td>0</td>\n",
       "      <td>...</td>\n",
       "      <td>0</td>\n",
       "      <td>0</td>\n",
       "      <td>1</td>\n",
       "      <td>0</td>\n",
       "      <td>0</td>\n",
       "      <td>0</td>\n",
       "      <td>0</td>\n",
       "      <td>0</td>\n",
       "      <td>0</td>\n",
       "      <td>2</td>\n",
       "    </tr>\n",
       "    <tr>\n",
       "      <td>2</td>\n",
       "      <td>1111009507</td>\n",
       "      <td>1</td>\n",
       "      <td>0</td>\n",
       "      <td>0</td>\n",
       "      <td>0</td>\n",
       "      <td>0</td>\n",
       "      <td>0</td>\n",
       "      <td>0</td>\n",
       "      <td>0</td>\n",
       "      <td>0</td>\n",
       "      <td>...</td>\n",
       "      <td>0</td>\n",
       "      <td>0</td>\n",
       "      <td>1</td>\n",
       "      <td>0</td>\n",
       "      <td>0</td>\n",
       "      <td>0</td>\n",
       "      <td>0</td>\n",
       "      <td>0</td>\n",
       "      <td>0</td>\n",
       "      <td>2</td>\n",
       "    </tr>\n",
       "    <tr>\n",
       "      <td>3</td>\n",
       "      <td>1111038078</td>\n",
       "      <td>1</td>\n",
       "      <td>0</td>\n",
       "      <td>0</td>\n",
       "      <td>0</td>\n",
       "      <td>0</td>\n",
       "      <td>0</td>\n",
       "      <td>0</td>\n",
       "      <td>0</td>\n",
       "      <td>0</td>\n",
       "      <td>...</td>\n",
       "      <td>0</td>\n",
       "      <td>0</td>\n",
       "      <td>0</td>\n",
       "      <td>1</td>\n",
       "      <td>0</td>\n",
       "      <td>0</td>\n",
       "      <td>0</td>\n",
       "      <td>0</td>\n",
       "      <td>0</td>\n",
       "      <td>1</td>\n",
       "    </tr>\n",
       "    <tr>\n",
       "      <td>4</td>\n",
       "      <td>1111038080</td>\n",
       "      <td>1</td>\n",
       "      <td>0</td>\n",
       "      <td>0</td>\n",
       "      <td>0</td>\n",
       "      <td>0</td>\n",
       "      <td>0</td>\n",
       "      <td>0</td>\n",
       "      <td>0</td>\n",
       "      <td>0</td>\n",
       "      <td>...</td>\n",
       "      <td>0</td>\n",
       "      <td>0</td>\n",
       "      <td>0</td>\n",
       "      <td>1</td>\n",
       "      <td>0</td>\n",
       "      <td>0</td>\n",
       "      <td>0</td>\n",
       "      <td>0</td>\n",
       "      <td>0</td>\n",
       "      <td>1</td>\n",
       "    </tr>\n",
       "  </tbody>\n",
       "</table>\n",
       "<p>5 rows × 22 columns</p>\n",
       "</div>"
      ],
      "text/plain": [
       "          UPC  MANUFACTURER_1  MANUFACTURER_2  MANUFACTURER_3  MANUFACTURER_4  \\\n",
       "0  1111009477               1               0               0               0   \n",
       "1  1111009497               1               0               0               0   \n",
       "2  1111009507               1               0               0               0   \n",
       "3  1111038078               1               0               0               0   \n",
       "4  1111038080               1               0               0               0   \n",
       "\n",
       "   MANUFACTURER_5  MANUFACTURER_6  MANUFACTURER_7  MANUFACTURER_8  \\\n",
       "0               0               0               0               0   \n",
       "1               0               0               0               0   \n",
       "2               0               0               0               0   \n",
       "3               0               0               0               0   \n",
       "4               0               0               0               0   \n",
       "\n",
       "   MANUFACTURER_9  ...  CATEGORY_3  CATEGORY_4  SUB_CATEGORY_1  \\\n",
       "0               0  ...           0           0               1   \n",
       "1               0  ...           0           0               1   \n",
       "2               0  ...           0           0               1   \n",
       "3               0  ...           0           0               0   \n",
       "4               0  ...           0           0               0   \n",
       "\n",
       "   SUB_CATEGORY_2  SUB_CATEGORY_3  SUB_CATEGORY_4  SUB_CATEGORY_5  \\\n",
       "0               0               0               0               0   \n",
       "1               0               0               0               0   \n",
       "2               0               0               0               0   \n",
       "3               1               0               0               0   \n",
       "4               1               0               0               0   \n",
       "\n",
       "   SUB_CATEGORY_6  SUB_CATEGORY_7  PRODUCT_SIZE  \n",
       "0               0               0             2  \n",
       "1               0               0             2  \n",
       "2               0               0             2  \n",
       "3               0               0             1  \n",
       "4               0               0             1  \n",
       "\n",
       "[5 rows x 22 columns]"
      ]
     },
     "execution_count": 62,
     "metadata": {},
     "output_type": "execute_result"
    }
   ],
   "source": [
    "# Examine the PRODUCTS dataframe.\n",
    "products.head()"
   ]
  },
  {
   "cell_type": "markdown",
   "metadata": {},
   "source": [
    "---\n",
    "\n",
    "##### **PRODUCTS dataframe has no numerical features.**\n",
    "    \n",
    "---    "
   ]
  },
  {
   "cell_type": "markdown",
   "metadata": {},
   "source": [
    "---\n",
    "\n",
    "#### DATASET 3: STORES dataframe\n",
    "\n",
    "---"
   ]
  },
  {
   "cell_type": "code",
   "execution_count": 63,
   "metadata": {},
   "outputs": [
    {
     "data": {
      "text/html": [
       "<div>\n",
       "<style scoped>\n",
       "    .dataframe tbody tr th:only-of-type {\n",
       "        vertical-align: middle;\n",
       "    }\n",
       "\n",
       "    .dataframe tbody tr th {\n",
       "        vertical-align: top;\n",
       "    }\n",
       "\n",
       "    .dataframe thead th {\n",
       "        text-align: right;\n",
       "    }\n",
       "</style>\n",
       "<table border=\"1\" class=\"dataframe\">\n",
       "  <thead>\n",
       "    <tr style=\"text-align: right;\">\n",
       "      <th></th>\n",
       "      <th>STORE_ID</th>\n",
       "      <th>ADDRESS_STATE_PROV_CODE_1</th>\n",
       "      <th>ADDRESS_STATE_PROV_CODE_2</th>\n",
       "      <th>ADDRESS_STATE_PROV_CODE_3</th>\n",
       "      <th>ADDRESS_STATE_PROV_CODE_4</th>\n",
       "      <th>MSA_CODE_1</th>\n",
       "      <th>MSA_CODE_2</th>\n",
       "      <th>MSA_CODE_3</th>\n",
       "      <th>MSA_CODE_4</th>\n",
       "      <th>MSA_CODE_5</th>\n",
       "      <th>MSA_CODE_6</th>\n",
       "      <th>MSA_CODE_7</th>\n",
       "      <th>MSA_CODE_8</th>\n",
       "      <th>MSA_CODE_9</th>\n",
       "      <th>SEG_VALUE_NAME</th>\n",
       "      <th>PARKING_SPACE_QTY</th>\n",
       "      <th>SALES_AREA_SIZE_NUM</th>\n",
       "      <th>AVG_WEEKLY_BASKETS</th>\n",
       "    </tr>\n",
       "  </thead>\n",
       "  <tbody>\n",
       "    <tr>\n",
       "      <td>0</td>\n",
       "      <td>367</td>\n",
       "      <td>1</td>\n",
       "      <td>0</td>\n",
       "      <td>0</td>\n",
       "      <td>0</td>\n",
       "      <td>1</td>\n",
       "      <td>0</td>\n",
       "      <td>0</td>\n",
       "      <td>0</td>\n",
       "      <td>0</td>\n",
       "      <td>0</td>\n",
       "      <td>0</td>\n",
       "      <td>0</td>\n",
       "      <td>0</td>\n",
       "      <td>1</td>\n",
       "      <td>196.0</td>\n",
       "      <td>24721</td>\n",
       "      <td>12707</td>\n",
       "    </tr>\n",
       "    <tr>\n",
       "      <td>1</td>\n",
       "      <td>389</td>\n",
       "      <td>1</td>\n",
       "      <td>0</td>\n",
       "      <td>0</td>\n",
       "      <td>0</td>\n",
       "      <td>1</td>\n",
       "      <td>0</td>\n",
       "      <td>0</td>\n",
       "      <td>0</td>\n",
       "      <td>0</td>\n",
       "      <td>0</td>\n",
       "      <td>0</td>\n",
       "      <td>0</td>\n",
       "      <td>0</td>\n",
       "      <td>2</td>\n",
       "      <td>408.0</td>\n",
       "      <td>46073</td>\n",
       "      <td>24767</td>\n",
       "    </tr>\n",
       "    <tr>\n",
       "      <td>2</td>\n",
       "      <td>613</td>\n",
       "      <td>0</td>\n",
       "      <td>1</td>\n",
       "      <td>0</td>\n",
       "      <td>0</td>\n",
       "      <td>0</td>\n",
       "      <td>1</td>\n",
       "      <td>0</td>\n",
       "      <td>0</td>\n",
       "      <td>0</td>\n",
       "      <td>0</td>\n",
       "      <td>0</td>\n",
       "      <td>0</td>\n",
       "      <td>0</td>\n",
       "      <td>2</td>\n",
       "      <td>464.0</td>\n",
       "      <td>64926</td>\n",
       "      <td>29386</td>\n",
       "    </tr>\n",
       "    <tr>\n",
       "      <td>3</td>\n",
       "      <td>623</td>\n",
       "      <td>0</td>\n",
       "      <td>1</td>\n",
       "      <td>0</td>\n",
       "      <td>0</td>\n",
       "      <td>0</td>\n",
       "      <td>0</td>\n",
       "      <td>1</td>\n",
       "      <td>0</td>\n",
       "      <td>0</td>\n",
       "      <td>0</td>\n",
       "      <td>0</td>\n",
       "      <td>0</td>\n",
       "      <td>0</td>\n",
       "      <td>2</td>\n",
       "      <td>NaN</td>\n",
       "      <td>46930</td>\n",
       "      <td>36741</td>\n",
       "    </tr>\n",
       "    <tr>\n",
       "      <td>4</td>\n",
       "      <td>2277</td>\n",
       "      <td>0</td>\n",
       "      <td>0</td>\n",
       "      <td>1</td>\n",
       "      <td>0</td>\n",
       "      <td>1</td>\n",
       "      <td>0</td>\n",
       "      <td>0</td>\n",
       "      <td>0</td>\n",
       "      <td>0</td>\n",
       "      <td>0</td>\n",
       "      <td>0</td>\n",
       "      <td>0</td>\n",
       "      <td>0</td>\n",
       "      <td>3</td>\n",
       "      <td>NaN</td>\n",
       "      <td>81958</td>\n",
       "      <td>54053</td>\n",
       "    </tr>\n",
       "  </tbody>\n",
       "</table>\n",
       "</div>"
      ],
      "text/plain": [
       "   STORE_ID  ADDRESS_STATE_PROV_CODE_1  ADDRESS_STATE_PROV_CODE_2  \\\n",
       "0       367                          1                          0   \n",
       "1       389                          1                          0   \n",
       "2       613                          0                          1   \n",
       "3       623                          0                          1   \n",
       "4      2277                          0                          0   \n",
       "\n",
       "   ADDRESS_STATE_PROV_CODE_3  ADDRESS_STATE_PROV_CODE_4  MSA_CODE_1  \\\n",
       "0                          0                          0           1   \n",
       "1                          0                          0           1   \n",
       "2                          0                          0           0   \n",
       "3                          0                          0           0   \n",
       "4                          1                          0           1   \n",
       "\n",
       "   MSA_CODE_2  MSA_CODE_3  MSA_CODE_4  MSA_CODE_5  MSA_CODE_6  MSA_CODE_7  \\\n",
       "0           0           0           0           0           0           0   \n",
       "1           0           0           0           0           0           0   \n",
       "2           1           0           0           0           0           0   \n",
       "3           0           1           0           0           0           0   \n",
       "4           0           0           0           0           0           0   \n",
       "\n",
       "   MSA_CODE_8  MSA_CODE_9  SEG_VALUE_NAME  PARKING_SPACE_QTY  \\\n",
       "0           0           0               1              196.0   \n",
       "1           0           0               2              408.0   \n",
       "2           0           0               2              464.0   \n",
       "3           0           0               2                NaN   \n",
       "4           0           0               3                NaN   \n",
       "\n",
       "   SALES_AREA_SIZE_NUM  AVG_WEEKLY_BASKETS  \n",
       "0                24721               12707  \n",
       "1                46073               24767  \n",
       "2                64926               29386  \n",
       "3                46930               36741  \n",
       "4                81958               54053  "
      ]
     },
     "execution_count": 63,
     "metadata": {},
     "output_type": "execute_result"
    }
   ],
   "source": [
    "# Examine the STORES dataframe.\n",
    "stores.head()"
   ]
  },
  {
   "cell_type": "markdown",
   "metadata": {},
   "source": [
    "---\n",
    "\n",
    "#### STORES dataframe has the following numerical features:\n",
    "\n",
    "    - PARKING_SPACE_QTY\n",
    "    - SALES_AREA_SIZE_NUM\n",
    "    - AVG_WEEKLY_BASKETS\n",
    "    \n",
    "---    "
   ]
  },
  {
   "cell_type": "code",
   "execution_count": 64,
   "metadata": {},
   "outputs": [
    {
     "data": {
      "text/plain": [
       "(76, 18)"
      ]
     },
     "execution_count": 64,
     "metadata": {},
     "output_type": "execute_result"
    }
   ],
   "source": [
    "# Shape of the data.\n",
    "stores.shape"
   ]
  },
  {
   "cell_type": "code",
   "execution_count": 65,
   "metadata": {},
   "outputs": [
    {
     "data": {
      "text/plain": [
       "PARKING_SPACE_QTY      51\n",
       "SALES_AREA_SIZE_NUM     0\n",
       "AVG_WEEKLY_BASKETS      0\n",
       "dtype: int64"
      ]
     },
     "execution_count": 65,
     "metadata": {},
     "output_type": "execute_result"
    }
   ],
   "source": [
    "# Check for the null values.\n",
    "stores[['PARKING_SPACE_QTY', 'SALES_AREA_SIZE_NUM', 'AVG_WEEKLY_BASKETS']].isna().sum()"
   ]
  },
  {
   "cell_type": "markdown",
   "metadata": {},
   "source": [
    "---\n",
    "- `PARKING_SPACE_QTY` - Has 51 null values. Check its correlation with the `SALES_AREA_SIZE_NUM`\n",
    "\n",
    "---"
   ]
  },
  {
   "cell_type": "code",
   "execution_count": 66,
   "metadata": {},
   "outputs": [
    {
     "data": {
      "text/html": [
       "<div>\n",
       "<style scoped>\n",
       "    .dataframe tbody tr th:only-of-type {\n",
       "        vertical-align: middle;\n",
       "    }\n",
       "\n",
       "    .dataframe tbody tr th {\n",
       "        vertical-align: top;\n",
       "    }\n",
       "\n",
       "    .dataframe thead th {\n",
       "        text-align: right;\n",
       "    }\n",
       "</style>\n",
       "<table border=\"1\" class=\"dataframe\">\n",
       "  <thead>\n",
       "    <tr style=\"text-align: right;\">\n",
       "      <th></th>\n",
       "      <th>PARKING_SPACE_QTY</th>\n",
       "      <th>SALES_AREA_SIZE_NUM</th>\n",
       "    </tr>\n",
       "  </thead>\n",
       "  <tbody>\n",
       "    <tr>\n",
       "      <td>PARKING_SPACE_QTY</td>\n",
       "      <td>1.000000</td>\n",
       "      <td>0.763274</td>\n",
       "    </tr>\n",
       "    <tr>\n",
       "      <td>SALES_AREA_SIZE_NUM</td>\n",
       "      <td>0.763274</td>\n",
       "      <td>1.000000</td>\n",
       "    </tr>\n",
       "  </tbody>\n",
       "</table>\n",
       "</div>"
      ],
      "text/plain": [
       "                     PARKING_SPACE_QTY  SALES_AREA_SIZE_NUM\n",
       "PARKING_SPACE_QTY             1.000000             0.763274\n",
       "SALES_AREA_SIZE_NUM           0.763274             1.000000"
      ]
     },
     "execution_count": 66,
     "metadata": {},
     "output_type": "execute_result"
    }
   ],
   "source": [
    "# Check correlation\n",
    "stores[['PARKING_SPACE_QTY','SALES_AREA_SIZE_NUM']].corr()"
   ]
  },
  {
   "cell_type": "markdown",
   "metadata": {},
   "source": [
    "***Note:*** Since the correlation of the **PARKING_SPACE_QTY** with **SALES_AREA_SIZE_NUM** is high so we can drop this column as it will not add much value to the model.\n",
    "\n",
    "---"
   ]
  },
  {
   "cell_type": "code",
   "execution_count": 67,
   "metadata": {},
   "outputs": [],
   "source": [
    "# Drop the PARKING_SPACE_QTY column.\n",
    "stores = stores.drop(columns=['PARKING_SPACE_QTY'])"
   ]
  },
  {
   "cell_type": "code",
   "execution_count": 68,
   "metadata": {},
   "outputs": [
    {
     "data": {
      "text/plain": [
       "WEEK_END_DATE    0\n",
       "STORE_NUM        0\n",
       "UPC              0\n",
       "PRICE            0\n",
       "BASE_PRICE       0\n",
       "FEATURE          0\n",
       "DISPLAY          0\n",
       "UNITS            0\n",
       "dtype: int64"
      ]
     },
     "execution_count": 68,
     "metadata": {},
     "output_type": "execute_result"
    }
   ],
   "source": [
    "sales.isnull().sum()"
   ]
  },
  {
   "cell_type": "markdown",
   "metadata": {},
   "source": [
    "---\n",
    "### `SAVE THE UPDATED FILES`\n",
    "\n",
    "---"
   ]
  },
  {
   "cell_type": "code",
   "execution_count": 69,
   "metadata": {},
   "outputs": [],
   "source": [
    "sales.to_csv('data/salesdf.csv',index=False)\n",
    "products.to_csv('data/productsdf.csv',index=False)\n",
    "stores.to_csv('data/storesdf.csv',index=False)"
   ]
  },
  {
   "cell_type": "code",
   "execution_count": null,
   "metadata": {},
   "outputs": [],
   "source": []
  }
 ],
 "metadata": {
  "kernelspec": {
   "display_name": "Python 3",
   "language": "python",
   "name": "python3"
  },
  "language_info": {
   "codemirror_mode": {
    "name": "ipython",
    "version": 3
   },
   "file_extension": ".py",
   "mimetype": "text/x-python",
   "name": "python",
   "nbconvert_exporter": "python",
   "pygments_lexer": "ipython3",
   "version": "3.7.4"
  }
 },
 "nbformat": 4,
 "nbformat_minor": 4
}
